{
 "cells": [
  {
   "cell_type": "code",
   "execution_count": 1,
   "id": "9b6ba258",
   "metadata": {
    "_cell_guid": "b1076dfc-b9ad-4769-8c92-a6c4dae69d19",
    "_uuid": "8f2839f25d086af736a60e9eeb907d3b93b6e0e5",
    "execution": {
     "iopub.execute_input": "2024-06-25T05:47:05.221701Z",
     "iopub.status.busy": "2024-06-25T05:47:05.221373Z",
     "iopub.status.idle": "2024-06-25T05:47:38.245026Z",
     "shell.execute_reply": "2024-06-25T05:47:38.243887Z"
    },
    "papermill": {
     "duration": 33.038445,
     "end_time": "2024-06-25T05:47:38.247341",
     "exception": false,
     "start_time": "2024-06-25T05:47:05.208896",
     "status": "completed"
    },
    "tags": []
   },
   "outputs": [],
   "source": [
    "!pip install -q transformers nltk tensorflow tensorflow-hub tensorflow_text"
   ]
  },
  {
   "cell_type": "code",
   "execution_count": 2,
   "id": "1a9f0b6a",
   "metadata": {
    "execution": {
     "iopub.execute_input": "2024-06-25T05:47:38.290826Z",
     "iopub.status.busy": "2024-06-25T05:47:38.290173Z",
     "iopub.status.idle": "2024-06-25T05:47:39.955990Z",
     "shell.execute_reply": "2024-06-25T05:47:39.954975Z"
    },
    "papermill": {
     "duration": 1.679469,
     "end_time": "2024-06-25T05:47:39.958346",
     "exception": false,
     "start_time": "2024-06-25T05:47:38.278877",
     "status": "completed"
    },
    "tags": []
   },
   "outputs": [
    {
     "name": "stderr",
     "output_type": "stream",
     "text": [
      "/opt/conda/lib/python3.10/site-packages/scipy/__init__.py:146: UserWarning: A NumPy version >=1.16.5 and <1.23.0 is required for this version of SciPy (detected version 1.24.3\n",
      "  warnings.warn(f\"A NumPy version >={np_minversion} and <{np_maxversion}\"\n"
     ]
    }
   ],
   "source": [
    "import pandas as pd\n",
    "import seaborn as sns\n",
    "from matplotlib import pyplot as plt"
   ]
  },
  {
   "cell_type": "code",
   "execution_count": 3,
   "id": "579ebff5",
   "metadata": {
    "execution": {
     "iopub.execute_input": "2024-06-25T05:47:40.002746Z",
     "iopub.status.busy": "2024-06-25T05:47:40.001893Z",
     "iopub.status.idle": "2024-06-25T05:47:40.021420Z",
     "shell.execute_reply": "2024-06-25T05:47:40.020734Z"
    },
    "papermill": {
     "duration": 0.033458,
     "end_time": "2024-06-25T05:47:40.023299",
     "exception": false,
     "start_time": "2024-06-25T05:47:39.989841",
     "status": "completed"
    },
    "tags": []
   },
   "outputs": [],
   "source": [
    "# train_prompt_file = \"/kaggle/input/llm-detect-ai-generated-text/train_prompts.csv\"\n",
    "# df_train_prompt = pd.read_csv(train_prompt_file)\n",
    "\n",
    "# train_essay_file = \"/kaggle/input/llm-detect-ai-generated-text/train_essays.csv\"\n",
    "# df_train_essay = pd.read_csv(train_essay_file)\n",
    "\n",
    "test_essay_file = \"/kaggle/input/llm-detect-ai-generated-text/test_essays.csv\"\n",
    "# train_ex = pd.read_csv('/kaggle/input/llm-detect-ai-generated-text/train_essays.csv')\n",
    "df_test_essay = pd.read_csv(test_essay_file)\n",
    "\n",
    "# sub_file = \"/kaggle/input/llm-detect-ai-generated-text/sample_submission.csv\"\n",
    "# df_sub = pd.read_csv(sub_file)"
   ]
  },
  {
   "cell_type": "code",
   "execution_count": 4,
   "id": "3ecb15e9",
   "metadata": {
    "execution": {
     "iopub.execute_input": "2024-06-25T05:47:40.046317Z",
     "iopub.status.busy": "2024-06-25T05:47:40.045865Z",
     "iopub.status.idle": "2024-06-25T05:47:41.991287Z",
     "shell.execute_reply": "2024-06-25T05:47:41.990538Z"
    },
    "papermill": {
     "duration": 1.958919,
     "end_time": "2024-06-25T05:47:41.993506",
     "exception": false,
     "start_time": "2024-06-25T05:47:40.034587",
     "status": "completed"
    },
    "tags": []
   },
   "outputs": [],
   "source": [
    "train_essay_ex_file = \"/kaggle/input/daigt-v2-train-dataset/train_v2_drcat_02.csv\"\n",
    "df_train_essay_ex = pd.read_csv(train_essay_ex_file)\n",
    "# df_train_essay_ex2 = pd.read_csv(train_essay_ex2_file)"
   ]
  },
  {
   "cell_type": "code",
   "execution_count": 5,
   "id": "82639721",
   "metadata": {
    "execution": {
     "iopub.execute_input": "2024-06-25T05:47:42.016428Z",
     "iopub.status.busy": "2024-06-25T05:47:42.016137Z",
     "iopub.status.idle": "2024-06-25T05:47:42.202483Z",
     "shell.execute_reply": "2024-06-25T05:47:42.201712Z"
    },
    "papermill": {
     "duration": 0.200435,
     "end_time": "2024-06-25T05:47:42.204764",
     "exception": false,
     "start_time": "2024-06-25T05:47:42.004329",
     "status": "completed"
    },
    "tags": []
   },
   "outputs": [],
   "source": [
    "# df_train_essay_ex_ = df_train_essay_ex[df_train_essay_ex.RDizzl3_seven == False].reset_index(drop=True)\n",
    "# df_train_essay_ex_ = df_train_essay_ex[df_train_essay_ex[\"label\"]==1].sample(8000)\n",
    "# df_train_essay_ex = df_train_essay_ex[df_train_essay_ex.RDizzl3_seven == True].reset_index(drop=True)\n",
    "# df_train_essay_ex = pd.concat([df_train_essay_ex, df_train_essay_ex_])\n",
    "df_train_essay_ex['text'] = df_train_essay_ex['text'].str.replace('\\n', '')\n",
    "df_test_essay['text'] = df_test_essay['text'].str.replace('\\n', '')\n",
    "# df_train_essay_ex['label'].value_counts()"
   ]
  },
  {
   "cell_type": "code",
   "execution_count": 6,
   "id": "9bd41971",
   "metadata": {
    "execution": {
     "iopub.execute_input": "2024-06-25T05:47:42.248369Z",
     "iopub.status.busy": "2024-06-25T05:47:42.247781Z",
     "iopub.status.idle": "2024-06-25T05:47:42.261563Z",
     "shell.execute_reply": "2024-06-25T05:47:42.260715Z"
    },
    "papermill": {
     "duration": 0.026885,
     "end_time": "2024-06-25T05:47:42.263414",
     "exception": false,
     "start_time": "2024-06-25T05:47:42.236529",
     "status": "completed"
    },
    "tags": []
   },
   "outputs": [
    {
     "data": {
      "text/plain": [
       "label\n",
       "0    27371\n",
       "1    17497\n",
       "Name: count, dtype: int64"
      ]
     },
     "execution_count": 6,
     "metadata": {},
     "output_type": "execute_result"
    }
   ],
   "source": [
    "# df_train_essay_ex.rename(columns = {\"label\":\"generated\"}, inplace=True)\n",
    "df_train_essay_ex['label'].value_counts()"
   ]
  },
  {
   "cell_type": "code",
   "execution_count": 7,
   "id": "123e39c7",
   "metadata": {
    "execution": {
     "iopub.execute_input": "2024-06-25T05:47:42.285710Z",
     "iopub.status.busy": "2024-06-25T05:47:42.285415Z",
     "iopub.status.idle": "2024-06-25T05:47:42.288973Z",
     "shell.execute_reply": "2024-06-25T05:47:42.288278Z"
    },
    "papermill": {
     "duration": 0.016818,
     "end_time": "2024-06-25T05:47:42.290967",
     "exception": false,
     "start_time": "2024-06-25T05:47:42.274149",
     "status": "completed"
    },
    "tags": []
   },
   "outputs": [],
   "source": [
    "# train_ex.rename(columns={'generated':'label'}, inplace= True)\n",
    "# train_ex"
   ]
  },
  {
   "cell_type": "code",
   "execution_count": 8,
   "id": "c8eaa9a5",
   "metadata": {
    "execution": {
     "iopub.execute_input": "2024-06-25T05:47:42.313451Z",
     "iopub.status.busy": "2024-06-25T05:47:42.313189Z",
     "iopub.status.idle": "2024-06-25T05:47:42.316875Z",
     "shell.execute_reply": "2024-06-25T05:47:42.316085Z"
    },
    "papermill": {
     "duration": 0.016967,
     "end_time": "2024-06-25T05:47:42.318717",
     "exception": false,
     "start_time": "2024-06-25T05:47:42.301750",
     "status": "completed"
    },
    "tags": []
   },
   "outputs": [],
   "source": [
    "# df_train_essay_ex2['label'].value_counts()"
   ]
  },
  {
   "cell_type": "code",
   "execution_count": 9,
   "id": "8d5abbae",
   "metadata": {
    "execution": {
     "iopub.execute_input": "2024-06-25T05:47:42.341269Z",
     "iopub.status.busy": "2024-06-25T05:47:42.340787Z",
     "iopub.status.idle": "2024-06-25T05:47:42.584707Z",
     "shell.execute_reply": "2024-06-25T05:47:42.583834Z"
    },
    "papermill": {
     "duration": 0.257229,
     "end_time": "2024-06-25T05:47:42.586791",
     "exception": false,
     "start_time": "2024-06-25T05:47:42.329562",
     "status": "completed"
    },
    "tags": []
   },
   "outputs": [
    {
     "data": {
      "text/plain": [
       "<function matplotlib.pyplot.show(close=None, block=None)>"
      ]
     },
     "execution_count": 9,
     "metadata": {},
     "output_type": "execute_result"
    },
    {
     "data": {
      "image/png": "[encoded data removed]",
      "text/plain": [
       "<Figure size 640x480 with 1 Axes>"
      ]
     },
     "metadata": {},
     "output_type": "display_data"
    }
   ],
   "source": [
    "sns.countplot(x=df_train_essay_ex['label'])\n",
    "plt.show"
   ]
  },
  {
   "cell_type": "code",
   "execution_count": 10,
   "id": "10da1879",
   "metadata": {
    "execution": {
     "iopub.execute_input": "2024-06-25T05:47:42.609898Z",
     "iopub.status.busy": "2024-06-25T05:47:42.609611Z",
     "iopub.status.idle": "2024-06-25T05:47:42.613260Z",
     "shell.execute_reply": "2024-06-25T05:47:42.612435Z"
    },
    "papermill": {
     "duration": 0.017208,
     "end_time": "2024-06-25T05:47:42.615092",
     "exception": false,
     "start_time": "2024-06-25T05:47:42.597884",
     "status": "completed"
    },
    "tags": []
   },
   "outputs": [],
   "source": [
    "# sns.countplot(x=df_train_essay_ex2['label'])\n",
    "# plt.show"
   ]
  },
  {
   "cell_type": "code",
   "execution_count": 11,
   "id": "af56748a",
   "metadata": {
    "execution": {
     "iopub.execute_input": "2024-06-25T05:47:42.659772Z",
     "iopub.status.busy": "2024-06-25T05:47:42.659244Z",
     "iopub.status.idle": "2024-06-25T05:47:42.675781Z",
     "shell.execute_reply": "2024-06-25T05:47:42.674975Z"
    },
    "papermill": {
     "duration": 0.03008,
     "end_time": "2024-06-25T05:47:42.677759",
     "exception": false,
     "start_time": "2024-06-25T05:47:42.647679",
     "status": "completed"
    },
    "tags": []
   },
   "outputs": [
    {
     "data": {
      "text/html": [
       "<div>\n",
       "<style scoped>\n",
       "    .dataframe tbody tr th:only-of-type {\n",
       "        vertical-align: middle;\n",
       "    }\n",
       "\n",
       "    .dataframe tbody tr th {\n",
       "        vertical-align: top;\n",
       "    }\n",
       "\n",
       "    .dataframe thead th {\n",
       "        text-align: right;\n",
       "    }\n",
       "</style>\n",
       "<table border=\"1\" class=\"dataframe\">\n",
       "  <thead>\n",
       "    <tr style=\"text-align: right;\">\n",
       "      <th></th>\n",
       "      <th>text</th>\n",
       "      <th>label</th>\n",
       "    </tr>\n",
       "  </thead>\n",
       "  <tbody>\n",
       "    <tr>\n",
       "      <th>0</th>\n",
       "      <td>PhonesModern humans today are always on their ...</td>\n",
       "      <td>0</td>\n",
       "    </tr>\n",
       "    <tr>\n",
       "      <th>1</th>\n",
       "      <td>This essay will explain if drivers should or s...</td>\n",
       "      <td>0</td>\n",
       "    </tr>\n",
       "    <tr>\n",
       "      <th>2</th>\n",
       "      <td>Driving while the use of cellular devicesToday...</td>\n",
       "      <td>0</td>\n",
       "    </tr>\n",
       "    <tr>\n",
       "      <th>3</th>\n",
       "      <td>Phones &amp; DrivingDrivers should not be able to ...</td>\n",
       "      <td>0</td>\n",
       "    </tr>\n",
       "    <tr>\n",
       "      <th>4</th>\n",
       "      <td>Cell Phone Operation While DrivingThe ability ...</td>\n",
       "      <td>0</td>\n",
       "    </tr>\n",
       "    <tr>\n",
       "      <th>...</th>\n",
       "      <td>...</td>\n",
       "      <td>...</td>\n",
       "    </tr>\n",
       "    <tr>\n",
       "      <th>44863</th>\n",
       "      <td>Dear Senator,I am writing to you today to expr...</td>\n",
       "      <td>1</td>\n",
       "    </tr>\n",
       "    <tr>\n",
       "      <th>44864</th>\n",
       "      <td>Dear Senator,I am writing to you today to expr...</td>\n",
       "      <td>1</td>\n",
       "    </tr>\n",
       "    <tr>\n",
       "      <th>44865</th>\n",
       "      <td>Dear Senator,I am writing to you today to expr...</td>\n",
       "      <td>1</td>\n",
       "    </tr>\n",
       "    <tr>\n",
       "      <th>44866</th>\n",
       "      <td>Dear Senator,I am writing to you today to expr...</td>\n",
       "      <td>1</td>\n",
       "    </tr>\n",
       "    <tr>\n",
       "      <th>44867</th>\n",
       "      <td>Dear Senator,I am writing to you today to expr...</td>\n",
       "      <td>1</td>\n",
       "    </tr>\n",
       "  </tbody>\n",
       "</table>\n",
       "<p>44868 rows × 2 columns</p>\n",
       "</div>"
      ],
      "text/plain": [
       "                                                    text  label\n",
       "0      PhonesModern humans today are always on their ...      0\n",
       "1      This essay will explain if drivers should or s...      0\n",
       "2      Driving while the use of cellular devicesToday...      0\n",
       "3      Phones & DrivingDrivers should not be able to ...      0\n",
       "4      Cell Phone Operation While DrivingThe ability ...      0\n",
       "...                                                  ...    ...\n",
       "44863  Dear Senator,I am writing to you today to expr...      1\n",
       "44864  Dear Senator,I am writing to you today to expr...      1\n",
       "44865  Dear Senator,I am writing to you today to expr...      1\n",
       "44866  Dear Senator,I am writing to you today to expr...      1\n",
       "44867  Dear Senator,I am writing to you today to expr...      1\n",
       "\n",
       "[44868 rows x 2 columns]"
      ]
     },
     "execution_count": 11,
     "metadata": {},
     "output_type": "execute_result"
    }
   ],
   "source": [
    "# df_train = pd.concat([df_train_essay_ex[[\"text\", \"label\"]],\n",
    "#                                    df_train_essay_ex2[[\"text\", \"label\"]]])\n",
    "# df_train = pd.concat([df_train_essay_ex[[\"text\", \"label\"]],\n",
    "#                                    train_ex[[\"text\", \"label\"]]])\n",
    "df_train = df_train_essay_ex[[\"text\", \"label\"]]\n",
    "df_train"
   ]
  },
  {
   "cell_type": "code",
   "execution_count": 12,
   "id": "6f5cf6fb",
   "metadata": {
    "execution": {
     "iopub.execute_input": "2024-06-25T05:47:42.702970Z",
     "iopub.status.busy": "2024-06-25T05:47:42.702377Z",
     "iopub.status.idle": "2024-06-25T05:47:42.722366Z",
     "shell.execute_reply": "2024-06-25T05:47:42.721335Z"
    },
    "papermill": {
     "duration": 0.034862,
     "end_time": "2024-06-25T05:47:42.724506",
     "exception": false,
     "start_time": "2024-06-25T05:47:42.689644",
     "status": "completed"
    },
    "tags": []
   },
   "outputs": [
    {
     "name": "stdout",
     "output_type": "stream",
     "text": [
      "<class 'pandas.core.frame.DataFrame'>\n",
      "RangeIndex: 44868 entries, 0 to 44867\n",
      "Data columns (total 2 columns):\n",
      " #   Column  Non-Null Count  Dtype \n",
      "---  ------  --------------  ----- \n",
      " 0   text    44868 non-null  object\n",
      " 1   label   44868 non-null  int64 \n",
      "dtypes: int64(1), object(1)\n",
      "memory usage: 701.2+ KB\n"
     ]
    }
   ],
   "source": [
    "df_train.info()"
   ]
  },
  {
   "cell_type": "code",
   "execution_count": 13,
   "id": "1e6bdb8d",
   "metadata": {
    "execution": {
     "iopub.execute_input": "2024-06-25T05:47:42.794304Z",
     "iopub.status.busy": "2024-06-25T05:47:42.793929Z",
     "iopub.status.idle": "2024-06-25T05:47:42.801348Z",
     "shell.execute_reply": "2024-06-25T05:47:42.800547Z"
    },
    "papermill": {
     "duration": 0.022321,
     "end_time": "2024-06-25T05:47:42.803217",
     "exception": false,
     "start_time": "2024-06-25T05:47:42.780896",
     "status": "completed"
    },
    "tags": []
   },
   "outputs": [
    {
     "data": {
      "text/plain": [
       "label\n",
       "0    27371\n",
       "1    17497\n",
       "Name: count, dtype: int64"
      ]
     },
     "execution_count": 13,
     "metadata": {},
     "output_type": "execute_result"
    }
   ],
   "source": [
    "df_train['label'].value_counts()"
   ]
  },
  {
   "cell_type": "code",
   "execution_count": 14,
   "id": "363cb7d3",
   "metadata": {
    "execution": {
     "iopub.execute_input": "2024-06-25T05:47:42.827135Z",
     "iopub.status.busy": "2024-06-25T05:47:42.826861Z",
     "iopub.status.idle": "2024-06-25T05:47:43.089780Z",
     "shell.execute_reply": "2024-06-25T05:47:43.088972Z"
    },
    "papermill": {
     "duration": 0.277387,
     "end_time": "2024-06-25T05:47:43.092021",
     "exception": false,
     "start_time": "2024-06-25T05:47:42.814634",
     "status": "completed"
    },
    "tags": []
   },
   "outputs": [
    {
     "data": {
      "text/plain": [
       "<function matplotlib.pyplot.show(close=None, block=None)>"
      ]
     },
     "execution_count": 14,
     "metadata": {},
     "output_type": "execute_result"
    },
    {
     "data": {
      "image/png": "[encoded data removed]",
      "text/plain": [
       "<Figure size 640x480 with 1 Axes>"
      ]
     },
     "metadata": {},
     "output_type": "display_data"
    }
   ],
   "source": [
    "sns.countplot(x=df_train['label'])\n",
    "plt.show"
   ]
  },
  {
   "cell_type": "code",
   "execution_count": 15,
   "id": "8867d901",
   "metadata": {
    "execution": {
     "iopub.execute_input": "2024-06-25T05:47:43.140969Z",
     "iopub.status.busy": "2024-06-25T05:47:43.140672Z",
     "iopub.status.idle": "2024-06-25T05:47:43.144933Z",
     "shell.execute_reply": "2024-06-25T05:47:43.144231Z"
    },
    "papermill": {
     "duration": 0.018888,
     "end_time": "2024-06-25T05:47:43.146751",
     "exception": false,
     "start_time": "2024-06-25T05:47:43.127863",
     "status": "completed"
    },
    "tags": []
   },
   "outputs": [],
   "source": [
    "# # Function to balance label counts\n",
    "# def undersample(df, label_column='generated'):\n",
    "#     label_counts = df[label_column].value_counts()\n",
    "#     min_count = label_counts.min()\n",
    "\n",
    "#     balanced_df = pd.DataFrame()\n",
    "\n",
    "#     for label, count in label_counts.items():\n",
    "#         label_subset = df[df[label_column] == label]\n",
    "#         undersampled_subset = label_subset.sample(n=min_count, random_state=42)\n",
    "#         balanced_df = pd.concat([balanced_df, undersampled_subset], ignore_index=True)\n",
    "\n",
    "#     return balanced_df\n",
    "\n",
    "# # Balance labels in the DataFrame\n",
    "# df_balanced_train = undersample(df_train)\n",
    "\n",
    "# Print the balanced DataFrame\n",
    "# print(df_balanced_train)"
   ]
  },
  {
   "cell_type": "code",
   "execution_count": 16,
   "id": "bfeec0a5",
   "metadata": {
    "execution": {
     "iopub.execute_input": "2024-06-25T05:47:43.171793Z",
     "iopub.status.busy": "2024-06-25T05:47:43.171517Z",
     "iopub.status.idle": "2024-06-25T05:47:43.381777Z",
     "shell.execute_reply": "2024-06-25T05:47:43.380869Z"
    },
    "papermill": {
     "duration": 0.225193,
     "end_time": "2024-06-25T05:47:43.383790",
     "exception": false,
     "start_time": "2024-06-25T05:47:43.158597",
     "status": "completed"
    },
    "tags": []
   },
   "outputs": [
    {
     "data": {
      "text/plain": [
       "<function matplotlib.pyplot.show(close=None, block=None)>"
      ]
     },
     "execution_count": 16,
     "metadata": {},
     "output_type": "execute_result"
    },
    {
     "data": {
      "image/png": "[encoded data removed]",
      "text/plain": [
       "<Figure size 640x480 with 1 Axes>"
      ]
     },
     "metadata": {},
     "output_type": "display_data"
    }
   ],
   "source": [
    "sns.countplot(x=df_train['label'])\n",
    "plt.show"
   ]
  },
  {
   "cell_type": "code",
   "execution_count": 17,
   "id": "4f2c72c4",
   "metadata": {
    "execution": {
     "iopub.execute_input": "2024-06-25T05:47:43.435307Z",
     "iopub.status.busy": "2024-06-25T05:47:43.434553Z",
     "iopub.status.idle": "2024-06-25T05:47:44.534203Z",
     "shell.execute_reply": "2024-06-25T05:47:44.533082Z"
    },
    "papermill": {
     "duration": 1.115086,
     "end_time": "2024-06-25T05:47:44.536382",
     "exception": false,
     "start_time": "2024-06-25T05:47:43.421296",
     "status": "completed"
    },
    "tags": []
   },
   "outputs": [
    {
     "name": "stderr",
     "output_type": "stream",
     "text": [
      "/tmp/ipykernel_26/2420977747.py:1: SettingWithCopyWarning: \n",
      "A value is trying to be set on a copy of a slice from a DataFrame.\n",
      "Try using .loc[row_indexer,col_indexer] = value instead\n",
      "\n",
      "See the caveats in the documentation: https://pandas.pydata.org/pandas-docs/stable/user_guide/indexing.html#returning-a-view-versus-a-copy\n",
      "  df_train[\"text_len\"] = df_train[\"text\"].apply(lambda x : len(x.split()))\n"
     ]
    }
   ],
   "source": [
    "df_train[\"text_len\"] = df_train[\"text\"].apply(lambda x : len(x.split()))"
   ]
  },
  {
   "cell_type": "code",
   "execution_count": 18,
   "id": "60383804",
   "metadata": {
    "execution": {
     "iopub.execute_input": "2024-06-25T05:47:44.562896Z",
     "iopub.status.busy": "2024-06-25T05:47:44.562617Z",
     "iopub.status.idle": "2024-06-25T05:47:44.574689Z",
     "shell.execute_reply": "2024-06-25T05:47:44.573068Z"
    },
    "papermill": {
     "duration": 0.027991,
     "end_time": "2024-06-25T05:47:44.577113",
     "exception": false,
     "start_time": "2024-06-25T05:47:44.549122",
     "status": "completed"
    },
    "tags": []
   },
   "outputs": [
    {
     "data": {
      "text/html": [
       "<div>\n",
       "<style scoped>\n",
       "    .dataframe tbody tr th:only-of-type {\n",
       "        vertical-align: middle;\n",
       "    }\n",
       "\n",
       "    .dataframe tbody tr th {\n",
       "        vertical-align: top;\n",
       "    }\n",
       "\n",
       "    .dataframe thead th {\n",
       "        text-align: right;\n",
       "    }\n",
       "</style>\n",
       "<table border=\"1\" class=\"dataframe\">\n",
       "  <thead>\n",
       "    <tr style=\"text-align: right;\">\n",
       "      <th></th>\n",
       "      <th>text</th>\n",
       "      <th>label</th>\n",
       "      <th>text_len</th>\n",
       "    </tr>\n",
       "  </thead>\n",
       "  <tbody>\n",
       "    <tr>\n",
       "      <th>0</th>\n",
       "      <td>PhonesModern humans today are always on their ...</td>\n",
       "      <td>0</td>\n",
       "      <td>374</td>\n",
       "    </tr>\n",
       "    <tr>\n",
       "      <th>1</th>\n",
       "      <td>This essay will explain if drivers should or s...</td>\n",
       "      <td>0</td>\n",
       "      <td>362</td>\n",
       "    </tr>\n",
       "    <tr>\n",
       "      <th>2</th>\n",
       "      <td>Driving while the use of cellular devicesToday...</td>\n",
       "      <td>0</td>\n",
       "      <td>176</td>\n",
       "    </tr>\n",
       "    <tr>\n",
       "      <th>3</th>\n",
       "      <td>Phones &amp; DrivingDrivers should not be able to ...</td>\n",
       "      <td>0</td>\n",
       "      <td>208</td>\n",
       "    </tr>\n",
       "    <tr>\n",
       "      <th>4</th>\n",
       "      <td>Cell Phone Operation While DrivingThe ability ...</td>\n",
       "      <td>0</td>\n",
       "      <td>328</td>\n",
       "    </tr>\n",
       "    <tr>\n",
       "      <th>...</th>\n",
       "      <td>...</td>\n",
       "      <td>...</td>\n",
       "      <td>...</td>\n",
       "    </tr>\n",
       "    <tr>\n",
       "      <th>44863</th>\n",
       "      <td>Dear Senator,I am writing to you today to expr...</td>\n",
       "      <td>1</td>\n",
       "      <td>372</td>\n",
       "    </tr>\n",
       "    <tr>\n",
       "      <th>44864</th>\n",
       "      <td>Dear Senator,I am writing to you today to expr...</td>\n",
       "      <td>1</td>\n",
       "      <td>341</td>\n",
       "    </tr>\n",
       "    <tr>\n",
       "      <th>44865</th>\n",
       "      <td>Dear Senator,I am writing to you today to expr...</td>\n",
       "      <td>1</td>\n",
       "      <td>267</td>\n",
       "    </tr>\n",
       "    <tr>\n",
       "      <th>44866</th>\n",
       "      <td>Dear Senator,I am writing to you today to expr...</td>\n",
       "      <td>1</td>\n",
       "      <td>246</td>\n",
       "    </tr>\n",
       "    <tr>\n",
       "      <th>44867</th>\n",
       "      <td>Dear Senator,I am writing to you today to expr...</td>\n",
       "      <td>1</td>\n",
       "      <td>388</td>\n",
       "    </tr>\n",
       "  </tbody>\n",
       "</table>\n",
       "<p>44868 rows × 3 columns</p>\n",
       "</div>"
      ],
      "text/plain": [
       "                                                    text  label  text_len\n",
       "0      PhonesModern humans today are always on their ...      0       374\n",
       "1      This essay will explain if drivers should or s...      0       362\n",
       "2      Driving while the use of cellular devicesToday...      0       176\n",
       "3      Phones & DrivingDrivers should not be able to ...      0       208\n",
       "4      Cell Phone Operation While DrivingThe ability ...      0       328\n",
       "...                                                  ...    ...       ...\n",
       "44863  Dear Senator,I am writing to you today to expr...      1       372\n",
       "44864  Dear Senator,I am writing to you today to expr...      1       341\n",
       "44865  Dear Senator,I am writing to you today to expr...      1       267\n",
       "44866  Dear Senator,I am writing to you today to expr...      1       246\n",
       "44867  Dear Senator,I am writing to you today to expr...      1       388\n",
       "\n",
       "[44868 rows x 3 columns]"
      ]
     },
     "execution_count": 18,
     "metadata": {},
     "output_type": "execute_result"
    }
   ],
   "source": [
    "df_train"
   ]
  },
  {
   "cell_type": "code",
   "execution_count": 19,
   "id": "ce3c8716",
   "metadata": {
    "execution": {
     "iopub.execute_input": "2024-06-25T05:47:44.603626Z",
     "iopub.status.busy": "2024-06-25T05:47:44.603333Z",
     "iopub.status.idle": "2024-06-25T05:47:45.153299Z",
     "shell.execute_reply": "2024-06-25T05:47:45.152314Z"
    },
    "papermill": {
     "duration": 0.565999,
     "end_time": "2024-06-25T05:47:45.155981",
     "exception": false,
     "start_time": "2024-06-25T05:47:44.589982",
     "status": "completed"
    },
    "tags": []
   },
   "outputs": [
    {
     "name": "stderr",
     "output_type": "stream",
     "text": [
      "/opt/conda/lib/python3.10/site-packages/seaborn/_oldcore.py:1119: FutureWarning: use_inf_as_na option is deprecated and will be removed in a future version. Convert inf values to NaN before operating instead.\n",
      "  with pd.option_context('mode.use_inf_as_na', True):\n"
     ]
    },
    {
     "data": {
      "image/png": "[encoded data removed]",
      "text/plain": [
       "<Figure size 640x480 with 1 Axes>"
      ]
     },
     "metadata": {},
     "output_type": "display_data"
    }
   ],
   "source": [
    "sns.histplot(df_train['text_len'], bins=20, kde=True)\n",
    "plt.title('Histogram of Text Length')\n",
    "plt.xlabel('Text Length')\n",
    "plt.ylabel('Frequency')\n",
    "plt.show()"
   ]
  },
  {
   "cell_type": "code",
   "execution_count": 20,
   "id": "feff9773",
   "metadata": {
    "execution": {
     "iopub.execute_input": "2024-06-25T05:47:45.189013Z",
     "iopub.status.busy": "2024-06-25T05:47:45.188677Z",
     "iopub.status.idle": "2024-06-25T05:47:45.195171Z",
     "shell.execute_reply": "2024-06-25T05:47:45.193980Z"
    },
    "papermill": {
     "duration": 0.025531,
     "end_time": "2024-06-25T05:47:45.197333",
     "exception": false,
     "start_time": "2024-06-25T05:47:45.171802",
     "status": "completed"
    },
    "tags": []
   },
   "outputs": [
    {
     "name": "stdout",
     "output_type": "stream",
     "text": [
      "379.1882633502719\n",
      "1656\n"
     ]
    }
   ],
   "source": [
    "print(df_train[\"text_len\"].mean())\n",
    "print(df_train[\"text_len\"].max())"
   ]
  },
  {
   "cell_type": "markdown",
   "id": "44d18b05",
   "metadata": {},
   "source": [
    "avg(len)<512 = OK"
   ]
  },
  {
   "cell_type": "markdown",
   "id": "5717c9ef",
   "metadata": {
    "papermill": {
     "duration": 0.014979,
     "end_time": "2024-06-25T05:47:45.227943",
     "exception": false,
     "start_time": "2024-06-25T05:47:45.212964",
     "status": "completed"
    },
    "tags": []
   },
   "source": [
    "## Data pre-process"
   ]
  },
  {
   "cell_type": "code",
   "execution_count": 21,
   "id": "1f57003d",
   "metadata": {
    "execution": {
     "iopub.execute_input": "2024-06-25T05:47:45.259973Z",
     "iopub.status.busy": "2024-06-25T05:47:45.259653Z",
     "iopub.status.idle": "2024-06-25T05:47:45.934660Z",
     "shell.execute_reply": "2024-06-25T05:47:45.933883Z"
    },
    "papermill": {
     "duration": 0.693872,
     "end_time": "2024-06-25T05:47:45.937102",
     "exception": false,
     "start_time": "2024-06-25T05:47:45.243230",
     "status": "completed"
    },
    "tags": []
   },
   "outputs": [],
   "source": [
    "from nltk.corpus import stopwords\n",
    "from nltk.tokenize import word_tokenize\n",
    "import nltk\n",
    "\n",
    "# nltk.download('stopwords')\n",
    "# nltk.download('punkt')\n",
    "\n",
    "def remove_stopwords(input_text, language='english'):\n",
    "    \"\"\"\n",
    "    Remove stopwords from the input text.\n",
    "\n",
    "    Parameters:\n",
    "    - input_text (str): The input text containing stopwords.\n",
    "    - language (str): The language of the stopwords. Default is 'english'.\n",
    "\n",
    "    Returns:\n",
    "    - str: The cleaned text without stopwords.\n",
    "    \"\"\"\n",
    "    # Tokenize the text\n",
    "    words = word_tokenize(input_text['text'])\n",
    "    \n",
    "    print(f\"Index {input_text['index_col']}\") if input_text['index_col'] % 10000 == 0 else None\n",
    "\n",
    "#     Remove stopwords\n",
    "    filtered_words = [word for word in words if word.lower() not in stopwords.words(language)]\n",
    "\n",
    "    # Join the filtered words to form the cleaned text\n",
    "    cleaned_text = ' '.join(filtered_words)\n",
    "\n",
    "    return cleaned_text"
   ]
  },
  {
   "cell_type": "code",
   "execution_count": 22,
   "id": "5a659b40",
   "metadata": {
    "execution": {
     "iopub.execute_input": "2024-06-25T05:47:45.966277Z",
     "iopub.status.busy": "2024-06-25T05:47:45.965970Z",
     "iopub.status.idle": "2024-06-25T06:28:20.425234Z",
     "shell.execute_reply": "2024-06-25T06:28:20.424250Z"
    },
    "papermill": {
     "duration": 2434.493065,
     "end_time": "2024-06-25T06:28:20.444350",
     "exception": false,
     "start_time": "2024-06-25T05:47:45.951285",
     "status": "completed"
    },
    "scrolled": true,
    "tags": []
   },
   "outputs": [
    {
     "name": "stderr",
     "output_type": "stream",
     "text": [
      "/tmp/ipykernel_26/4145976751.py:4: SettingWithCopyWarning: \n",
      "A value is trying to be set on a copy of a slice from a DataFrame.\n",
      "Try using .loc[row_indexer,col_indexer] = value instead\n",
      "\n",
      "See the caveats in the documentation: https://pandas.pydata.org/pandas-docs/stable/user_guide/indexing.html#returning-a-view-versus-a-copy\n",
      "  df_train['index_col'] = df_train.index\n"
     ]
    },
    {
     "name": "stdout",
     "output_type": "stream",
     "text": [
      "Index 0\n",
      "Index 10000\n",
      "Index 20000\n",
      "Index 30000\n",
      "Index 40000\n",
      "Index 0\n"
     ]
    },
    {
     "name": "stderr",
     "output_type": "stream",
     "text": [
      "/tmp/ipykernel_26/4145976751.py:5: SettingWithCopyWarning: \n",
      "A value is trying to be set on a copy of a slice from a DataFrame.\n",
      "Try using .loc[row_indexer,col_indexer] = value instead\n",
      "\n",
      "See the caveats in the documentation: https://pandas.pydata.org/pandas-docs/stable/user_guide/indexing.html#returning-a-view-versus-a-copy\n",
      "  df_train['text'] = df_train.apply(lambda text: remove_stopwords(text), axis=1)\n"
     ]
    }
   ],
   "source": [
    "# df_balanced_train['index_col'] = df_balanced_train.index\n",
    "# df_balanced_train[\"text\"] = df_balanced_train.apply(lambda text: remove_stopwords(text), axis=1)\n",
    "\n",
    "df_train['index_col'] = df_train.index\n",
    "df_train['text'] = df_train.apply(lambda text: remove_stopwords(text), axis=1)\n",
    "\n",
    "df_test_essay['index_col'] = df_test_essay.index\n",
    "df_test_essay[\"text\"] = df_test_essay.apply(lambda text: remove_stopwords(text), axis=1)"
   ]
  },
  {
   "cell_type": "markdown",
   "id": "48e2ca47",
   "metadata": {
    "papermill": {
     "duration": 0.014756,
     "end_time": "2024-06-25T06:28:20.474157",
     "exception": false,
     "start_time": "2024-06-25T06:28:20.459401",
     "status": "completed"
    },
    "tags": []
   },
   "source": [
    "### Split"
   ]
  },
  {
   "cell_type": "code",
   "execution_count": 23,
   "id": "5c33f446",
   "metadata": {
    "execution": {
     "iopub.execute_input": "2024-06-25T06:28:20.505528Z",
     "iopub.status.busy": "2024-06-25T06:28:20.504760Z",
     "iopub.status.idle": "2024-06-25T06:28:20.532407Z",
     "shell.execute_reply": "2024-06-25T06:28:20.531525Z"
    },
    "papermill": {
     "duration": 0.045842,
     "end_time": "2024-06-25T06:28:20.534877",
     "exception": false,
     "start_time": "2024-06-25T06:28:20.489035",
     "status": "completed"
    },
    "tags": []
   },
   "outputs": [],
   "source": [
    "from sklearn.model_selection import train_test_split\n",
    "\n",
    "x, y = df_train['text'], df_train['label']\n",
    "x_train,x_test,y_train,y_test=train_test_split(x,y,test_size=0.2,random_state=42, stratify=y)\n"
   ]
  },
  {
   "cell_type": "markdown",
   "id": "da84e9bd",
   "metadata": {
    "papermill": {
     "duration": 0.0156,
     "end_time": "2024-06-25T06:28:20.567324",
     "exception": false,
     "start_time": "2024-06-25T06:28:20.551724",
     "status": "completed"
    },
    "tags": []
   },
   "source": [
    "# Model"
   ]
  },
  {
   "cell_type": "code",
   "execution_count": 24,
   "id": "5db9ea18",
   "metadata": {
    "execution": {
     "iopub.execute_input": "2024-06-25T06:28:20.600151Z",
     "iopub.status.busy": "2024-06-25T06:28:20.599780Z",
     "iopub.status.idle": "2024-06-25T06:28:36.966175Z",
     "shell.execute_reply": "2024-06-25T06:28:36.965413Z"
    },
    "papermill": {
     "duration": 16.385442,
     "end_time": "2024-06-25T06:28:36.968727",
     "exception": false,
     "start_time": "2024-06-25T06:28:20.583285",
     "status": "completed"
    },
    "tags": []
   },
   "outputs": [],
   "source": [
    "# Import libraries\n",
    "from transformers import BertForSequenceClassification, AdamW, BertConfig,BertTokenizer,get_linear_schedule_with_warmup\n",
    "import tensorflow as tf\n",
    "import tensorflow_text as text\n",
    "import tensorflow_hub as hub\n"
   ]
  },
  {
   "cell_type": "code",
   "execution_count": 25,
   "id": "691e852a",
   "metadata": {
    "execution": {
     "iopub.execute_input": "2024-06-25T06:28:37.000556Z",
     "iopub.status.busy": "2024-06-25T06:28:36.999338Z",
     "iopub.status.idle": "2024-06-25T06:28:37.004221Z",
     "shell.execute_reply": "2024-06-25T06:28:37.003287Z"
    },
    "papermill": {
     "duration": 0.022536,
     "end_time": "2024-06-25T06:28:37.006148",
     "exception": false,
     "start_time": "2024-06-25T06:28:36.983612",
     "status": "completed"
    },
    "tags": []
   },
   "outputs": [],
   "source": [
    "model_path = \"/kaggle/input/bert/tensorflow2/bert-en-uncased-l-12-h-128-a-2/2\"\n",
    "preprocess_path = \"/kaggle/input/bert/tensorflow2/en-uncased-preprocess/3/\""
   ]
  },
  {
   "cell_type": "code",
   "execution_count": 26,
   "id": "ecbaa81f",
   "metadata": {
    "execution": {
     "iopub.execute_input": "2024-06-25T06:28:37.037174Z",
     "iopub.status.busy": "2024-06-25T06:28:37.036854Z",
     "iopub.status.idle": "2024-06-25T06:28:51.771652Z",
     "shell.execute_reply": "2024-06-25T06:28:51.770617Z"
    },
    "papermill": {
     "duration": 14.756433,
     "end_time": "2024-06-25T06:28:51.777438",
     "exception": false,
     "start_time": "2024-06-25T06:28:37.021005",
     "status": "completed"
    },
    "tags": []
   },
   "outputs": [
    {
     "name": "stdout",
     "output_type": "stream",
     "text": [
      "Model: \"model\"\n",
      "__________________________________________________________________________________________________\n",
      " Layer (type)                Output Shape                 Param #   Connected to                  \n",
      "==================================================================================================\n",
      " input_1 (InputLayer)        [(None,)]                    0         []                            \n",
      "                                                                                                  \n",
      " keras_layer (KerasLayer)    {'input_type_ids': (None,    0         ['input_1[0][0]']             \n",
      "                             128),                                                                \n",
      "                              'input_word_ids': (None,                                            \n",
      "                             128),                                                                \n",
      "                              'input_mask': (None, 128)                                           \n",
      "                             }                                                                    \n",
      "                                                                                                  \n",
      " keras_layer_1 (KerasLayer)  {'pooled_output': (None, 1   6368641   ['keras_layer[0][0]',         \n",
      "                             28),                                    'keras_layer[0][1]',         \n",
      "                              'sequence_output': (None,              'keras_layer[0][2]']         \n",
      "                              128, 128),                                                          \n",
      "                              'encoder_outputs': [(None                                           \n",
      "                             , 128, 128),                                                         \n",
      "                              (None, 128, 128),                                                   \n",
      "                              (None, 128, 128),                                                   \n",
      "                              (None, 128, 128),                                                   \n",
      "                              (None, 128, 128),                                                   \n",
      "                              (None, 128, 128),                                                   \n",
      "                              (None, 128, 128),                                                   \n",
      "                              (None, 128, 128),                                                   \n",
      "                              (None, 128, 128),                                                   \n",
      "                              (None, 128, 128),                                                   \n",
      "                              (None, 128, 128),                                                   \n",
      "                              (None, 128, 128)],                                                  \n",
      "                              'default': (None, 128)}                                             \n",
      "                                                                                                  \n",
      " dropout1 (Dropout)          (None, 128)                  0         ['keras_layer_1[0][13]']      \n",
      "                                                                                                  \n",
      " dense_1 (Dense)             (None, 64)                   8256      ['dropout1[0][0]']            \n",
      "                                                                                                  \n",
      " dropout2 (Dropout)          (None, 64)                   0         ['dense_1[0][0]']             \n",
      "                                                                                                  \n",
      " output (Dense)              (None, 1)                    65        ['dropout2[0][0]']            \n",
      "                                                                                                  \n",
      "==================================================================================================\n",
      "Total params: 6376962 (24.33 MB)\n",
      "Trainable params: 6376961 (24.33 MB)\n",
      "Non-trainable params: 1 (1.00 Byte)\n",
      "__________________________________________________________________________________________________\n"
     ]
    }
   ],
   "source": [
    "text_input = tf.keras.layers.Input(shape=(), dtype=tf.string)\n",
    "preprocessor = hub.KerasLayer(preprocess_path)\n",
    "encoder_inputs = preprocessor(text_input)\n",
    "encoder = hub.KerasLayer(\n",
    "    model_path,\n",
    "    trainable=True)\n",
    "outputs = encoder(encoder_inputs)\n",
    "pooled_output = outputs[\"pooled_output\"]      # [batch_size, 512].\n",
    "sequence_output = outputs[\"sequence_output\"]  # [batch_size, seq_length, 512].\n",
    "dense_1 = tf.keras.layers.Dense(128 , activation='relu')(pooled_output)\n",
    "dropout = tf.keras.layers.Dropout(0.7 , name=\"dropout1\")(pooled_output)\n",
    "dense_2 = tf.keras.layers.Dense(64 , activation='relu')(dropout)\n",
    "dropout = tf.keras.layers.Dropout(0.5 , name=\"dropout2\")(dense_2)\n",
    "\n",
    "dense_out = tf.keras.layers.Dense(1 , activation='sigmoid', name='output')(dropout)\n",
    "\n",
    "\n",
    "model = tf.keras.Model(inputs=text_input, outputs=dense_out)\n",
    "model.summary()"
   ]
  },
  {
   "cell_type": "code",
   "execution_count": 27,
   "id": "54ff66c7",
   "metadata": {
    "execution": {
     "iopub.execute_input": "2024-06-25T06:28:51.814654Z",
     "iopub.status.busy": "2024-06-25T06:28:51.814082Z",
     "iopub.status.idle": "2024-06-25T06:54:27.425263Z",
     "shell.execute_reply": "2024-06-25T06:54:27.424299Z"
    },
    "papermill": {
     "duration": 1535.632799,
     "end_time": "2024-06-25T06:54:27.428131",
     "exception": false,
     "start_time": "2024-06-25T06:28:51.795332",
     "status": "completed"
    },
    "tags": []
   },
   "outputs": [
    {
     "name": "stdout",
     "output_type": "stream",
     "text": [
      "Epoch 1/5\n",
      "4487/4487 [==============================] - 372s 73ms/step - loss: 0.1925 - acc: 0.9230 - val_loss: 0.0531 - val_acc: 0.9831\n",
      "Epoch 2/5\n",
      "4487/4487 [==============================] - 287s 64ms/step - loss: 0.0518 - acc: 0.9853 - val_loss: 0.1359 - val_acc: 0.9780\n",
      "Epoch 3/5\n",
      "4487/4487 [==============================] - 286s 64ms/step - loss: 0.0305 - acc: 0.9912 - val_loss: 0.0790 - val_acc: 0.9715\n",
      "Epoch 4/5\n",
      "4487/4487 [==============================] - 286s 64ms/step - loss: 0.0195 - acc: 0.9946 - val_loss: 0.0402 - val_acc: 0.9919\n",
      "Epoch 5/5\n",
      "4487/4487 [==============================] - 287s 64ms/step - loss: 0.0135 - acc: 0.9961 - val_loss: 0.0380 - val_acc: 0.9919\n"
     ]
    }
   ],
   "source": [
    "# https://huggingface.co/google/bert_uncased_L-12_H-128_A-2\n",
    "model.compile(optimizer=tf.keras.optimizers.Adam(learning_rate=5e-5),\n",
    "              loss='binary_crossentropy',\n",
    "              metrics=[\"acc\"])\n",
    "\n",
    "checkpoint_filepath = 'checkpoint.hdf5'\n",
    "metric = 'val_accuracy'\n",
    "callback_list = [tf.keras.callbacks.ModelCheckpoint(filepath=checkpoint_filepath, \n",
    "                                                    monitor=metric,\n",
    "                                                    verbose=2,\n",
    "                                                    save_best_only=True,\n",
    "                                                    mode='max'), \n",
    "                 tf.keras.callbacks.EarlyStopping(monitor=metric,\n",
    "                                                  patience=0,\n",
    "                                                  restore_best_weights=True)\n",
    "                ]\n",
    "history = model.fit(x_train, y_train , batch_size=8, callbacks=[callback_list],\n",
    "                    epochs=5 , validation_data=(x_test, y_test))\n",
    "# model.load_weights(checkpoint_filepath)\n",
    "model.save(\"model-bert\")"
   ]
  },
  {
   "cell_type": "markdown",
   "id": "d125e15f",
   "metadata": {
    "papermill": {
     "duration": 1.935867,
     "end_time": "2024-06-25T06:54:31.250323",
     "exception": false,
     "start_time": "2024-06-25T06:54:29.314456",
     "status": "completed"
    },
    "tags": []
   },
   "source": [
    "# Test"
   ]
  },
  {
   "cell_type": "code",
   "execution_count": 28,
   "id": "d2914252",
   "metadata": {
    "execution": {
     "iopub.execute_input": "2024-06-25T06:54:34.981214Z",
     "iopub.status.busy": "2024-06-25T06:54:34.980846Z",
     "iopub.status.idle": "2024-06-25T06:56:33.696182Z",
     "shell.execute_reply": "2024-06-25T06:56:33.695131Z"
    },
    "papermill": {
     "duration": 120.611162,
     "end_time": "2024-06-25T06:56:33.699117",
     "exception": false,
     "start_time": "2024-06-25T06:54:33.087955",
     "status": "completed"
    },
    "tags": []
   },
   "outputs": [
    {
     "name": "stdout",
     "output_type": "stream",
     "text": [
      "1122/1122 [==============================] - 95s 84ms/step - loss: 0.0035 - acc: 0.9991\n",
      "Accuracy on Train data: 0.9990805983543396\n",
      "281/281 [==============================] - 24s 85ms/step - loss: 0.0380 - acc: 0.9919\n",
      "Accuracy on Test data: 0.9918653964996338\n"
     ]
    }
   ],
   "source": [
    "loss , acc = model.evaluate(x_train, y_train)\n",
    "print(\"Accuracy on Train data:\",acc)\n",
    "loss , acc = model.evaluate(x_test, y_test)\n",
    "print(\"Accuracy on Test data:\",acc)"
   ]
  },
  {
   "cell_type": "code",
   "execution_count": 29,
   "id": "03b6c7ed",
   "metadata": {
    "execution": {
     "iopub.execute_input": "2024-06-25T06:56:37.698274Z",
     "iopub.status.busy": "2024-06-25T06:56:37.697387Z",
     "iopub.status.idle": "2024-06-25T06:57:01.741469Z",
     "shell.execute_reply": "2024-06-25T06:57:01.740249Z"
    },
    "papermill": {
     "duration": 26.043187,
     "end_time": "2024-06-25T06:57:01.743918",
     "exception": false,
     "start_time": "2024-06-25T06:56:35.700731",
     "status": "completed"
    },
    "tags": []
   },
   "outputs": [
    {
     "name": "stdout",
     "output_type": "stream",
     "text": [
      "281/281 [==============================] - 24s 81ms/step\n",
      "0.9906532700036536\n",
      "[[5453   21]\n",
      " [  52 3448]]\n",
      "              precision    recall  f1-score   support\n",
      "\n",
      "           0       0.99      1.00      0.99      5474\n",
      "           1       0.99      0.99      0.99      3500\n",
      "\n",
      "    accuracy                           0.99      8974\n",
      "   macro avg       0.99      0.99      0.99      8974\n",
      "weighted avg       0.99      0.99      0.99      8974\n",
      "\n",
      "0.9918653889012703\n",
      "0.9851428571428571\n",
      "0.9939463822427212\n",
      "0.9914379910846377\n"
     ]
    }
   ],
   "source": [
    "from sklearn.metrics import classification_report, roc_auc_score, accuracy_score, recall_score, precision_score, f1_score, confusion_matrix\n",
    "\n",
    "y_pred = model.predict(x_test)\n",
    "y_pred = [1 if pred > 0.5 else 0 for pred in y_pred]\n",
    "print(roc_auc_score(y_test, y_pred))\n",
    "print(confusion_matrix(y_test, y_pred))\n",
    "print(classification_report(y_test, y_pred))\n",
    "print(accuracy_score(y_test, y_pred))\n",
    "print(recall_score(y_test, y_pred))\n",
    "print(precision_score(y_test, y_pred))\n",
    "print(f1_score(y_test, y_pred, average='macro'))\n"
   ]
  },
  {
   "cell_type": "code",
   "execution_count": 30,
   "id": "4cc57b5a",
   "metadata": {
    "execution": {
     "iopub.execute_input": "2024-06-25T06:57:05.876461Z",
     "iopub.status.busy": "2024-06-25T06:57:05.876112Z",
     "iopub.status.idle": "2024-06-25T06:57:05.890334Z",
     "shell.execute_reply": "2024-06-25T06:57:05.889444Z"
    },
    "papermill": {
     "duration": 2.156329,
     "end_time": "2024-06-25T06:57:05.893774",
     "exception": false,
     "start_time": "2024-06-25T06:57:03.737445",
     "status": "completed"
    },
    "tags": []
   },
   "outputs": [
    {
     "name": "stdout",
     "output_type": "stream",
     "text": [
      "False predictions for label 0:\n",
      "Index:  132\n",
      "Predicted Label: 1, Actual Label: 0\n",
      "Text: Phones play key role people keeping touch one another accomplishing daily goals reminders hand . Driving complex task requires full undivided attention , reason phone use driving illegal . reality , make exception certain situations comes phone use driving . exceptions include emergencies whether family work related , life death situations . GPS people efficiently effectively get unfamiliar destinations . Also , people use phones agendas set daily reminders goals accomplish daily.Therefore , people able use phones driving.Cellular devices used many things vehicle emergency calls . calls may work related call job . example , call doctor would need phone matter circumstances hospital needs . emergencies like child calling he/she stranded somewhere . Phones may needed types emergencies.While driving vehicles , many use cell phones gps . Gps used getting unknown locations . used get unknown places , many also use get unknown places . Gps help many ways . helps 're lost need find way around.Cell phones also used daily reminders get day . driving reminders tell place certain time . example , reminders remind losing track time pick child school . also help errands need run forget . reminders agenda helps accomplish goals daily.In conclusion , use phones many ways operating vehicle . use cellular devices emergency . Cell phones get unknown places . Additionally , also remind things throughout day . Therefore , cell phones used operating vehicle .\n",
      "Index:  806\n",
      "Predicted Label: 1, Actual Label: 0\n",
      "Text: Phones DrivingAlthough cell phones around long time , become key part lives . People use cell phones everything : texting , talking , schedule planning , internet surfing , etc . Sometimes even two things time . Unfortunately , people also choosing wrong time using cell phones : driving . society , become focused much one time willing risk personal safety well safety others ca n't put cell phones . Using handheld cell phone driving dangerous driver couple good reasons . Several researchers proved using cell phones driving makes driver exposed fatal accidents . Focus driver road traffic becomes difficult handle phone vehicle one time . Cell phones driving also reduce mental capacity drivers fail concentrate minor major activities happening around . already discussed , cell phones distract drivers ' attention resulting comparatively slow response traffic signals related traffic events . Studies shown fact breaking reaction time also slower talking cell phone driving . perception , vision , general awareness , concentration driver impacted communicating cell phone driving . Especially bad weather driving slippery roads , drivers engage conversation pay less attention areas increasing risks fatal accidents . Although , grave negative impacts using cell phones driving pertinent , sake arguments , present benefits also . important benefit cell phones driving security factor.During emergency situations cell phones provide help driver make emergency calls , even reporting dangerous scenario roadside accidents . cell phones driver locate desired route . Furthermore , using FMs cell phones provide information weather traffic\n",
      "Index:  1076\n",
      "Predicted Label: 1, Actual Label: 0\n",
      "Text: Phones & DrivingIf used correctly , driving moderate phone use could helpful . GPS thing keeps current generation track . course , distractions occur driving , phone use detrimental , without devices , driving would completely different.GPS amazingly useful tool . Many people find option exact directions quite comforting , even speaking someone kill anxiety driving . Going one point another never . beautiful inventions called GPS , one would use atlas general directions , internet slowly becoming essential , GPS maps come features speed limit sign , case missed one street highway 're . , day calling get traffic accident information . day real time information , quick rerouting even small shortcuts known most.This ties anxiety driving general . constant fear missing exit , getting car wreck , making time . Speaking someone , keeping conversation , even music played phone ease stress make life much easier driver . Music always universal way calm one 's self . Speaking someone either anxiety holding civil conversation also good way calm focus easier overall safe.Many advocates way things used say use phone prohibited , use cause wreck . completely agree , used incorrectly , cell phones detrimental whoever road , one thing advocates n't think amount people safer due phone . insurance companies apps track adjust rates based person 's driving . n't GPS , many people would miss exits , swerve get lane , general make dumb mistakes could lead harm good.In , believe texting , using social media , constant use bad driver , drivers around . find correct safe way use devices driving vehicle , see fit completely ban prohibit use everyday tools . Correct use life death , correct use making time Earth easier . wish advocate , look 're advocating .\n",
      "Index:  1527\n",
      "Predicted Label: 1, Actual Label: 0\n",
      "Text: society today transportation neccessary keep things going . Cars one biggest transportation devices used . advantages limiting car usage range taking away stress lowering air pollution.Stress one biggest factors faced driving . Continuously check cars around , looking open spaces race car infront , waiting horrible traffic jams waiste useful time life . Reducing amount car usage lead exercise reduces stress less waiting time multiple things . stated source 1 , paragraph 3 resident Vauban says `` car always tense . '' Mentally driving lot handle always worried matter comfortable car is.A really big problem environment today air pollution . Reduced car usage leads less gas drilled oil mines places underground . also comes bundle less smog stronger , cleaner , atmosphere . Even businessman Columbia commented `` 's good opportunity take away stress lower air pollution , '' source 3 paragraph 24 participated annual car-free day . better environment air pollution healthier oxygen.Helping Earth essentially always helping selves .\n",
      "Index:  2520\n",
      "Predicted Label: 1, Actual Label: 0\n",
      "Text: article given good reasons may need cars time passes , advantages.In first article , gives many reasons people Germany dont need , used cars . third paragraph , second sentence , women states `` car always tense . 'm much happier way . '' Meaning , probably lot issues car , maybe engine problems , battery , maybe gas prices used , relaxe , deal engine problems , battery problems , gas prices , n't car . probably bike , bike really easy fix , like car pay someone fix , also pay items person fixing car used . Basically people Germany trying save money , found way it.Next , second article third article , take one important thing , planet . two article gives alot reasons car banned Paris Bogota , Colombia , one captures would paragraph 17 , states `` Paris typically smog European capitals . '' Showing Paris noticed problem actually something . banned cars see actual problem , found cars problem . 're answer problem set fine people cars even numbered licence plates Mondays odd numbered licenced plates following day . Paris got results , cars problem , yes , less smog , decided leave fine . third article , shows also Colombia taking part smog free place . instead decide ban cars give permission buses taxi drivers drive . n't give bus drivers taxi drivers osmething enjoy , also given people ways enjoy place without cars . fixed old , beat-up sidewalks put bicycle trails people n't drive buses taxis.Last least , last article shows even powerful strong nation also take part helping planet , lowering known culture , driving . might seem like America taking part helping planet , lowering number cars , drivers . statement captures attention would `` study last year found driving young people decreased 23 percent 2001 2009 . '' Meaning nation young people would come lead future , decided hard work . would lead doign hard , basically simple way , driving.In conclusion , reasons limiting car usage advantages , saving money , peoples lives , planet .\n",
      "\n",
      "False predictions for label 1:\n",
      "Index:  165\n",
      "Predicted Label: 0, Actual Label: 1\n",
      "Text: Phones DrivingCell phones tool widely used society today . cell phone many purposes used communication , entertainment , information . people cellular devices . around , 's extremely useful , also distracting leading mishaps occurring . Lots people like horrible habit using phones , operating dangerous machinery like automotives . increases risk accidents occurring . Laws restrict usage cell phones use driving road prevent accidents transpiring.Distractions lead mishaps happening often increasing risk injury oneself others around . Many people use cell phones driving . fact , `` 1 3 people text driving '' `` texting driving increases risk crashing 23 times '' ( NHTSA , 2019 ) . Sometimes drivers get distracted , `` maximum amount time driver safely divert attention road two seconds , takes driver five seconds - average - send text message '' `` 82 % American teens cell phone . 52 % teens note talk phone driving 32 % text road '' ( TeenSafe , 2019 ) . Everyday accident everyday `` 11 teens die crashes caused texting driving '' ( TeenSafe , 2019 ) . loss life avoided regulations limiting usage cell phones.Laws kept place help prevent usage cell phones driving . laws unnecessary loss life avoided , accidents prevented . Every time someone distracted road increases risk fatal accident . Many people around safe smart driving , lives risk.Work citedDriving-Tests . org . `` 2019 Driving Statistics : Ultimate List Driving Stats . '' 2019 Driving Statistics : Ultimate List Car Accident Stats , 2019 , driving-tests . org/driving-statistics/.NHTSA . `` Teen Driving . '' NHTSA , 23 July 2019 , www . nhtsa . gov/road-safety/teen-driving.TeenSafe . `` Texting Driving Crashes Facts Statistics . '' TeenSafe , 19 Feb. 2019 , teensafe . com/texting-and-driving-crashes-facts-and-statistics/ .\n",
      "Index:  463\n",
      "Predicted Label: 0, Actual Label: 1\n",
      "Text: today 's society cell phones technology play huge role lives daily basis . sit room full people look around everyone would see almostly 95 % room occupied phone . Either searching internet , social media , sending text message somebody making use cell phones either way . drivers allowed use cell phone operating vehicle . people deciding use phone wrong time . many deaths dealing cell phones ridiculous reason.We know feeling . 're driving text messages pops cell phone . reminder wan na write , really n't think anything picking phone . Within 5 seconds looking phone , could halfway road , already accident . may cause injuries even death . feel like whatever phone , whoever texting never significant cost somebody else life period . Many others disagree opinion . look deeper really focus 'll understand 'm coming from.When driving , sometimes 's really hard keep focus road . leads making extremely easy forget road shared others one person . reason cell phones usage banned driving . found [ Teensafe , 2018 ] everyday 9 people america died car crash . something texting driving even phone , 3,278 people die past 4 years reason . People losing life others want selfish think surrounding . intentionally trying take life 's fully thinking action.Texting driving know , puts danger many lives . handful youngins feels like staying attached outside world way well connected , attention road . Altogether need stand get law passed phone free vehicles . georgia law 's called hands free law . law passed atlanta georgia accident rare , also death rate decrease big time . states start realise hopefully thing.Using cellphone driving really put multiple people 's life danger . 's time put distractions aside , focus 's really important comes driving . know phones came long way generation generation , interfering many lives . 's time stand safety life people around . could someone family accident , could . making one change life , save life . put phones , ca n't important life .\n",
      "Index:  500\n",
      "Predicted Label: 0, Actual Label: 1\n",
      "Text: Phones drivingIn opinion believe people able use cell phones operating vehicle . Reason teenagers even adults died using cell phone driving . fact , people drive using device 99 % get distracted causing focus road , means also causing accident . instance , one year ago experienced texting driving n't good experience . accelerating moment reason thought capable multitasking using phone driving parents kept calling . trying decline phone call decided go social media , bad idea . ended hitting car front notice braking . , believe people able use cell phones driving.https : //www . cnbc . com/2015/05/21/cell-phone-boom-leading-to-rise-in-distracted-driving-safety-g roup . htmlIn phones wrecks ? Distracted driving rise article phones causing accidents throughout years , also solution causing accidents ( Sidibe 2015 ) . example , Collision-Avoidance Technology cars available cars drivers . Hersman thinks vehicle drivers would less distracted also help focused towards road . also mentioned cars also developed companies Google also help drunk drivers also teen drivers well . Advanced cars like also reduce amounts billions dollars people wreck also would highly benefit taxpayers wrecks . con thing car technology people 's bad also focus way either.https : //www . cnn . com/2015/02/17/living/feat-brutally-honest-teens-texting-driving/index . html Fifty-five percent young adult drivers say 's easy text drive another thirty-four percent stated driven road phone ( Wallace 2016 ) .The risks percentages accidents caused texting driving raised tremendously U.S. Eight people die caused driving time phone . hand 44 states made illegal drive text states District Columbia , Puerto Rico , Guam U.S. Virgin Islands etc . Center Disease Control Prevention also allegedly reported thousand people injured crashes reported inlove distracted young driver whose times accused accidents . Janis Brett Elspas , mother four children also said texting driving shares says might one drivers never checked phone grab operating vehicle.Many people might say agree 's easy operate vehicle driving think capable . result many times end accident end regretting 've done kept mind capable really n't . Many adults tell ask favor drive car use phone think kids generation n't understand 've never accident experienced texting driving end car crash . might excuse say `` oh 'm rush 'm emergency '' etc . n't realize 's worth n't think consequences wards . adults might also eat driving still get distracted driving . 'll reach fries taking second road could end uo biggest time lives.Once opinion think drivers general time whatever reason phones . However even say n't wont nothing everybody opinion like mine . States , agencies , companies etc . driving texting experience know young teenage kids . People experienced never done know ever since went whatever 've never grabbed phone driving . n't think technology benefit type way except gps operating vehicle effective way .\n",
      "Index:  544\n",
      "Predicted Label: 0, Actual Label: 1\n",
      "Text: According official DMV website , 2014 26 % car crashes involved cell phone use . Considering factors cause accidents large percentage . many distractions uncertainties roads , need add another one hinder driving ability . looking away second could make lose precious reaction time . complete removal use cell phones operating would make roads lot safer.More people getting roads making imperative practice safe driving habits . 481,000 people using cell phones driving . Cell phones contribute distracted driving . considered one three types distraction : Visual- removing eyes road , Manual- removing hands wheel , Cognitive-removing attention focus driving . lead catastrophic consequences passengers vehicle . stands hands-free solution lie see 's better . people n't drive hands comfortable driving . Teens little experience high cell phone use create double danger.While people high experience may think exempt still human . average reaction time visual stimulus 0.25 sec . Drivers spend much looking phones time realize 's happening late . prevent several alternatives one could necessary use phone . finish call text conversations driving . 're constantly checking map make sure know location get b efore getting . Even n't finished conversation set phone disturbed slightly distracted.Cell phones great advancement technology make live lot easier , 60 highway . creation handsfree make easier use phone safer . inclusion attack phone use vehicles step safer roads . should't use cars need heavily pressed upon late .\n",
      "Index:  677\n",
      "Predicted Label: 0, Actual Label: 1\n",
      "Text: Phones DrivingIn recent years younger older drivers use mobile phone lot time , time includes middle driving . drivers able able use phones operating car vehicle ? Well , going number deaths caused every year , certainly allowed even legal ( , case already legal ) .Using telephone whereas driving creates monumental potential deaths injuries U.S. roads . 2017 alone , 3,166 folks killed motorcar crashes involving distracted drivers . report , `` Teen Distracted Driver Data '' NHTSA . Showed following results : ? According AAA poll , 94 percent teen drivers acknowledge dangers texting driving , 35 % admitted anyway. ? 21 percent teen drivers involved fatal accidents distracted cell phones. ? Teen drivers 4x likely adults get car crashes near-crashes talking texting cell phone. ? teen driver one additional passenger doubles risk getting fatal car accident . two passengers , 5x likely.The numbers teens dying per year shows supports laws placed using mobile cell phone device , operating vehicle.A poll done `` Zebra '' 2019 general statistics people using mobile cell phone device behind wheel car : ? National Safety Council reports cell phone use driving leads 1.6 million crashes year. ? Nearly 390,000 injuries occur year accidents caused texting driving. ? 1 every 4 car accidents United States caused texting driving. ? Texting driving 6x likely cause accident driving drunk. ? Answering text takes away attention five seconds . Traveling 55 mph , 's enough time travel length football field. ? Texting driving causes 400 percent increase time spent eyes road. ? cell phone related tasks , texting far dangerous activity. ? 94 percent drivers support ban texting driving. ? 74 percent drivers support ban hand-held cell phone use.Based results poll , linking results , results list teens using mobile devices behind wheel results . shows problem occur teens , grown people , , shows real seriousness situation much really need laws already place using phones behind wheel car.CONCLUSIONIn conclusion , laws placed using phone behind wheel car , protect car driver , driver possible fatal collision cars road . actuality really need STRICTER laws matter whole , really serious , fatal matter needs attention.Works CitedSchroeder , P. , Meyers , M. , & Kostuniuk , L. ( 2013 , April ) . National survey distracted driving attitudes behaviors - 2012 . ( Report . DOT HS 811 729 ) . Washington , DC : National Highway Traffic Safety Administration . `` Distracted Driving 2013 . '' National Highway Traffic Safety Administration . April 2015 . ( https : //www . edgarsnyder . com/car-accident/cause-of-accident/cell-phone/cell-phone-statis tics . html )\n",
      "\n"
     ]
    }
   ],
   "source": [
    "for label in [0, 1]:  # Iterate through each of the two labels\n",
    "    print(f'False predictions for label {label}:')\n",
    "    # Find indices of false predictions for the current label\n",
    "    false_pred_indices = [(index, y_p) for index, (y_t, y_p) in enumerate(zip(y_test, y_pred)) if y_t == label and y_p != y_t]\n",
    "    # Print the input text for these false predictions along with their predicted and actual labels\n",
    "    for index, pred_label in false_pred_indices[:5]:  # Limiting to first 5 false predictions for brevity\n",
    "        print(f\"Index:  {index}\")\n",
    "        print(f\"Predicted Label: {pred_label}, Actual Label: {label}\")\n",
    "        print(f\"Text: {df_train.iloc[index]['text']}\")\n",
    "    print()  # Add a newline for better readability between labels"
   ]
  },
  {
   "cell_type": "code",
   "execution_count": 31,
   "id": "9e6a38f9",
   "metadata": {
    "execution": {
     "iopub.execute_input": "2024-06-25T06:57:09.952864Z",
     "iopub.status.busy": "2024-06-25T06:57:09.952091Z",
     "iopub.status.idle": "2024-06-25T06:57:10.053656Z",
     "shell.execute_reply": "2024-06-25T06:57:10.052707Z"
    },
    "papermill": {
     "duration": 2.146812,
     "end_time": "2024-06-25T06:57:10.055802",
     "exception": false,
     "start_time": "2024-06-25T06:57:07.908990",
     "status": "completed"
    },
    "tags": []
   },
   "outputs": [
    {
     "name": "stdout",
     "output_type": "stream",
     "text": [
      "1/1 [==============================] - 0s 52ms/step\n"
     ]
    },
    {
     "data": {
      "text/plain": [
       "array([[9.9999762e-01],\n",
       "       [1.9224342e-05],\n",
       "       [1.7257524e-05]], dtype=float32)"
      ]
     },
     "execution_count": 31,
     "metadata": {},
     "output_type": "execute_result"
    }
   ],
   "source": [
    "y_pred = model.predict(df_test_essay['text'])\n",
    "y_pred"
   ]
  },
  {
   "cell_type": "code",
   "execution_count": 32,
   "id": "c79342e6",
   "metadata": {
    "execution": {
     "iopub.execute_input": "2024-06-25T06:57:14.049063Z",
     "iopub.status.busy": "2024-06-25T06:57:14.048693Z",
     "iopub.status.idle": "2024-06-25T06:57:14.057694Z",
     "shell.execute_reply": "2024-06-25T06:57:14.056695Z"
    },
    "papermill": {
     "duration": 2.033459,
     "end_time": "2024-06-25T06:57:14.059635",
     "exception": false,
     "start_time": "2024-06-25T06:57:12.026176",
     "status": "completed"
    },
    "tags": []
   },
   "outputs": [],
   "source": [
    "submission_data = {'id': df_test_essay['id'], 'generated': y_pred[:, 0]}\n",
    "submission = pd.DataFrame(submission_data)\n",
    "\n",
    "# Save the DataFrame to a CSV file\n",
    "submission.to_csv('submission.csv', index=False)"
   ]
  },
  {
   "cell_type": "code",
   "execution_count": 33,
   "id": "265cf2b2",
   "metadata": {
    "execution": {
     "iopub.execute_input": "2024-06-25T06:57:18.098096Z",
     "iopub.status.busy": "2024-06-25T06:57:18.097728Z",
     "iopub.status.idle": "2024-06-25T06:57:18.109238Z",
     "shell.execute_reply": "2024-06-25T06:57:18.108330Z"
    },
    "papermill": {
     "duration": 2.049384,
     "end_time": "2024-06-25T06:57:18.111281",
     "exception": false,
     "start_time": "2024-06-25T06:57:16.061897",
     "status": "completed"
    },
    "tags": []
   },
   "outputs": [
    {
     "data": {
      "text/html": [
       "<div>\n",
       "<style scoped>\n",
       "    .dataframe tbody tr th:only-of-type {\n",
       "        vertical-align: middle;\n",
       "    }\n",
       "\n",
       "    .dataframe tbody tr th {\n",
       "        vertical-align: top;\n",
       "    }\n",
       "\n",
       "    .dataframe thead th {\n",
       "        text-align: right;\n",
       "    }\n",
       "</style>\n",
       "<table border=\"1\" class=\"dataframe\">\n",
       "  <thead>\n",
       "    <tr style=\"text-align: right;\">\n",
       "      <th></th>\n",
       "      <th>id</th>\n",
       "      <th>generated</th>\n",
       "    </tr>\n",
       "  </thead>\n",
       "  <tbody>\n",
       "    <tr>\n",
       "      <th>0</th>\n",
       "      <td>0000aaaa</td>\n",
       "      <td>0.999998</td>\n",
       "    </tr>\n",
       "    <tr>\n",
       "      <th>1</th>\n",
       "      <td>1111bbbb</td>\n",
       "      <td>0.000019</td>\n",
       "    </tr>\n",
       "    <tr>\n",
       "      <th>2</th>\n",
       "      <td>2222cccc</td>\n",
       "      <td>0.000017</td>\n",
       "    </tr>\n",
       "  </tbody>\n",
       "</table>\n",
       "</div>"
      ],
      "text/plain": [
       "         id  generated\n",
       "0  0000aaaa   0.999998\n",
       "1  1111bbbb   0.000019\n",
       "2  2222cccc   0.000017"
      ]
     },
     "execution_count": 33,
     "metadata": {},
     "output_type": "execute_result"
    }
   ],
   "source": [
    "pd.read_csv(\"/kaggle/working/submission.csv\")"
   ]
  },
  {
   "cell_type": "code",
   "execution_count": 34,
   "id": "af159939",
   "metadata": {
    "execution": {
     "iopub.execute_input": "2024-06-25T06:57:22.174404Z",
     "iopub.status.busy": "2024-06-25T06:57:22.174033Z",
     "iopub.status.idle": "2024-06-25T06:57:22.179177Z",
     "shell.execute_reply": "2024-06-25T06:57:22.178183Z"
    },
    "papermill": {
     "duration": 2.011549,
     "end_time": "2024-06-25T06:57:22.181302",
     "exception": false,
     "start_time": "2024-06-25T06:57:20.169753",
     "status": "completed"
    },
    "tags": []
   },
   "outputs": [
    {
     "name": "stdout",
     "output_type": "stream",
     "text": [
      "done\n"
     ]
    }
   ],
   "source": [
    "print('done')"
   ]
  }
 ],
 "metadata": {
  "kaggle": {
   "accelerator": "gpu",
   "dataSources": [
    {
     "databundleVersionId": 7516023,
     "sourceId": 61542,
     "sourceType": "competition"
    },
    {
     "datasetId": 4005256,
     "sourceId": 6977472,
     "sourceType": "datasetVersion"
    },
    {
     "modelInstanceId": 1902,
     "sourceId": 2628,
     "sourceType": "modelInstanceVersion"
    },
    {
     "modelInstanceId": 2180,
     "sourceId": 2938,
     "sourceType": "modelInstanceVersion"
    }
   ],
   "dockerImageVersionId": 30627,
   "isGpuEnabled": true,
   "isInternetEnabled": false,
   "language": "python",
   "sourceType": "notebook"
  },
  "kernelspec": {
   "display_name": "Python 3",
   "language": "python",
   "name": "python3"
  },
  "language_info": {
   "codemirror_mode": {
    "name": "ipython",
    "version": 3
   },
   "file_extension": ".py",
   "mimetype": "text/x-python",
   "name": "python",
   "nbconvert_exporter": "python",
   "pygments_lexer": "ipython3",
   "version": "3.10.12"
  },
  "papermill": {
   "default_parameters": {},
   "duration": 4225.406122,
   "end_time": "2024-06-25T06:57:27.195972",
   "environment_variables": {},
   "exception": null,
   "input_path": "__notebook__.ipynb",
   "output_path": "__notebook__.ipynb",
   "parameters": {},
   "start_time": "2024-06-25T05:47:01.789850",
   "version": "2.4.0"
  }
 },
 "nbformat": 4,
 "nbformat_minor": 5
}
