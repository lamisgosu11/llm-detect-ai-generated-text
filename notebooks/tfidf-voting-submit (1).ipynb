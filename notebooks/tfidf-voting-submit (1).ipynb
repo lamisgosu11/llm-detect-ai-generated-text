{
 "cells": [
  {
   "cell_type": "code",
   "execution_count": 1,
   "id": "5b9a7850",
   "metadata": {
    "execution": {
     "iopub.execute_input": "2024-06-24T07:10:23.197577Z",
     "iopub.status.busy": "2024-06-24T07:10:23.197186Z",
     "iopub.status.idle": "2024-06-24T07:10:23.202904Z",
     "shell.execute_reply": "2024-06-24T07:10:23.201879Z"
    },
    "papermill": {
     "duration": 0.01382,
     "end_time": "2024-06-24T07:10:23.205465",
     "exception": false,
     "start_time": "2024-06-24T07:10:23.191645",
     "status": "completed"
    },
    "tags": []
   },
   "outputs": [],
   "source": [
    "# !pip install tokenmonster"
   ]
  },
  {
   "cell_type": "code",
   "execution_count": 2,
   "id": "de47bf6a",
   "metadata": {
    "_cell_guid": "b1076dfc-b9ad-4769-8c92-a6c4dae69d19",
    "_uuid": "8f2839f25d086af736a60e9eeb907d3b93b6e0e5",
    "execution": {
     "iopub.execute_input": "2024-06-24T07:10:23.214455Z",
     "iopub.status.busy": "2024-06-24T07:10:23.214083Z",
     "iopub.status.idle": "2024-06-24T07:10:26.046749Z",
     "shell.execute_reply": "2024-06-24T07:10:26.045604Z"
    },
    "papermill": {
     "duration": 2.840125,
     "end_time": "2024-06-24T07:10:26.049477",
     "exception": false,
     "start_time": "2024-06-24T07:10:23.209352",
     "status": "completed"
    },
    "tags": []
   },
   "outputs": [],
   "source": [
    "import regex as re\n",
    "import numpy as np\n",
    "import pandas as pd\n",
    "from sklearn.ensemble import VotingClassifier\n",
    "from sklearn.linear_model import SGDClassifier\n",
    "from sklearn.linear_model import LogisticRegressionCV\n",
    "from sklearn.naive_bayes import MultinomialNB\n",
    "from sklearn.feature_extraction.text import TfidfVectorizer\n",
    "\n",
    "#local eval\n",
    "from sklearn.model_selection import train_test_split\n",
    "from sklearn.metrics import accuracy_score, recall_score, precision_score,classification_report, confusion_matrix, f1_score, roc_auc_score"
   ]
  },
  {
   "cell_type": "code",
   "execution_count": 3,
   "id": "23f28a4a",
   "metadata": {
    "execution": {
     "iopub.execute_input": "2024-06-24T07:10:26.058915Z",
     "iopub.status.busy": "2024-06-24T07:10:26.057650Z",
     "iopub.status.idle": "2024-06-24T07:10:26.064147Z",
     "shell.execute_reply": "2024-06-24T07:10:26.062837Z"
    },
    "papermill": {
     "duration": 0.013502,
     "end_time": "2024-06-24T07:10:26.066534",
     "exception": false,
     "start_time": "2024-06-24T07:10:26.053032",
     "status": "completed"
    },
    "tags": []
   },
   "outputs": [],
   "source": [
    "#seed_everything\n",
    "seed = 42\n",
    "def seed_everything(seed):\n",
    "    np.random.seed(seed)\n",
    "    import random\n",
    "    random.seed(seed)\n",
    "    \n",
    "seed_everything(seed)"
   ]
  },
  {
   "cell_type": "code",
   "execution_count": 4,
   "id": "727abf44",
   "metadata": {
    "execution": {
     "iopub.execute_input": "2024-06-24T07:10:26.075351Z",
     "iopub.status.busy": "2024-06-24T07:10:26.074944Z",
     "iopub.status.idle": "2024-06-24T07:10:28.558005Z",
     "shell.execute_reply": "2024-06-24T07:10:28.556856Z"
    },
    "papermill": {
     "duration": 2.490654,
     "end_time": "2024-06-24T07:10:28.560618",
     "exception": false,
     "start_time": "2024-06-24T07:10:26.069964",
     "status": "completed"
    },
    "tags": []
   },
   "outputs": [],
   "source": [
    "train = pd.read_csv(\"/kaggle/input/daigt-v2-train-dataset/train_v2_drcat_02.csv\")\n",
    "test = pd.read_csv('/kaggle/input/llm-detect-ai-generated-text/test_essays.csv')\n",
    "train_ex = pd.read_csv('/kaggle/input/llm-detect-ai-generated-text/train_essays.csv')"
   ]
  },
  {
   "cell_type": "code",
   "execution_count": 5,
   "id": "7fb2a346",
   "metadata": {
    "execution": {
     "iopub.execute_input": "2024-06-24T07:10:28.569411Z",
     "iopub.status.busy": "2024-06-24T07:10:28.568710Z",
     "iopub.status.idle": "2024-06-24T07:10:28.763961Z",
     "shell.execute_reply": "2024-06-24T07:10:28.762852Z"
    },
    "papermill": {
     "duration": 0.202546,
     "end_time": "2024-06-24T07:10:28.766733",
     "exception": false,
     "start_time": "2024-06-24T07:10:28.564187",
     "status": "completed"
    },
    "tags": []
   },
   "outputs": [
    {
     "data": {
      "text/plain": [
       "label\n",
       "0    27371\n",
       "1    17497\n",
       "Name: count, dtype: int64"
      ]
     },
     "execution_count": 5,
     "metadata": {},
     "output_type": "execute_result"
    }
   ],
   "source": [
    "train['text'] = train['text'].str.replace('\\n', '')\n",
    "test['text'] = test['text'].str.replace('\\n', '')\n",
    "train['label'].value_counts()"
   ]
  },
  {
   "cell_type": "code",
   "execution_count": 6,
   "id": "8b130274",
   "metadata": {
    "execution": {
     "iopub.execute_input": "2024-06-24T07:10:28.778637Z",
     "iopub.status.busy": "2024-06-24T07:10:28.777040Z",
     "iopub.status.idle": "2024-06-24T07:11:50.559041Z",
     "shell.execute_reply": "2024-06-24T07:11:50.557836Z"
    },
    "papermill": {
     "duration": 81.794665,
     "end_time": "2024-06-24T07:11:50.565136",
     "exception": false,
     "start_time": "2024-06-24T07:10:28.770471",
     "status": "completed"
    },
    "tags": []
   },
   "outputs": [
    {
     "name": "stdout",
     "output_type": "stream",
     "text": [
      "Preprocessing train data...\n",
      "before:\n",
      "--LABEL= 1--\n",
      "\n",
      "[\" In recent years, technology has had a profound impact on our daily lives and the world around us. From staying connected with loved ones to ordering food online through an app, technology has made our lives easier and more convenient. However, with great power comes great responsibility, and technology can also have negative consequences if used improperly.One example of this is the spread of misinformation through the internet. It's easy to find articles and sources that may not be accurate or reliable, which can lead to confusion and even harm. Additionally, technology can also pose a threat to our privacy and security if we are not careful about the websites and apps we use.Despite these potential drawbacks, I believe that technology can be a powerful tool for achieving great things. For example, technology has revolutionized the way we learn and access information. With the internet, we can easily find resources and information on any topic, making it easier to stay informed and up-to-date on current events.Furthermore, technology has opened up new opportunities for collaboration and communication, allowing people from all over the world to work together and share ideas. This has led to many great achievements and innovations, and I believe that technology will continue to play a vital role in shaping our future.In conclusion, while technology has its drawbacks, I believe that its potential benefits far outweigh the risks. With responsible use and proper precautions, technology can be a powerful tool for achieving great things and improving our lives.\"\n",
      " \"I strongly believe that meditation and mindfulness practices should be included in schools. These practices have numerous benefits for students, including reducing stress and anxiety, improving focus and concentration, and promoting a sense of calm and well-being.Firstly, meditation and mindfulness practices have been shown to reduce stress and anxiety in students. In today's fast-paced world, students are often overwhelmed with academic pressures, social media, and other stressors that can affect their mental health. Meditation and mindfulness practices have been proven to help alleviate these stresses, promoting relaxation and calmness. For example, a study conducted by the University of California found that students who participated in a mindfulness program showed a significant reduction in stress and anxiety levels.Secondly, meditation and mindfulness practices can improve focus and concentration. In today's digital age, students are constantly distracted by their phones, computers, and other electronic devices. Meditation and mindfulness practices help students develop the ability to focus their attention and concentrate on their work. For instance, a study conducted by the University of Washington found that students who meditated regularly showed improved attention and cognitive skills.Furthermore, meditation and mindfulness practices promote a sense of calm and well-being in students. In addition to reducing stress and improving focus, these practices can also help students develop a greater sense of self-awareness and emotional intelligence. This can lead to better relationships with peers and teachers, as well as improved academic performance. For example, a study conducted by the University of British Columbia found that students who participated in a mindfulness program showed improved emotional regulation and social skills.In conclusion, the inclusion of meditation and mindfulness practices in schools has numerous benefits for students. These practices have been proven to reduce stress and anxiety, improve focus and concentration, and promote a sense of calm and well-being. As a student in grade 8, I believe that these practices should be incorporated into the school day to help students achieve their full potential and live healthier, happier lives.\"\n",
      " 'One way school administrators can attempt to create an environment conducive to learning is by regulating the use of phones during school lunch. On the one hand, having a policy that allows the use of phones during school lunch can create a more relaxed atmosphere and provide students with an opportunity to unwind and connect with friends and family outside of the classroom. Furthermore, allowing phones during lunch can make it easier for students to access educational resources, such as online dictionaries and fact-checking websites. On the other hand, having a policy that does not allow phones during school lunch can help create an environment that is less distracting for both students and staff. This can allow students to focus on their lunch and conversations with their peers, while providing a break from constant phone use. Additionally, not allowing phones during lunch can also reduce the risk of data misuse, as students become less exposed to social media and online services. Ultimately, each school will need to decide which policy is appropriate for its setting, in order to create a safe and supportive school environment.'\n",
      " 'While summer is meant as a break from the regular school routine, having some structured learning over the summer can help students maintain important skills and knowledge. When given the choice, I believe summer projects are best when student-designed rather than teacher-designed.When students have autonomy in choosing their own summer project topics, they are more motivated to engage in meaningful learning. By allowing students to pick subjects they find genuinely interesting or relevant to their lives, they will be internally driven to explore the topic in depth. This type of intrinsic motivation leads to better focus and quality of work compared to assignments chosen by teachers without student input. Giving students ownership over project topics also fosters independence and skill development. By guiding their own work, students learn valuable skills like time management, decision making, and self-directed learning - skills that will serve them well in higher education and careers. Trying to complete a task completely of their own design also builds confidence facing open-ended challenges.Of course, some guidance is still useful to ensure projects have educational merit. Teachers could provide general parameters like the type of final work (essay, presentation, etc.) or subject area but leave the specific focus up to students. This balance of student choice within guidelines maximizes engagement while maintaining academic standards.In conclusion, when the goal is to sustain learning over summer break, student-designed projects are ideal. By letting students follow their interests with some guidance, they are intrinsically driven to dive deeply into self-directed work - an approach that serves their development far better than topics assigned externally. Autonomy, motivation and skill-building will better prepare students for future challenges compared to rigid, teacher-driven assignments over break.'\n",
      " \"The use of Facial Action Coding System (FACS) technology to read students' emotional expressions in the classroom could have both benefits and drawbacks. On one hand, this technology may help teachers understand how their lessons are engaging students on an emotional level. If a teacher notices many students appear bored or confused during a lesson, FACS could provide valuable feedback to improve instruction methods. It could also assist teachers in identifying students who are struggling emotionally but may not express it otherwise. This type of technology could help teachers provide better emotional support to students. However, constant monitoring of students' facial expressions with FACS also raises privacy and behavioral issues. Students may feel uncomfortable knowing their emotional reactions are being surveilled and analyzed in real time. This could increase anxiety and discourage natural emotional responses during class. Students should feel free to focus internally on learning without worrying about expressions being screened. Additionally, identifying emotions through facial expressions alone may not provide full context and could result in misinterpretations. A student's expression may not accurately reflect how they internally feel about a lesson.Overall, while FACS technology aims to give teachers useful insights, its continuous use in the classroom to monitor students risks invading privacy and altering natural classroom behaviors. Teachers could benefit from occasional voluntary emotional check-ins with students, but constant facial monitoring goes too far. More traditional methods of teacher-student communication are generally preferable to validate a student's emotional experience in school. If used sparingly and with consent, this technology may offer value, but broader application could do more harm than good.\"]\n",
      "--LABEL= 0--\n",
      "\n",
      "[\"PhonesModern humans today are always on their phone. They are always on their phone more than 5 hours a day no stop .All they do is text back and forward and just have group Chats on social media. They even do it while driving. They are some really bad consequences when stuff happens when it comes to a phone. Some certain areas in the United States ban phones from class rooms just because of it.When people have phones, they know about certain apps that they have .Apps like Facebook Twitter Instagram and Snapchat. So like if a friend moves away and you want to be in contact you can still be in contact by posting videos or text messages. People always have different ways how to communicate with a phone. Phones have changed due to our generation.Driving is one of the way how to get around. People always be on their phones while doing it. Which can cause serious Problems. That's why there's a thing that's called no texting while driving. That's a really important thing to remember. Some people still do it because they think It's stupid. No matter what they do they still have to obey it because that's the only way how did he save.Sometimes on the news there is either an accident or a suicide. It might involve someone not looking where they're going or tweet that someone sent. It either injury or death. If a mysterious number says I'm going to kill you and they know where you live but you don't know the person's contact ,It makes you puzzled and make you start to freak out. Which can end up really badly.Phones are fine to use and it's also the best way to come over help. If you go through a problem and you can't find help you ,always have a phone there with you. Even though phones are used almost every day as long as you're safe it would come into use if you get into trouble. Make sure you do not be like this phone while you're in the middle of driving. The news always updated when people do something stupid around that involves their phones. The safest way is the best way to stay safe.    \"\n",
      " \"This essay will explain if drivers should or should not be able to use electronic devices while operating a vehicle. Using a phone while driving can cause very bad wrecks, because they are putting themselves and other people at risk. People should not be able to use cell phones while operating a vehicle is because bad wrecks, putting others' lives in danger, and may cause death.First of all, wrecks can be caused by looking down at your phone while driving. Most importantly, you should always keep your eyes directly on the road when behind the wheel of a car. On that note, you will have an outrageously car payment just because you were looking down at your phone. Moreover, if you the reason the accident happened the person that was operating the other car can sue you for lots of money, and you will have to pay it. Therefore, if you don't pay whatever the person charges you consequences will be served and that's behind bars.Another reason why we should not be able to use cell phones while operating an automobile is that you are putting other people's lives in danger. Thus, looking down at your cell phone you can get someone else hurt for the uncommunicative act you committed. As well as unconsciousness, injuries, or being in a hospital.The main key to not texting and driving while behind the wheel of a car. Mainly, it can cause tragic, terrifying, and horrific things to you and to others and that's death. That's the most important thing to not using electronic devices while operating a vehicle. With the intension, of you not keeping your eyes and staying focus on the road you can easily turn off the road or hit another victim. Possibly another humankind could go away of all flesh because of your stupidity.Must be remembered, always stay focus on the road so you can get to your destination safely. So, you can't cause accidents, put other people lives in danger, and possibly death. Important to realize, do not use your phone while operating a vehicle. At least, wait till you make a safe stop or until you arrive at your destination.                                                                      \"\n",
      " \"Driving while the use of cellular devicesToday, most of the society is thoughtless. Especially new drivers, all driver for that matter do not understand the dangers of looking at a cell phone while behind the wheel.The automobile crashes due to distracted driving are increasing, teens have been the largest age group that was reported to being distracted by cellular usage. I do not agree with people using their cell phones and driving, humans should be smarter to know that if something is going on while they are driving that is so important then pulling off to the side of the road. The society doesn't understand that teens are the main cause for accidents I mean, in two thousand and five there was three hundred and one thousand injuries that were caused in distracted driving related accidents, that doesn't necessarily mean that the driver was texting or using a cellular device. New drivers do not understand that deaths are usually results of an accident. one out of every four car accidents is caused by texting and driving.   \"\n",
      " 'Phones & DrivingDrivers should not be able to use phones while operating a vehicle. Drivers who used their phone while operating a vehicle are most likely to get into an accident that could be fatal.According to an article by the Edgar Snyder Firm, 21% of teens that were part of a fatal car accident was due to phones. According to the same article, 35% know the risk but continue using their phones while on the road. This shows that its beyond dangerous and irresponsible of drivers not to be fully aware of their surroundings while driving. Drivers should be able to concentrate without any distractions, because it could be fatal.According to another article, \"Distracted Driving\" by the NHTSA, there has already been about 3,000 phone related car accident deaths since 2017. The article states that teen get too distracted with their phones, which causes their accident. Accidents that can be easily avoided by focusing on the road and not a phone. Drivers should not be able to use their phones at all while driving.In conclusion, drivers should not able to work a vehicle while using their cell phone. Drivers who uses their phones while operating a vehicle and are likely to have an accident then those who don\\'t.             '\n",
      " \"Cell Phone Operation While DrivingThe ability to stay connected to people we know despite distance was originally brought to fruition by the use of letters. This system was found to be rather slow and new pathways were searched for until the invention of the telegram; the people thought it was an invention of the millennia, but after time it too was thought of as slow until the invention of the telephone. Today, a telephone is in the hand or pocket of a majority of the seven billion people on planet earth. However, this device is taken to areas that it is irresponsible and dangerous.Within a vehicle capable of traveling upwards of one hundred miles per hour any possible distraction can become fatal spontaneously. The most common of these distractions is a cell phone, with its capabilities to connect us to anyone also in ownership of one, it is easy to pick it up whenever it sounds. In that split second of reaching over for a phone, eyes no longer on the road, it is impossible to no an exact location of anything, making an extremely dangerous action. For the myriad of possibilities that lead to serious injury cell phones should stay in the current state they are in regards of the law, but taken as a more serious offense.Conversely people may believe that laws in present need to change, becoming less restrictive. People have the right to communicate with whom they wish, when or wherever they may choose to do so. The problem becomes apparent that this is a selfish process of thought; people aren't thinking of those they share the road with. Laws currently in place are not to punish people making poor choices, they are an attempt to keep people safe.The creation of telecommunication devices was to keep connected to others without regard to the obsession that would encompass the human mind that was bound to follow. The safety of people is top priority without exemption.      \"]\n"
     ]
    },
    {
     "name": "stdout",
     "output_type": "stream",
     "text": [
      "CPU times: user 1min 21s, sys: 180 ms, total: 1min 21s\n",
      "Wall time: 1min 21s\n"
     ]
    }
   ],
   "source": [
    "%%time\n",
    "import nltk\n",
    "from nltk.tokenize import word_tokenize\n",
    "from nltk.corpus import stopwords\n",
    "from nltk.stem import PorterStemmer\n",
    "from nltk.stem import WordNetLemmatizer\n",
    "\n",
    "#tokenizer \n",
    "# nltk.download('wordnet')\n",
    "\n",
    "def preprocess(text):\n",
    "    # lowercase\n",
    "    text = text.lower()\n",
    "    # remove special characters and digits\n",
    "    text = re.sub(\"(\\\\d|\\\\W)+\", \" \", text)\n",
    "    # remove extra spaces\n",
    "    text = text.strip()\n",
    "    return text \n",
    "\n",
    "print('Preprocessing train data...')\n",
    "print('before:')\n",
    "print('--LABEL= 1--\\n')\n",
    "print(train[train['label'] == 1].head(5)['text'].values)\n",
    "print('--LABEL= 0--\\n')\n",
    "print(train[train['label'] == 0].head(5)['text'].values)\n",
    "train['text'] = train['text'].apply(preprocess)\n",
    "test['text'] = test['text'].apply(preprocess)\n",
    "#stopwords\n",
    "stop_words = set(stopwords.words('english'))\n",
    "train['text'] = train['text'].apply(lambda x: ' '.join([word for word in word_tokenize(x) if word not in stop_words]))\n",
    "test['text'] = test['text'].apply(lambda x: ' '.join([word for word in word_tokenize(x) if word not in stop_words]))\n",
    "# #tokenize\n",
    "# train['text'] = train['text'].apply(lambda x: word_tokenize(x))\n",
    "# test['text'] = test['text'].apply(lambda x: word_tokenize(x))"
   ]
  },
  {
   "cell_type": "code",
   "execution_count": 7,
   "id": "aab31c23",
   "metadata": {
    "execution": {
     "iopub.execute_input": "2024-06-24T07:11:50.574541Z",
     "iopub.status.busy": "2024-06-24T07:11:50.574166Z",
     "iopub.status.idle": "2024-06-24T07:11:50.589188Z",
     "shell.execute_reply": "2024-06-24T07:11:50.587875Z"
    },
    "papermill": {
     "duration": 0.022479,
     "end_time": "2024-06-24T07:11:50.591504",
     "exception": false,
     "start_time": "2024-06-24T07:11:50.569025",
     "status": "completed"
    },
    "tags": []
   },
   "outputs": [
    {
     "name": "stdout",
     "output_type": "stream",
     "text": [
      "after:\n",
      "--LABEL= 1--\n",
      "\n",
      "['recent years technology profound impact daily lives world around us staying connected loved ones ordering food online app technology made lives easier convenient however great power comes great responsibility technology also negative consequences used improperly one example spread misinformation internet easy find articles sources may accurate reliable lead confusion even harm additionally technology also pose threat privacy security careful websites apps use despite potential drawbacks believe technology powerful tool achieving great things example technology revolutionized way learn access information internet easily find resources information topic making easier stay informed date current events furthermore technology opened new opportunities collaboration communication allowing people world work together share ideas led many great achievements innovations believe technology continue play vital role shaping future conclusion technology drawbacks believe potential benefits far outweigh risks responsible use proper precautions technology powerful tool achieving great things improving lives']\n",
      "--LABEL= 0--\n",
      "\n",
      "['phonesmodern humans today always phone always phone hours day stop text back forward group chats social media even driving really bad consequences stuff happens comes phone certain areas united states ban phones class rooms people phones know certain apps apps like facebook twitter instagram snapchat like friend moves away want contact still contact posting videos text messages people always different ways communicate phone phones changed due generation driving one way get around people always phones cause serious problems thing called texting driving really important thing remember people still think stupid matter still obey way save sometimes news either accident suicide might involve someone looking going tweet someone sent either injury death mysterious number says going kill know live know person contact makes puzzled make start freak end really badly phones fine use also best way come help go problem find help always phone even though phones used almost every day long safe would come use get trouble make sure like phone middle driving news always updated people something stupid around involves phones safest way best way stay safe']\n"
     ]
    }
   ],
   "source": [
    "print('after:')\n",
    "print('--LABEL= 1--\\n')\n",
    "print(train[train['label'] == 1].head(1)['text'].values)\n",
    "print('--LABEL= 0--\\n')\n",
    "print(train[train['label'] == 0].head(1)['text'].values)"
   ]
  },
  {
   "cell_type": "code",
   "execution_count": 8,
   "id": "ce3e8ead",
   "metadata": {
    "execution": {
     "iopub.execute_input": "2024-06-24T07:11:50.601716Z",
     "iopub.status.busy": "2024-06-24T07:11:50.601342Z",
     "iopub.status.idle": "2024-06-24T07:11:50.607126Z",
     "shell.execute_reply": "2024-06-24T07:11:50.605899Z"
    },
    "papermill": {
     "duration": 0.013982,
     "end_time": "2024-06-24T07:11:50.609671",
     "exception": false,
     "start_time": "2024-06-24T07:11:50.595689",
     "status": "completed"
    },
    "tags": []
   },
   "outputs": [],
   "source": [
    "# %%time\n",
    "# # for submission\n",
    "# df = pd.concat([train['text'], test['text']])\n",
    "\n",
    "# vectorizer = TfidfVectorizer(ngram_range=(1,3 ), dtype=np.float32)\n",
    "\n",
    "# # vectorizer = vectorizer.fit(test['text'])\n",
    "# vectorizer = vectorizer.fit(df)\n",
    "# X = vectorizer.transform(df)\n",
    "\n",
    "# lr_model = LogisticRegressionCV()\n",
    "# sgd_model = SGDClassifier(max_iter=5000, loss=\"modified_huber\", random_state=seed)\n",
    "# mnb = MultinomialNB()\n",
    "\n",
    "# ensemble = VotingClassifier(estimators=[('lr', lr_model),\n",
    "#                                         ('sgd', sgd_model),\n",
    "#                                         ('mnb', mnb)\n",
    "#                                        ],\n",
    "#                             voting='soft'\n",
    "#                            )\n",
    "# ensemble.fit(X[:train.shape[0]], train.label)\n",
    "# preds_test = ensemble.predict_proba(X[train.shape[0]:])[:, 1]\n",
    "# pd.DataFrame({'id':test[\"id\"], 'generated':preds_test}).to_csv('submission.csv', index=False)"
   ]
  },
  {
   "cell_type": "code",
   "execution_count": null,
   "id": "587860c6",
   "metadata": {
    "papermill": {
     "duration": null,
     "end_time": null,
     "exception": false,
     "start_time": "2024-06-24T07:11:50.613777",
     "status": "running"
    },
    "tags": []
   },
   "outputs": [],
   "source": [
    "%%time\n",
    "# for submission\n",
    "df = pd.concat([train['text'], test['text']])\n",
    "\n",
    "vectorizer = TfidfVectorizer(ngram_range=(1,3 ), dtype=np.float32)\n",
    "\n",
    "# vectorizer = vectorizer.fit(test['text'])\n",
    "vectorizer = vectorizer.fit(df)\n",
    "X = vectorizer.transform(df)\n",
    "\n",
    "lr_model = LogisticRegressionCV()\n",
    "\n",
    "lr_model.fit(X[:train.shape[0]], train.label)\n",
    "preds_test = lr_model.predict_proba(X[train.shape[0]:])[:, 1]\n",
    "pd.DataFrame({'id':test[\"id\"], 'generated':preds_test}).to_csv('submission.csv', index=False)"
   ]
  },
  {
   "cell_type": "code",
   "execution_count": null,
   "id": "d6a29255",
   "metadata": {
    "papermill": {
     "duration": null,
     "end_time": null,
     "exception": null,
     "start_time": null,
     "status": "pending"
    },
    "tags": []
   },
   "outputs": [],
   "source": [
    "# %%time\n",
    "# # for submission\n",
    "# df = pd.concat([train['text'], test['text']])\n",
    "\n",
    "# vectorizer = TfidfVectorizer(ngram_range=(1,3 ), dtype=np.float32)\n",
    "\n",
    "# # vectorizer = vectorizer.fit(test['text'])\n",
    "# vectorizer = vectorizer.fit(df)\n",
    "# X = vectorizer.transform(df)\n",
    "\n",
    "# sgd_model = SGDClassifier(max_iter=5000, loss=\"modified_huber\", random_state=seed)\n",
    "\n",
    "# sgd_model.fit(X[:train.shape[0]], train.label)\n",
    "# preds_test = sgd_model.predict_proba(X[train.shape[0]:])[:, 1]\n",
    "# pd.DataFrame({'id':test[\"id\"], 'generated':preds_test}).to_csv('submission.csv', index=False)"
   ]
  },
  {
   "cell_type": "code",
   "execution_count": null,
   "id": "854e1dc1",
   "metadata": {
    "papermill": {
     "duration": null,
     "end_time": null,
     "exception": null,
     "start_time": null,
     "status": "pending"
    },
    "tags": []
   },
   "outputs": [],
   "source": [
    "# %%time\n",
    "# # for submission\n",
    "# df = pd.concat([train['text'], test['text']])\n",
    "\n",
    "# vectorizer = TfidfVectorizer(ngram_range=(1,3 ), dtype=np.float32)\n",
    "\n",
    "# # vectorizer = vectorizer.fit(test['text'])\n",
    "# vectorizer = vectorizer.fit(df)\n",
    "# X = vectorizer.transform(df)\n",
    "\n",
    "# mnb = MultinomialNB()\n",
    "\n",
    "# mnb.fit(X[:train.shape[0]], train.label)\n",
    "# preds_test = mnb.predict_proba(X[train.shape[0]:])[:, 1]\n",
    "# pd.DataFrame({'id':test[\"id\"], 'generated':preds_test}).to_csv('submission.csv', index=False)"
   ]
  }
 ],
 "metadata": {
  "kaggle": {
   "accelerator": "none",
   "dataSources": [
    {
     "databundleVersionId": 7516023,
     "sourceId": 61542,
     "sourceType": "competition"
    },
    {
     "datasetId": 4005256,
     "sourceId": 6977472,
     "sourceType": "datasetVersion"
    }
   ],
   "dockerImageVersionId": 30732,
   "isGpuEnabled": false,
   "isInternetEnabled": false,
   "language": "python",
   "sourceType": "notebook"
  },
  "kernelspec": {
   "display_name": "Python 3",
   "language": "python",
   "name": "python3"
  },
  "language_info": {
   "codemirror_mode": {
    "name": "ipython",
    "version": 3
   },
   "file_extension": ".py",
   "mimetype": "text/x-python",
   "name": "python",
   "nbconvert_exporter": "python",
   "pygments_lexer": "ipython3",
   "version": "3.10.13"
  },
  "papermill": {
   "default_parameters": {},
   "duration": null,
   "end_time": null,
   "environment_variables": {},
   "exception": null,
   "input_path": "__notebook__.ipynb",
   "output_path": "__notebook__.ipynb",
   "parameters": {},
   "start_time": "2024-06-24T07:10:20.285383",
   "version": "2.5.0"
  }
 },
 "nbformat": 4,
 "nbformat_minor": 5
}