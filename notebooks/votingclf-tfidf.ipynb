{
 "cells": [
  {
   "cell_type": "code",
   "execution_count": 1,
   "id": "f3cd2b75",
   "metadata": {
    "_cell_guid": "b1076dfc-b9ad-4769-8c92-a6c4dae69d19",
    "_uuid": "8f2839f25d086af736a60e9eeb907d3b93b6e0e5",
    "execution": {
     "iopub.execute_input": "2024-06-25T06:19:25.917332Z",
     "iopub.status.busy": "2024-06-25T06:19:25.916922Z",
     "iopub.status.idle": "2024-06-25T06:19:28.793129Z",
     "shell.execute_reply": "2024-06-25T06:19:28.792017Z"
    },
    "papermill": {
     "duration": 2.887452,
     "end_time": "2024-06-25T06:19:28.796057",
     "exception": false,
     "start_time": "2024-06-25T06:19:25.908605",
     "status": "completed"
    },
    "tags": []
   },
   "outputs": [],
   "source": [
    "import regex as re\n",
    "import numpy as np\n",
    "import pandas as pd\n",
    "from sklearn.ensemble import VotingClassifier\n",
    "from sklearn.linear_model import SGDClassifier\n",
    "from sklearn.linear_model import LogisticRegressionCV\n",
    "from sklearn.naive_bayes import MultinomialNB\n",
    "from sklearn.feature_extraction.text import TfidfVectorizer\n",
    "\n",
    "#local eval\n",
    "from sklearn.model_selection import train_test_split\n",
    "from sklearn.metrics import accuracy_score, recall_score, precision_score,classification_report, confusion_matrix, f1_score, roc_auc_score"
   ]
  },
  {
   "cell_type": "code",
   "execution_count": 2,
   "id": "752b615b",
   "metadata": {
    "execution": {
     "iopub.execute_input": "2024-06-25T06:19:28.810818Z",
     "iopub.status.busy": "2024-06-25T06:19:28.810279Z",
     "iopub.status.idle": "2024-06-25T06:19:28.816405Z",
     "shell.execute_reply": "2024-06-25T06:19:28.815310Z"
    },
    "papermill": {
     "duration": 0.015898,
     "end_time": "2024-06-25T06:19:28.818691",
     "exception": false,
     "start_time": "2024-06-25T06:19:28.802793",
     "status": "completed"
    },
    "tags": []
   },
   "outputs": [],
   "source": [
    "#seed_everything\n",
    "seed = 42\n",
    "def seed_everything(seed):\n",
    "    np.random.seed(seed)\n",
    "    import random\n",
    "    random.seed(seed)\n",
    "    \n",
    "seed_everything(seed)"
   ]
  },
  {
   "cell_type": "markdown",
   "id": "be618d30",
   "metadata": {
    "papermill": {
     "duration": 0.005788,
     "end_time": "2024-06-25T06:19:28.832155",
     "exception": false,
     "start_time": "2024-06-25T06:19:28.826367",
     "status": "completed"
    },
    "tags": []
   },
   "source": [
    "## loading"
   ]
  },
  {
   "cell_type": "code",
   "execution_count": 3,
   "id": "fa0e138d",
   "metadata": {
    "execution": {
     "iopub.execute_input": "2024-06-25T06:19:28.846404Z",
     "iopub.status.busy": "2024-06-25T06:19:28.845982Z",
     "iopub.status.idle": "2024-06-25T06:19:32.319040Z",
     "shell.execute_reply": "2024-06-25T06:19:32.317892Z"
    },
    "papermill": {
     "duration": 3.483249,
     "end_time": "2024-06-25T06:19:32.321845",
     "exception": false,
     "start_time": "2024-06-25T06:19:28.838596",
     "status": "completed"
    },
    "tags": []
   },
   "outputs": [],
   "source": [
    "train = pd.read_csv(\"/kaggle/input/daigt-v2-train-dataset/train_v2_drcat_02.csv\")\n",
    "test = pd.read_csv('/kaggle/input/llm-detect-ai-generated-text/test_essays.csv')\n",
    "train_ex = pd.read_csv('/kaggle/input/llm-detect-ai-generated-text/train_essays.csv')"
   ]
  },
  {
   "cell_type": "code",
   "execution_count": 4,
   "id": "a073ee79",
   "metadata": {
    "execution": {
     "iopub.execute_input": "2024-06-25T06:19:32.335899Z",
     "iopub.status.busy": "2024-06-25T06:19:32.335535Z",
     "iopub.status.idle": "2024-06-25T06:19:32.546583Z",
     "shell.execute_reply": "2024-06-25T06:19:32.545498Z"
    },
    "papermill": {
     "duration": 0.220967,
     "end_time": "2024-06-25T06:19:32.548998",
     "exception": false,
     "start_time": "2024-06-25T06:19:32.328031",
     "status": "completed"
    },
    "tags": []
   },
   "outputs": [
    {
     "data": {
      "text/plain": [
       "label\n",
       "0    27371\n",
       "1    17497\n",
       "Name: count, dtype: int64"
      ]
     },
     "execution_count": 4,
     "metadata": {},
     "output_type": "execute_result"
    }
   ],
   "source": [
    "train['text'] = train['text'].str.replace('\\n', '')\n",
    "test['text'] = test['text'].str.replace('\\n', '')\n",
    "train['label'].value_counts()"
   ]
  },
  {
   "cell_type": "code",
   "execution_count": 5,
   "id": "b98a4c85",
   "metadata": {
    "execution": {
     "iopub.execute_input": "2024-06-25T06:19:32.563327Z",
     "iopub.status.busy": "2024-06-25T06:19:32.562942Z",
     "iopub.status.idle": "2024-06-25T06:22:46.979892Z",
     "shell.execute_reply": "2024-06-25T06:22:46.978734Z"
    },
    "papermill": {
     "duration": 194.433437,
     "end_time": "2024-06-25T06:22:46.988897",
     "exception": false,
     "start_time": "2024-06-25T06:19:32.555460",
     "status": "completed"
    },
    "tags": []
   },
   "outputs": [
    {
     "name": "stdout",
     "output_type": "stream",
     "text": [
      "[nltk_data] Error loading wordnet: <urlopen error [Errno -3] Temporary\n",
      "[nltk_data]     failure in name resolution>\n",
      "Preprocessing train data...\n",
      "before:\n",
      "--LABEL= 1--\n",
      "\n",
      "[\" In recent years, technology has had a profound impact on our daily lives and the world around us. From staying connected with loved ones to ordering food online through an app, technology has made our lives easier and more convenient. However, with great power comes great responsibility, and technology can also have negative consequences if used improperly.One example of this is the spread of misinformation through the internet. It's easy to find articles and sources that may not be accurate or reliable, which can lead to confusion and even harm. Additionally, technology can also pose a threat to our privacy and security if we are not careful about the websites and apps we use.Despite these potential drawbacks, I believe that technology can be a powerful tool for achieving great things. For example, technology has revolutionized the way we learn and access information. With the internet, we can easily find resources and information on any topic, making it easier to stay informed and up-to-date on current events.Furthermore, technology has opened up new opportunities for collaboration and communication, allowing people from all over the world to work together and share ideas. This has led to many great achievements and innovations, and I believe that technology will continue to play a vital role in shaping our future.In conclusion, while technology has its drawbacks, I believe that its potential benefits far outweigh the risks. With responsible use and proper precautions, technology can be a powerful tool for achieving great things and improving our lives.\"\n",
      " \"I strongly believe that meditation and mindfulness practices should be included in schools. These practices have numerous benefits for students, including reducing stress and anxiety, improving focus and concentration, and promoting a sense of calm and well-being.Firstly, meditation and mindfulness practices have been shown to reduce stress and anxiety in students. In today's fast-paced world, students are often overwhelmed with academic pressures, social media, and other stressors that can affect their mental health. Meditation and mindfulness practices have been proven to help alleviate these stresses, promoting relaxation and calmness. For example, a study conducted by the University of California found that students who participated in a mindfulness program showed a significant reduction in stress and anxiety levels.Secondly, meditation and mindfulness practices can improve focus and concentration. In today's digital age, students are constantly distracted by their phones, computers, and other electronic devices. Meditation and mindfulness practices help students develop the ability to focus their attention and concentrate on their work. For instance, a study conducted by the University of Washington found that students who meditated regularly showed improved attention and cognitive skills.Furthermore, meditation and mindfulness practices promote a sense of calm and well-being in students. In addition to reducing stress and improving focus, these practices can also help students develop a greater sense of self-awareness and emotional intelligence. This can lead to better relationships with peers and teachers, as well as improved academic performance. For example, a study conducted by the University of British Columbia found that students who participated in a mindfulness program showed improved emotional regulation and social skills.In conclusion, the inclusion of meditation and mindfulness practices in schools has numerous benefits for students. These practices have been proven to reduce stress and anxiety, improve focus and concentration, and promote a sense of calm and well-being. As a student in grade 8, I believe that these practices should be incorporated into the school day to help students achieve their full potential and live healthier, happier lives.\"\n",
      " 'One way school administrators can attempt to create an environment conducive to learning is by regulating the use of phones during school lunch. On the one hand, having a policy that allows the use of phones during school lunch can create a more relaxed atmosphere and provide students with an opportunity to unwind and connect with friends and family outside of the classroom. Furthermore, allowing phones during lunch can make it easier for students to access educational resources, such as online dictionaries and fact-checking websites. On the other hand, having a policy that does not allow phones during school lunch can help create an environment that is less distracting for both students and staff. This can allow students to focus on their lunch and conversations with their peers, while providing a break from constant phone use. Additionally, not allowing phones during lunch can also reduce the risk of data misuse, as students become less exposed to social media and online services. Ultimately, each school will need to decide which policy is appropriate for its setting, in order to create a safe and supportive school environment.'\n",
      " 'While summer is meant as a break from the regular school routine, having some structured learning over the summer can help students maintain important skills and knowledge. When given the choice, I believe summer projects are best when student-designed rather than teacher-designed.When students have autonomy in choosing their own summer project topics, they are more motivated to engage in meaningful learning. By allowing students to pick subjects they find genuinely interesting or relevant to their lives, they will be internally driven to explore the topic in depth. This type of intrinsic motivation leads to better focus and quality of work compared to assignments chosen by teachers without student input. Giving students ownership over project topics also fosters independence and skill development. By guiding their own work, students learn valuable skills like time management, decision making, and self-directed learning - skills that will serve them well in higher education and careers. Trying to complete a task completely of their own design also builds confidence facing open-ended challenges.Of course, some guidance is still useful to ensure projects have educational merit. Teachers could provide general parameters like the type of final work (essay, presentation, etc.) or subject area but leave the specific focus up to students. This balance of student choice within guidelines maximizes engagement while maintaining academic standards.In conclusion, when the goal is to sustain learning over summer break, student-designed projects are ideal. By letting students follow their interests with some guidance, they are intrinsically driven to dive deeply into self-directed work - an approach that serves their development far better than topics assigned externally. Autonomy, motivation and skill-building will better prepare students for future challenges compared to rigid, teacher-driven assignments over break.'\n",
      " \"The use of Facial Action Coding System (FACS) technology to read students' emotional expressions in the classroom could have both benefits and drawbacks. On one hand, this technology may help teachers understand how their lessons are engaging students on an emotional level. If a teacher notices many students appear bored or confused during a lesson, FACS could provide valuable feedback to improve instruction methods. It could also assist teachers in identifying students who are struggling emotionally but may not express it otherwise. This type of technology could help teachers provide better emotional support to students. However, constant monitoring of students' facial expressions with FACS also raises privacy and behavioral issues. Students may feel uncomfortable knowing their emotional reactions are being surveilled and analyzed in real time. This could increase anxiety and discourage natural emotional responses during class. Students should feel free to focus internally on learning without worrying about expressions being screened. Additionally, identifying emotions through facial expressions alone may not provide full context and could result in misinterpretations. A student's expression may not accurately reflect how they internally feel about a lesson.Overall, while FACS technology aims to give teachers useful insights, its continuous use in the classroom to monitor students risks invading privacy and altering natural classroom behaviors. Teachers could benefit from occasional voluntary emotional check-ins with students, but constant facial monitoring goes too far. More traditional methods of teacher-student communication are generally preferable to validate a student's emotional experience in school. If used sparingly and with consent, this technology may offer value, but broader application could do more harm than good.\"]\n",
      "--LABEL= 0--\n",
      "\n",
      "[\"PhonesModern humans today are always on their phone. They are always on their phone more than 5 hours a day no stop .All they do is text back and forward and just have group Chats on social media. They even do it while driving. They are some really bad consequences when stuff happens when it comes to a phone. Some certain areas in the United States ban phones from class rooms just because of it.When people have phones, they know about certain apps that they have .Apps like Facebook Twitter Instagram and Snapchat. So like if a friend moves away and you want to be in contact you can still be in contact by posting videos or text messages. People always have different ways how to communicate with a phone. Phones have changed due to our generation.Driving is one of the way how to get around. People always be on their phones while doing it. Which can cause serious Problems. That's why there's a thing that's called no texting while driving. That's a really important thing to remember. Some people still do it because they think It's stupid. No matter what they do they still have to obey it because that's the only way how did he save.Sometimes on the news there is either an accident or a suicide. It might involve someone not looking where they're going or tweet that someone sent. It either injury or death. If a mysterious number says I'm going to kill you and they know where you live but you don't know the person's contact ,It makes you puzzled and make you start to freak out. Which can end up really badly.Phones are fine to use and it's also the best way to come over help. If you go through a problem and you can't find help you ,always have a phone there with you. Even though phones are used almost every day as long as you're safe it would come into use if you get into trouble. Make sure you do not be like this phone while you're in the middle of driving. The news always updated when people do something stupid around that involves their phones. The safest way is the best way to stay safe.    \"\n",
      " \"This essay will explain if drivers should or should not be able to use electronic devices while operating a vehicle. Using a phone while driving can cause very bad wrecks, because they are putting themselves and other people at risk. People should not be able to use cell phones while operating a vehicle is because bad wrecks, putting others' lives in danger, and may cause death.First of all, wrecks can be caused by looking down at your phone while driving. Most importantly, you should always keep your eyes directly on the road when behind the wheel of a car. On that note, you will have an outrageously car payment just because you were looking down at your phone. Moreover, if you the reason the accident happened the person that was operating the other car can sue you for lots of money, and you will have to pay it. Therefore, if you don't pay whatever the person charges you consequences will be served and that's behind bars.Another reason why we should not be able to use cell phones while operating an automobile is that you are putting other people's lives in danger. Thus, looking down at your cell phone you can get someone else hurt for the uncommunicative act you committed. As well as unconsciousness, injuries, or being in a hospital.The main key to not texting and driving while behind the wheel of a car. Mainly, it can cause tragic, terrifying, and horrific things to you and to others and that's death. That's the most important thing to not using electronic devices while operating a vehicle. With the intension, of you not keeping your eyes and staying focus on the road you can easily turn off the road or hit another victim. Possibly another humankind could go away of all flesh because of your stupidity.Must be remembered, always stay focus on the road so you can get to your destination safely. So, you can't cause accidents, put other people lives in danger, and possibly death. Important to realize, do not use your phone while operating a vehicle. At least, wait till you make a safe stop or until you arrive at your destination.                                                                      \"\n",
      " \"Driving while the use of cellular devicesToday, most of the society is thoughtless. Especially new drivers, all driver for that matter do not understand the dangers of looking at a cell phone while behind the wheel.The automobile crashes due to distracted driving are increasing, teens have been the largest age group that was reported to being distracted by cellular usage. I do not agree with people using their cell phones and driving, humans should be smarter to know that if something is going on while they are driving that is so important then pulling off to the side of the road. The society doesn't understand that teens are the main cause for accidents I mean, in two thousand and five there was three hundred and one thousand injuries that were caused in distracted driving related accidents, that doesn't necessarily mean that the driver was texting or using a cellular device. New drivers do not understand that deaths are usually results of an accident. one out of every four car accidents is caused by texting and driving.   \"\n",
      " 'Phones & DrivingDrivers should not be able to use phones while operating a vehicle. Drivers who used their phone while operating a vehicle are most likely to get into an accident that could be fatal.According to an article by the Edgar Snyder Firm, 21% of teens that were part of a fatal car accident was due to phones. According to the same article, 35% know the risk but continue using their phones while on the road. This shows that its beyond dangerous and irresponsible of drivers not to be fully aware of their surroundings while driving. Drivers should be able to concentrate without any distractions, because it could be fatal.According to another article, \"Distracted Driving\" by the NHTSA, there has already been about 3,000 phone related car accident deaths since 2017. The article states that teen get too distracted with their phones, which causes their accident. Accidents that can be easily avoided by focusing on the road and not a phone. Drivers should not be able to use their phones at all while driving.In conclusion, drivers should not able to work a vehicle while using their cell phone. Drivers who uses their phones while operating a vehicle and are likely to have an accident then those who don\\'t.             '\n",
      " \"Cell Phone Operation While DrivingThe ability to stay connected to people we know despite distance was originally brought to fruition by the use of letters. This system was found to be rather slow and new pathways were searched for until the invention of the telegram; the people thought it was an invention of the millennia, but after time it too was thought of as slow until the invention of the telephone. Today, a telephone is in the hand or pocket of a majority of the seven billion people on planet earth. However, this device is taken to areas that it is irresponsible and dangerous.Within a vehicle capable of traveling upwards of one hundred miles per hour any possible distraction can become fatal spontaneously. The most common of these distractions is a cell phone, with its capabilities to connect us to anyone also in ownership of one, it is easy to pick it up whenever it sounds. In that split second of reaching over for a phone, eyes no longer on the road, it is impossible to no an exact location of anything, making an extremely dangerous action. For the myriad of possibilities that lead to serious injury cell phones should stay in the current state they are in regards of the law, but taken as a more serious offense.Conversely people may believe that laws in present need to change, becoming less restrictive. People have the right to communicate with whom they wish, when or wherever they may choose to do so. The problem becomes apparent that this is a selfish process of thought; people aren't thinking of those they share the road with. Laws currently in place are not to punish people making poor choices, they are an attempt to keep people safe.The creation of telecommunication devices was to keep connected to others without regard to the obsession that would encompass the human mind that was bound to follow. The safety of people is top priority without exemption.      \"]\n",
      "CPU times: user 2min 53s, sys: 218 ms, total: 2min 54s\n",
      "Wall time: 3min 14s\n"
     ]
    }
   ],
   "source": [
    "%%time\n",
    "import nltk\n",
    "from nltk.tokenize import word_tokenize\n",
    "from nltk.corpus import stopwords\n",
    "from nltk.stem import PorterStemmer\n",
    "from nltk.stem import WordNetLemmatizer\n",
    "\n",
    "#tokenizer \n",
    "nltk.download('wordnet')\n",
    "\n",
    "def preprocess(text):\n",
    "    # lowercase\n",
    "    text = text.lower()\n",
    "    # remove special characters and digits\n",
    "    text = re.sub(\"(\\\\d|\\\\W)+\", \" \", text)\n",
    "    # remove extra spaces\n",
    "    text = text.strip()\n",
    "    return text \n",
    "\n",
    "print('Preprocessing train data...')\n",
    "print('before:')\n",
    "print('--LABEL= 1--\\n')\n",
    "print(train[train['label'] == 1].head(5)['text'].values)\n",
    "print('--LABEL= 0--\\n')\n",
    "print(train[train['label'] == 0].head(5)['text'].values)\n",
    "train['text'] = train['text'].apply(preprocess)\n",
    "test['text'] = test['text'].apply(preprocess)\n",
    "#stopwords\n",
    "stop_words = set(stopwords.words('english'))\n",
    "train['text'] = train['text'].apply(lambda x: ' '.join([word for word in word_tokenize(x) if word not in stop_words]))\n",
    "test['text'] = test['text'].apply(lambda x: ' '.join([word for word in word_tokenize(x) if word not in stop_words]))\n",
    "# #stemming\n",
    "# stemmer = PorterStemmer()\n",
    "# train['text'] = train['text'].apply(lambda x: ' '.join([stemmer.stem(word) for word in word_tokenize(x)]))\n",
    "# test['text'] = test['text'].apply(lambda x: ' '.join([stemmer.stem(word) for word in word_tokenize(x)]))\n",
    "\n",
    "# #tokenize\n",
    "# train['text'] = train['text'].apply(lambda x: word_tokenize(x))\n",
    "# test['text'] = test['text'].apply(lambda x: word_tokenize(x))"
   ]
  },
  {
   "cell_type": "code",
   "execution_count": 6,
   "id": "f79a16b6",
   "metadata": {
    "execution": {
     "iopub.execute_input": "2024-06-25T06:22:47.003641Z",
     "iopub.status.busy": "2024-06-25T06:22:47.003217Z",
     "iopub.status.idle": "2024-06-25T06:22:47.031603Z",
     "shell.execute_reply": "2024-06-25T06:22:47.030572Z"
    },
    "papermill": {
     "duration": 0.038547,
     "end_time": "2024-06-25T06:22:47.034001",
     "exception": false,
     "start_time": "2024-06-25T06:22:46.995454",
     "status": "completed"
    },
    "tags": []
   },
   "outputs": [],
   "source": [
    "#to string\n",
    "train['text'] = train['text'].apply(lambda x: str(x))\n",
    "test['text'] = test['text'].apply(lambda x: str(x))"
   ]
  },
  {
   "cell_type": "code",
   "execution_count": 7,
   "id": "73bab071",
   "metadata": {
    "execution": {
     "iopub.execute_input": "2024-06-25T06:22:47.049366Z",
     "iopub.status.busy": "2024-06-25T06:22:47.048946Z",
     "iopub.status.idle": "2024-06-25T06:22:47.064726Z",
     "shell.execute_reply": "2024-06-25T06:22:47.063701Z"
    },
    "papermill": {
     "duration": 0.026766,
     "end_time": "2024-06-25T06:22:47.067526",
     "exception": false,
     "start_time": "2024-06-25T06:22:47.040760",
     "status": "completed"
    },
    "tags": []
   },
   "outputs": [
    {
     "name": "stdout",
     "output_type": "stream",
     "text": [
      "Preprocessing train data...\n",
      "after:\n",
      "--LABEL= 1--\n",
      "\n",
      "['recent years technology profound impact daily lives world around us staying connected loved ones ordering food online app technology made lives easier convenient however great power comes great responsibility technology also negative consequences used improperly one example spread misinformation internet easy find articles sources may accurate reliable lead confusion even harm additionally technology also pose threat privacy security careful websites apps use despite potential drawbacks believe technology powerful tool achieving great things example technology revolutionized way learn access information internet easily find resources information topic making easier stay informed date current events furthermore technology opened new opportunities collaboration communication allowing people world work together share ideas led many great achievements innovations believe technology continue play vital role shaping future conclusion technology drawbacks believe potential benefits far outweigh risks responsible use proper precautions technology powerful tool achieving great things improving lives'\n",
      " 'strongly believe meditation mindfulness practices included schools practices numerous benefits students including reducing stress anxiety improving focus concentration promoting sense calm well firstly meditation mindfulness practices shown reduce stress anxiety students today fast paced world students often overwhelmed academic pressures social media stressors affect mental health meditation mindfulness practices proven help alleviate stresses promoting relaxation calmness example study conducted university california found students participated mindfulness program showed significant reduction stress anxiety levels secondly meditation mindfulness practices improve focus concentration today digital age students constantly distracted phones computers electronic devices meditation mindfulness practices help students develop ability focus attention concentrate work instance study conducted university washington found students meditated regularly showed improved attention cognitive skills furthermore meditation mindfulness practices promote sense calm well students addition reducing stress improving focus practices also help students develop greater sense self awareness emotional intelligence lead better relationships peers teachers well improved academic performance example study conducted university british columbia found students participated mindfulness program showed improved emotional regulation social skills conclusion inclusion meditation mindfulness practices schools numerous benefits students practices proven reduce stress anxiety improve focus concentration promote sense calm well student grade believe practices incorporated school day help students achieve full potential live healthier happier lives'\n",
      " 'one way school administrators attempt create environment conducive learning regulating use phones school lunch one hand policy allows use phones school lunch create relaxed atmosphere provide students opportunity unwind connect friends family outside classroom furthermore allowing phones lunch make easier students access educational resources online dictionaries fact checking websites hand policy allow phones school lunch help create environment less distracting students staff allow students focus lunch conversations peers providing break constant phone use additionally allowing phones lunch also reduce risk data misuse students become less exposed social media online services ultimately school need decide policy appropriate setting order create safe supportive school environment'\n",
      " 'summer meant break regular school routine structured learning summer help students maintain important skills knowledge given choice believe summer projects best student designed rather teacher designed students autonomy choosing summer project topics motivated engage meaningful learning allowing students pick subjects find genuinely interesting relevant lives internally driven explore topic depth type intrinsic motivation leads better focus quality work compared assignments chosen teachers without student input giving students ownership project topics also fosters independence skill development guiding work students learn valuable skills like time management decision making self directed learning skills serve well higher education careers trying complete task completely design also builds confidence facing open ended challenges course guidance still useful ensure projects educational merit teachers could provide general parameters like type final work essay presentation etc subject area leave specific focus students balance student choice within guidelines maximizes engagement maintaining academic standards conclusion goal sustain learning summer break student designed projects ideal letting students follow interests guidance intrinsically driven dive deeply self directed work approach serves development far better topics assigned externally autonomy motivation skill building better prepare students future challenges compared rigid teacher driven assignments break'\n",
      " 'use facial action coding system facs technology read students emotional expressions classroom could benefits drawbacks one hand technology may help teachers understand lessons engaging students emotional level teacher notices many students appear bored confused lesson facs could provide valuable feedback improve instruction methods could also assist teachers identifying students struggling emotionally may express otherwise type technology could help teachers provide better emotional support students however constant monitoring students facial expressions facs also raises privacy behavioral issues students may feel uncomfortable knowing emotional reactions surveilled analyzed real time could increase anxiety discourage natural emotional responses class students feel free focus internally learning without worrying expressions screened additionally identifying emotions facial expressions alone may provide full context could result misinterpretations student expression may accurately reflect internally feel lesson overall facs technology aims give teachers useful insights continuous use classroom monitor students risks invading privacy altering natural classroom behaviors teachers could benefit occasional voluntary emotional check ins students constant facial monitoring goes far traditional methods teacher student communication generally preferable validate student emotional experience school used sparingly consent technology may offer value broader application could harm good']\n",
      "--LABEL= 0--\n",
      "\n",
      "['phonesmodern humans today always phone always phone hours day stop text back forward group chats social media even driving really bad consequences stuff happens comes phone certain areas united states ban phones class rooms people phones know certain apps apps like facebook twitter instagram snapchat like friend moves away want contact still contact posting videos text messages people always different ways communicate phone phones changed due generation driving one way get around people always phones cause serious problems thing called texting driving really important thing remember people still think stupid matter still obey way save sometimes news either accident suicide might involve someone looking going tweet someone sent either injury death mysterious number says going kill know live know person contact makes puzzled make start freak end really badly phones fine use also best way come help go problem find help always phone even though phones used almost every day long safe would come use get trouble make sure like phone middle driving news always updated people something stupid around involves phones safest way best way stay safe'\n",
      " 'essay explain drivers able use electronic devices operating vehicle using phone driving cause bad wrecks putting people risk people able use cell phones operating vehicle bad wrecks putting others lives danger may cause death first wrecks caused looking phone driving importantly always keep eyes directly road behind wheel car note outrageously car payment looking phone moreover reason accident happened person operating car sue lots money pay therefore pay whatever person charges consequences served behind bars another reason able use cell phones operating automobile putting people lives danger thus looking cell phone get someone else hurt uncommunicative act committed well unconsciousness injuries hospital main key texting driving behind wheel car mainly cause tragic terrifying horrific things others death important thing using electronic devices operating vehicle intension keeping eyes staying focus road easily turn road hit another victim possibly another humankind could go away flesh stupidity must remembered always stay focus road get destination safely cause accidents put people lives danger possibly death important realize use phone operating vehicle least wait till make safe stop arrive destination'\n",
      " 'driving use cellular devicestoday society thoughtless especially new drivers driver matter understand dangers looking cell phone behind wheel automobile crashes due distracted driving increasing teens largest age group reported distracted cellular usage agree people using cell phones driving humans smarter know something going driving important pulling side road society understand teens main cause accidents mean two thousand five three hundred one thousand injuries caused distracted driving related accidents necessarily mean driver texting using cellular device new drivers understand deaths usually results accident one every four car accidents caused texting driving'\n",
      " 'phones drivingdrivers able use phones operating vehicle drivers used phone operating vehicle likely get accident could fatal according article edgar snyder firm teens part fatal car accident due phones according article know risk continue using phones road shows beyond dangerous irresponsible drivers fully aware surroundings driving drivers able concentrate without distractions could fatal according another article distracted driving nhtsa already phone related car accident deaths since article states teen get distracted phones causes accident accidents easily avoided focusing road phone drivers able use phones driving conclusion drivers able work vehicle using cell phone drivers uses phones operating vehicle likely accident'\n",
      " 'cell phone operation drivingthe ability stay connected people know despite distance originally brought fruition use letters system found rather slow new pathways searched invention telegram people thought invention millennia time thought slow invention telephone today telephone hand pocket majority seven billion people planet earth however device taken areas irresponsible dangerous within vehicle capable traveling upwards one hundred miles per hour possible distraction become fatal spontaneously common distractions cell phone capabilities connect us anyone also ownership one easy pick whenever sounds split second reaching phone eyes longer road impossible exact location anything making extremely dangerous action myriad possibilities lead serious injury cell phones stay current state regards law taken serious offense conversely people may believe laws present need change becoming less restrictive people right communicate wish wherever may choose problem becomes apparent selfish process thought people thinking share road laws currently place punish people making poor choices attempt keep people safe creation telecommunication devices keep connected others without regard obsession would encompass human mind bound follow safety people top priority without exemption']\n"
     ]
    }
   ],
   "source": [
    "print('Preprocessing train data...')\n",
    "print('after:')\n",
    "print('--LABEL= 1--\\n')\n",
    "print(train[train['label'] == 1].head(5)['text'].values)\n",
    "print('--LABEL= 0--\\n')\n",
    "print(train[train['label'] == 0].head(5)['text'].values)"
   ]
  },
  {
   "cell_type": "markdown",
   "id": "0acb72c2",
   "metadata": {
    "papermill": {
     "duration": 0.006467,
     "end_time": "2024-06-25T06:22:47.080862",
     "exception": false,
     "start_time": "2024-06-25T06:22:47.074395",
     "status": "completed"
    },
    "tags": []
   },
   "source": [
    "## tfidf preprocessing & modeling"
   ]
  },
  {
   "cell_type": "code",
   "execution_count": 8,
   "id": "e50c3b23",
   "metadata": {
    "execution": {
     "iopub.execute_input": "2024-06-25T06:22:47.096338Z",
     "iopub.status.busy": "2024-06-25T06:22:47.095945Z",
     "iopub.status.idle": "2024-06-25T06:35:30.638875Z",
     "shell.execute_reply": "2024-06-25T06:35:30.637714Z"
    },
    "papermill": {
     "duration": 763.562045,
     "end_time": "2024-06-25T06:35:30.649724",
     "exception": false,
     "start_time": "2024-06-25T06:22:47.087679",
     "status": "completed"
    },
    "tags": []
   },
   "outputs": [
    {
     "name": "stdout",
     "output_type": "stream",
     "text": [
      "              precision    recall  f1-score   support\n",
      "\n",
      "           0       0.99      1.00      0.99      5474\n",
      "           1       1.00      0.98      0.99      3500\n",
      "\n",
      "    accuracy                           0.99      8974\n",
      "   macro avg       0.99      0.99      0.99      8974\n",
      "weighted avg       0.99      0.99      0.99      8974\n",
      "\n",
      "[[5470    4]\n",
      " [  56 3444]]\n",
      "Accuracy: 0.9933140182750168\n",
      "Recall: 0.984\n",
      "Precision: 0.9988399071925754\n",
      "F1: 0.9929549379808447\n",
      "ROC AUC: 0.991634636463281\n",
      "False predictions for label 0:\n",
      "Index:  1579\n",
      "Predicted Label: 1, Actual Label: 0\n",
      "Text: advantages limiting car usage germany buy one heidrun walter said car always tense way much happier way people driving cars reduces greenhouse gas emissons passenger cars responsible percenet greenhouse gas emissons europe percent united states people using vehicles walk ride bicycles instead tend take suburbs get around suburbs compact accessible public personal car taken away personal vehicles gave suburbs stores walk away main street walk distant highway united states environmental protection agency promoted car reduced communities paris banned driving smog mondays vehicles even numbered license plates told leave vehicles home suffer fine thing odd numbered license plates next day almost drivers fined follow rules cars got impounded cold nights warm days caused smog form made thick layer air trap car emissions diesel fuel biggest issue makes percent vehicles france compaired percent western europe smog cleared monday french party went odd numbered licensed plates tuesday fined bogota columbia program sent spread countries millions columbians hiked biked skated took buses left city avoided traffic jams cars banned point people ride buses taxed day without cars capital city million goal promote transportation reduce smog first time two columbian cities joined event parks sport centers fixed throughout city uneven sidewalks replaced rush hour restrictions cut traffic new restaurants shopping areas cropped end car culture president obama goals change united states greenhouse gas emissions recent studies show americans buying fewer cars driving less getting fewer licenses years go mr sivak said late early curious kind car drove one really cared long got point point b study done last year stated young drivers decreased percent mobile world congress last year bill ford barcelona spain motor companys chairman laid business plan world see said create cities pedestrians bicycles private cars transportation brought connected network save time conserve recoursces lower emissions improve safety\n",
      "Index:  2606\n",
      "Predicted Label: 1, Actual Label: 0\n",
      "Text: first story talking cars really drivin near french swiss though theyallow cars allow parked two places car owner buys space along home large garages edge development david goldberg said development since world war centered car change paris france enforeced partial driving ban clear air gobal city diesel fuel blamed since diesels make percent vehicles france compared percent average diesel engines western europe bogota colombia ban cars altogether go rid roads made sidwalks people walk get final destination lot people go parks sports centers president obama goals curb united states greenhouse gas emissions get fortuitous assit incipient shift american behavior obama said americans buy less cars would less drivers lisenes year fewer driving altoether\n",
      "Index:  2666\n",
      "Predicted Label: 1, Actual Label: 0\n",
      "Text: passage car free cities many advantages feel main advantage good planet lower air pollution aslo movement actually working helping planet staying green way good thing helps planet look better makes look better also makes us humans planet earth healthier example air pollution lowered driving cars less instead od driving car could take bus walk ride like text says good opportunity take away stress lower air pollution said businessman carlos arturo plaza rode two seat bicycle wife like piece evidence tels green help planet alo tell help human kind helps understand lower pollution also lower stress choice go along movement pay fine seems like would taking away persons rights yes get goal promote altnative transportatin reduce smog person force another advantage could movement working president obama ambitious goals curb united states greenhouse gas emissions unveiled last week get fortuitous assist incipient shift american behavior recent studies suggest americans buying fewer cars driving less getting fewer licenses year goes like piece evidence source end car culture elisabeth rosenthal states president try make planet better also gives factual information telling fewer cars broughten year also fewer licenses also gottenall passage many good advantages help persuade people start driving less helping planet one good planet one wants live dirty place two help lower bad air pollution lastly movement working anyways try help drive little less\n",
      "Index:  4273\n",
      "Predicted Label: 1, Actual Label: 0\n",
      "Text: certain schools required summer project either teacher designed student designed position students design project students bigger imagination create project likely get detail continue schools require summer project position states students design projects students bigger imagination teachers reasoning statement still young see stuff different adults example picture little boy forty year old man little boy imagination something expect old man imagination creativity really point like little boy little boy ideas one day save world point expanding mind little bit produce one best ideas think students design projects imagination expand different realm create great idea project students would want student created creativity put attract us students therefor students created project going likely want fact students created alone would push students want seeing peers create project relate would also push us younger people use social media outlet sell things etc put project design social media catch peers attention like students would complete least try creativity peer telling commanding teacher would choose students create summer project design fact peer put creating likely going think differnet reach non reality part life make reality also agree fact imagination way bigger teachers used seeing television etc anything could possible seen far life\n",
      "\n",
      "False predictions for label 1:\n",
      "Index:  211\n",
      "Predicted Label: 0, Actual Label: 1\n",
      "Text: phones drivingin age world almost everyone phone kind includes drivers among us phones usually little distraction nothing driving distraction become deadly recent years fatalities car wreck gone dramatically usually reason days texting driving states caught sentence fine kind even texting distracts person driving kids car radio state georgia pretty new law called hands free law tells drivers even touch phones driving drivers parked even stoplights caught phones get fifty dollar fine law makers made mind make people take selfies videos anything like reality people try even harder reckless try videos hand though say dash cams ok use however exceptions law using stereo bluetooth speakers car spotify another exception make directions apps like google maps also make exceptions informing authorities crime something similar said listen music streams stuff like touch phones given reasons think drivers able use phones driving\n",
      "Index:  324\n",
      "Predicted Label: 0, Actual Label: 1\n",
      "Text: people able use cell phone driving capacity reasons allowed use could seriously hurt someone kill using cell phones using cell phone operating vehicle paying attention phone rather road let say using phone hit somebody killed would would probably drive call police would check traffic cameras get license plate would go jail hit run charge stay going either get ticket distracted driving could go jail manslaughter charge\n",
      "Index:  376\n",
      "Predicted Label: 0, Actual Label: 1\n",
      "Text: phones driving technology made big impact world today number problem technology cell phones use cell phones day night many accidents mostly cost texting driving think drivers able use phones driving emergency navigation lead lower accidents u want phones every minute every second facts make think twice picking phone approximately drivers attempting use phones behind wheel automobile nearly injuries occur year accidents texting driving reason high people convinced texting driving dangerous need us humans realize lives matter need reflect risks day july new law saying drivers phone hand touching part body talking phone driving meaning get ticket pretty sure nobody wants get dollar ticket something stupid really sad think people developed skills strategies make look like phone people often feel like miss something separated world phone many many lives taken single text single call thousands dying injured cell phones able used driving\n",
      "Index:  544\n",
      "Predicted Label: 0, Actual Label: 1\n",
      "Text: according official dmv website car crashes involved cell phone use considering factors cause accidents large percentage many distractions uncertainties roads need add another one hinder driving ability looking away second could make lose precious reaction time complete removal use cell phones operating would make roads lot safer people getting roads making imperative practice safe driving habits people using cell phones driving cell phones contribute distracted driving considered one three types distraction visual removing eyes road manual removing hands wheel cognitive removing attention focus driving lead catastrophic consequences passengers vehicle stands hands free solution lie see better people drive hands comfortable driving teens little experience high cell phone use create double danger people high experience may think exempt still human average reaction time visual stimulus sec drivers spend much looking phones time realize happening late prevent several alternatives one could necessary use phone finish call text conversations driving constantly checking map make sure know location get b efore getting even finished conversation set phone disturbed slightly distracted cell phones great advancement technology make live lot easier highway creation handsfree make easier use phone safer inclusion attack phone use vehicles step safer roads use cars need heavily pressed upon late\n",
      "Index:  677\n",
      "Predicted Label: 0, Actual Label: 1\n",
      "Text: phones drivingin recent years younger older drivers use mobile phone lot time time includes middle driving drivers able able use phones operating car vehicle well going number deaths caused every year certainly allowed even legal case already legal using telephone whereas driving creates monumental potential deaths injuries u roads alone folks killed motorcar crashes involving distracted drivers report teen distracted driver data nhtsa showed following results according aaa poll percent teen drivers acknowledge dangers texting driving admitted anyway percent teen drivers involved fatal accidents distracted cell phones teen drivers x likely adults get car crashes near crashes talking texting cell phone teen driver one additional passenger doubles risk getting fatal car accident two passengers x likely numbers teens dying per year shows supports laws placed using mobile cell phone device operating vehicle poll done zebra general statistics people using mobile cell phone device behind wheel car national safety council reports cell phone use driving leads million crashes year nearly injuries occur year accidents caused texting driving every car accidents united states caused texting driving texting driving x likely cause accident driving drunk answering text takes away attention five seconds traveling mph enough time travel length football field texting driving causes percent increase time spent eyes road cell phone related tasks texting far dangerous activity percent drivers support ban texting driving percent drivers support ban hand held cell phone use based results poll linking results results list teens using mobile devices behind wheel results shows problem occur teens grown people shows real seriousness situation much really need laws already place using phones behind wheel car conclusionin conclusion laws placed using phone behind wheel car protect car driver driver possible fatal collision cars road actuality really need stricter laws matter whole really serious fatal matter needs attention works citedschroeder p meyers kostuniuk l april national survey distracted driving attitudes behaviors report dot hs washington dc national highway traffic safety administration distracted driving national highway traffic safety administration april https www edgarsnyder com car accident cause accident cell phone cell phone statis tics html\n",
      "\n",
      "CPU times: user 18min 4s, sys: 6min 54s, total: 24min 58s\n",
      "Wall time: 12min 43s\n"
     ]
    }
   ],
   "source": [
    "%%time\n",
    "# for local eval\n",
    "X = train['text']\n",
    "y = train['label']\n",
    "\n",
    "X_train, X_test, y_train, y_test = train_test_split(X, y, test_size=0.2, random_state=seed, stratify = y)\n",
    "# X_train.shape, X_test.shape\n",
    "\n",
    "vectorizer_local = TfidfVectorizer(ngram_range=(1,3 ), dtype=np.float32)\n",
    "\n",
    "X_train = vectorizer_local.fit_transform(X_train)\n",
    "X_test = vectorizer_local.transform(X_test)\n",
    "# eval for local\n",
    "lr_model = LogisticRegressionCV(penalty='l2', solver='liblinear')\n",
    "# ensemble.fit(X[:train.shape[0]], train.label)\n",
    "lr_model.fit(X_train, y_train)\n",
    "y_pred = lr_model.predict(X_test)\n",
    "\n",
    "print(classification_report(y_test, y_pred))\n",
    "print(confusion_matrix(y_test, y_pred))\n",
    "print('Accuracy:', accuracy_score(y_test, y_pred))\n",
    "print('Recall:', recall_score(y_test, y_pred))\n",
    "print('Precision:', precision_score(y_test, y_pred))\n",
    "print('F1:', f1_score(y_test, y_pred, average='macro'))\n",
    "print('ROC AUC:', roc_auc_score(y_test, y_pred))\n",
    "\n",
    "# Assuming y_test, y_pred are defined, and 'text' is a column in the train DataFrame\n",
    "# Also assuming train's index aligns with y_test and y_pred\n",
    "\n",
    "for label in [0, 1]:  # Iterate through each of the two labels\n",
    "    print(f'False predictions for label {label}:')\n",
    "    # Find indices of false predictions for the current label\n",
    "    false_pred_indices = [(index, y_p) for index, (y_t, y_p) in enumerate(zip(y_test, y_pred)) if y_t == label and y_p != y_t]\n",
    "    # Print the input text for these false predictions along with their predicted and actual labels\n",
    "    for index, pred_label in false_pred_indices[:5]:  # Limiting to first 5 false predictions for brevity\n",
    "        print(f\"Index:  {index}\")\n",
    "        print(f\"Predicted Label: {pred_label}, Actual Label: {label}\")\n",
    "        print(f\"Text: {train.iloc[index]['text']}\")\n",
    "    print()  # Add a newline for better readability between labels"
   ]
  },
  {
   "cell_type": "code",
   "execution_count": 9,
   "id": "4e5daed8",
   "metadata": {
    "execution": {
     "iopub.execute_input": "2024-06-25T06:35:30.665779Z",
     "iopub.status.busy": "2024-06-25T06:35:30.665398Z",
     "iopub.status.idle": "2024-06-25T06:35:31.740497Z",
     "shell.execute_reply": "2024-06-25T06:35:31.739221Z"
    },
    "papermill": {
     "duration": 1.086478,
     "end_time": "2024-06-25T06:35:31.743376",
     "exception": false,
     "start_time": "2024-06-25T06:35:30.656898",
     "status": "completed"
    },
    "tags": []
   },
   "outputs": [
    {
     "name": "stdout",
     "output_type": "stream",
     "text": [
      "              precision    recall  f1-score   support\n",
      "\n",
      "           0       0.99      1.00      0.99      5474\n",
      "           1       1.00      0.98      0.99      3500\n",
      "\n",
      "    accuracy                           0.99      8974\n",
      "   macro avg       0.99      0.99      0.99      8974\n",
      "weighted avg       0.99      0.99      0.99      8974\n",
      "\n",
      "[[5464   10]\n",
      " [  62 3438]]\n",
      "Accuracy: 0.99197682193002\n",
      "Recall: 0.9822857142857143\n",
      "Precision: 0.9970997679814385\n",
      "F1: 0.9915459255770136\n",
      "ROC AUC: 0.9902294483010595\n",
      "False predictions for label 0:\n",
      "Index:  41\n",
      "Predicted Label: 1, Actual Label: 0\n",
      "Text: touch screenas drove final basketball game season rivals milton high school great time best friend paige stopped intersection highway white suv crashed back nissan rogue rushed hospital friend learned leg broken two places paige could finish rest swim season absolutely devastated later found driver behind us looking cell phone notice light turned red driver one second distracted driving affected best friend life months although thankfully use cell phone end result risk public drivers allowed use handheld cell phones operating vehicle operating vehicle requires attention focus anything interrupts driver concentration leads dangerous distraction three main types distracted driving visual manual cognitive drivers text drive snap drive instagram drive simply call home driving endangering public texting driving particularly harmful combines three types distracted driving according national highway traffic safety administration drivers send read text driving lose concentration take eyes road five seconds five seconds using handheld cell phone great risk public statistics show using handheld phone operating moving vehicle risks welfare public cell phone use driving louis hugo francescutti states using cell phone driving increases risk collisions four six times drivers twice often rear end collision center disease control prevention reports nine people killed day public involved one thousand car crashes due distracted driving francescutti writes researchers believe distracted driving causes twenty five ninety percent car collisions clearly statistics demonstrate danger distracted driving although distracted driving causes four thousand deaths year solutions tragedy one obvious solution using phone driving however possible solutions include use bluetooth phone mounts decrease number deaths since driving requires attention focus making choice use phone driving limits risk driver public absolutely necessary use bluetooth phone mounts offer drivers phone access still protecting public two alternatives used case emergency clearly operating vehicle using handheld cell phone dangerous georgia recognized dangers passed legislation prevent use handheld devices driving however drivers fail follow law driver caused accident received citation using device driving hopefully next time goes road think danger others act responsibly works cited distracted driving centers disease control prevention https www cdc gov motorvehiclesafety distracted_driving index html accessed mar francescutti louis hugo cell phone use driving encyclopedia lifestyle medicine health edited james rippe vol sage reference pp gale ebooks https link gale com apps doc cx gvrl u milt sid gvrl xid f accessed mar\n",
      "Index:  628\n",
      "Predicted Label: 1, Actual Label: 0\n",
      "Text: proper_nameproper_namecourse_namemonth_day_yearphones drivingmodern society cell phones unbreakable bond like child mother hip big problem people using smartphones behind wheel automobile causing wrecks finder binders people sides road get hit oncoming traffic people walking middle road texting society become stuck screens daily basis see people swerve lane road even riding friends constantly tell get phones never listen people world lost respect vehicles used become accustomed using technology points lives wrecks happen everyday someone wait see texted back texting driving become serious issue phones getting involved lives apparent action needs taken driving motor vehicle type cellphone tablet apple watch ipod way able used puts public peoples risk death serious injury law came georgia hands law even phone lap shoulder definitely hand nowhere near face driving vehicle believe go effect everywhere serious reinforcement police society without someone make people think act song wait change text send snapchat watch could last thing safety everyone around please take action last_name\n",
      "Index:  925\n",
      "Predicted Label: 1, Actual Label: 0\n",
      "Text: phones drivingtoday people use cell phones everything like texting talking setting dates internet use large problems going caused cell phones driving help issue many car crashes new rules prevent crashes cell phones become key part people lives today unfortunately people driving choosing wrong time using phones people today focused phones risking lives people lives required focus much road possible people would drive without phone less people harmed need handle something important phone pool side probably cause less car crashing less people getting hurt even cause accident checking phone quick second second need cause accident putting others harmful situations see driving texting bad cause lot damage person car looking effect damage phones driving cause improve people getting harmed road pick phone think lives lost driving car let try make goal focus road let change world save lives\n",
      "Index:  2165\n",
      "Predicted Label: 1, Actual Label: 0\n",
      "Text: people hear banning limiting car use would think crazy would govenment ban car use would anyone vote cars use banned limited people ask questions know would get work go store many ways get one place another one reason limit ban car use greenhouse gases passenger cars responsible percent greenhouse gas emissions europe percent car intensive areas united states german suburb life goes without cars paragraph peple live heavily populated areas know smog bad gets greenhouse gases really bad fot environment us paris one cities problem last week paris micrograms particulate matter pm per cubic meter compared brussel london paris bans driving due smog paragraph another reason limit car use many people driving causes stress good opportunity take away stressand lower air pollution said businessman carlos rode two seat bicycle wife car free day spinning big hit botogta paragraph colombia millions hiked biked skated took buses work car free day leaving streets traffic jams car always tense much happier way media trainer mother two people use cars dont want walk way store maybe miles away accordint german suburb life goes without cars new approach stores placed walk away main street rather malls along distant highway paragraph paris days people use cars public transit free charge friday monday public transportation free days use cars could apply main reason limiting car use toreduce amout greenhouse gases bad idea think cars banned forever certain days untill smog lightenes paris colombia cali valledupar let make world cleaner place one\n",
      "Index:  2860\n",
      "Predicted Label: 1, Actual Label: 0\n",
      "Text: advntiges limited car use crazy maby two avantiges limited car use people go work pick kid school even go landry would many upset people happen would drive truck car know many people going use horses insted cleaning tires road going scrap hot horse poop road people use bike people cant ride bike fat bad nees pure fact cant ride bike two things whitch one saving money gas witch isnt big problem doller nindyfive cents would use saved money bike horse second one would using much gas witch would slow polution make hole ozone get smaller make ass hot ice south northpole melt gess limited use car avantiges saving gas using much gasps stop giving stupid promts\n",
      "\n",
      "False predictions for label 1:\n",
      "Index:  211\n",
      "Predicted Label: 0, Actual Label: 1\n",
      "Text: phones drivingin age world almost everyone phone kind includes drivers among us phones usually little distraction nothing driving distraction become deadly recent years fatalities car wreck gone dramatically usually reason days texting driving states caught sentence fine kind even texting distracts person driving kids car radio state georgia pretty new law called hands free law tells drivers even touch phones driving drivers parked even stoplights caught phones get fifty dollar fine law makers made mind make people take selfies videos anything like reality people try even harder reckless try videos hand though say dash cams ok use however exceptions law using stereo bluetooth speakers car spotify another exception make directions apps like google maps also make exceptions informing authorities crime something similar said listen music streams stuff like touch phones given reasons think drivers able use phones driving\n",
      "Index:  376\n",
      "Predicted Label: 0, Actual Label: 1\n",
      "Text: phones driving technology made big impact world today number problem technology cell phones use cell phones day night many accidents mostly cost texting driving think drivers able use phones driving emergency navigation lead lower accidents u want phones every minute every second facts make think twice picking phone approximately drivers attempting use phones behind wheel automobile nearly injuries occur year accidents texting driving reason high people convinced texting driving dangerous need us humans realize lives matter need reflect risks day july new law saying drivers phone hand touching part body talking phone driving meaning get ticket pretty sure nobody wants get dollar ticket something stupid really sad think people developed skills strategies make look like phone people often feel like miss something separated world phone many many lives taken single text single call thousands dying injured cell phones able used driving\n",
      "Index:  500\n",
      "Predicted Label: 0, Actual Label: 1\n",
      "Text: phones drivingin opinion believe people able use cell phones operating vehicle reason teenagers even adults died using cell phone driving fact people drive using device get distracted causing focus road means also causing accident instance one year ago experienced texting driving good experience accelerating moment reason thought capable multitasking using phone driving parents kept calling trying decline phone call decided go social media bad idea ended hitting car front notice braking believe people able use cell phones driving https www cnbc com cell phone boom leading rise distracted driving safety g roup htmlin phones wrecks distracted driving rise article phones causing accidents throughout years also solution causing accidents sidibe example collision avoidance technology cars available cars drivers hersman thinks vehicle drivers would less distracted also help focused towards road also mentioned cars also developed companies google also help drunk drivers also teen drivers well advanced cars like also reduce amounts billions dollars people wreck also would highly benefit taxpayers wrecks con thing car technology people bad also focus way either https www cnn com living feat brutally honest teens texting driving index html fifty five percent young adult drivers say easy text drive another thirty four percent stated driven road phone wallace risks percentages accidents caused texting driving raised tremendously u eight people die caused driving time phone hand states made illegal drive text states district columbia puerto rico guam u virgin islands etc center disease control prevention also allegedly reported thousand people injured crashes reported inlove distracted young driver whose times accused accidents janis brett elspas mother four children also said texting driving shares says might one drivers never checked phone grab operating vehicle many people might say agree easy operate vehicle driving think capable result many times end accident end regretting done kept mind capable really many adults tell ask favor drive car use phone think kids generation understand never accident experienced texting driving end car crash might excuse say oh rush emergency etc realize worth think consequences wards adults might also eat driving still get distracted driving reach fries taking second road could end uo biggest time lives opinion think drivers general time whatever reason phones however even say wont nothing everybody opinion like mine states agencies companies etc driving texting experience know young teenage kids people experienced never done know ever since went whatever never grabbed phone driving think technology benefit type way except gps operating vehicle effective way\n",
      "Index:  655\n",
      "Predicted Label: 0, Actual Label: 1\n",
      "Text: safety statusdo use cellphone road moments away possibly causing tragedy driving vehicle phone needed cell phone nothing distraction road could lead catastrophes mer seconds person looking check notification post whatever believe anyone cellular device visual area unless predicament need safe either life another person phones used purpose purpose need updated social media could simple wait home would rather check tweet run someone accident towards destination drive safely towards destination without hitting thing takes everyone ignore rings buzzes phone\n",
      "Index:  677\n",
      "Predicted Label: 0, Actual Label: 1\n",
      "Text: phones drivingin recent years younger older drivers use mobile phone lot time time includes middle driving drivers able able use phones operating car vehicle well going number deaths caused every year certainly allowed even legal case already legal using telephone whereas driving creates monumental potential deaths injuries u roads alone folks killed motorcar crashes involving distracted drivers report teen distracted driver data nhtsa showed following results according aaa poll percent teen drivers acknowledge dangers texting driving admitted anyway percent teen drivers involved fatal accidents distracted cell phones teen drivers x likely adults get car crashes near crashes talking texting cell phone teen driver one additional passenger doubles risk getting fatal car accident two passengers x likely numbers teens dying per year shows supports laws placed using mobile cell phone device operating vehicle poll done zebra general statistics people using mobile cell phone device behind wheel car national safety council reports cell phone use driving leads million crashes year nearly injuries occur year accidents caused texting driving every car accidents united states caused texting driving texting driving x likely cause accident driving drunk answering text takes away attention five seconds traveling mph enough time travel length football field texting driving causes percent increase time spent eyes road cell phone related tasks texting far dangerous activity percent drivers support ban texting driving percent drivers support ban hand held cell phone use based results poll linking results results list teens using mobile devices behind wheel results shows problem occur teens grown people shows real seriousness situation much really need laws already place using phones behind wheel car conclusionin conclusion laws placed using phone behind wheel car protect car driver driver possible fatal collision cars road actuality really need stricter laws matter whole really serious fatal matter needs attention works citedschroeder p meyers kostuniuk l april national survey distracted driving attitudes behaviors report dot hs washington dc national highway traffic safety administration distracted driving national highway traffic safety administration april https www edgarsnyder com car accident cause accident cell phone cell phone statis tics html\n",
      "\n",
      "CPU times: user 773 ms, sys: 293 ms, total: 1.07 s\n",
      "Wall time: 1.06 s\n"
     ]
    }
   ],
   "source": [
    "%%time\n",
    "#local mnb\n",
    "mnb = MultinomialNB(alpha=0.0001)\n",
    "# ensemble.fit(X[:train.shape[0]], train.label)\n",
    "mnb.fit(X_train, y_train)\n",
    "y_pred = mnb.predict(X_test)\n",
    "\n",
    "print(classification_report(y_test, y_pred))\n",
    "print(confusion_matrix(y_test, y_pred))\n",
    "print('Accuracy:', accuracy_score(y_test, y_pred))\n",
    "print('Recall:', recall_score(y_test, y_pred))\n",
    "print('Precision:', precision_score(y_test, y_pred))\n",
    "print('F1:', f1_score(y_test, y_pred, average='macro'))\n",
    "print('ROC AUC:', roc_auc_score(y_test, y_pred))\n",
    "\n",
    "# Assuming y_test, y_pred are defined, and 'text' is a column in the train DataFrame\n",
    "# Also assuming train's index aligns with y_test and y_pred\n",
    "\n",
    "for label in [0, 1]:  # Iterate through each of the two labels\n",
    "    print(f'False predictions for label {label}:')\n",
    "    # Find indices of false predictions for the current label\n",
    "    false_pred_indices = [(index, y_p) for index, (y_t, y_p) in enumerate(zip(y_test, y_pred)) if y_t == label and y_p != y_t]\n",
    "    # Print the input text for these false predictions along with their predicted and actual labels\n",
    "    for index, pred_label in false_pred_indices[:5]:  # Limiting to first 5 false predictions for brevity\n",
    "        print(f\"Index:  {index}\")\n",
    "        print(f\"Predicted Label: {pred_label}, Actual Label: {label}\")\n",
    "        print(f\"Text: {train.iloc[index]['text']}\")\n",
    "    print()  # Add a newline for better readability between labels"
   ]
  },
  {
   "cell_type": "code",
   "execution_count": 10,
   "id": "3a7692d9",
   "metadata": {
    "execution": {
     "iopub.execute_input": "2024-06-25T06:35:31.760846Z",
     "iopub.status.busy": "2024-06-25T06:35:31.759896Z",
     "iopub.status.idle": "2024-06-25T06:35:34.351156Z",
     "shell.execute_reply": "2024-06-25T06:35:34.349996Z"
    },
    "papermill": {
     "duration": 2.603075,
     "end_time": "2024-06-25T06:35:34.354083",
     "exception": false,
     "start_time": "2024-06-25T06:35:31.751008",
     "status": "completed"
    },
    "tags": []
   },
   "outputs": [
    {
     "name": "stdout",
     "output_type": "stream",
     "text": [
      "              precision    recall  f1-score   support\n",
      "\n",
      "           0       0.99      1.00      0.99      5474\n",
      "           1       1.00      0.98      0.99      3500\n",
      "\n",
      "    accuracy                           0.99      8974\n",
      "   macro avg       0.99      0.99      0.99      8974\n",
      "weighted avg       0.99      0.99      0.99      8974\n",
      "\n",
      "[[5468    6]\n",
      " [  71 3429]]\n",
      "Accuracy: 0.9914196567862714\n",
      "Recall: 0.9797142857142858\n",
      "Precision: 0.9982532751091703\n",
      "F1: 0.9909525813728299\n",
      "ROC AUC: 0.9893090975520643\n",
      "False predictions for label 0:\n",
      "Index:  1579\n",
      "Predicted Label: 1, Actual Label: 0\n",
      "Text: advantages limiting car usage germany buy one heidrun walter said car always tense way much happier way people driving cars reduces greenhouse gas emissons passenger cars responsible percenet greenhouse gas emissons europe percent united states people using vehicles walk ride bicycles instead tend take suburbs get around suburbs compact accessible public personal car taken away personal vehicles gave suburbs stores walk away main street walk distant highway united states environmental protection agency promoted car reduced communities paris banned driving smog mondays vehicles even numbered license plates told leave vehicles home suffer fine thing odd numbered license plates next day almost drivers fined follow rules cars got impounded cold nights warm days caused smog form made thick layer air trap car emissions diesel fuel biggest issue makes percent vehicles france compaired percent western europe smog cleared monday french party went odd numbered licensed plates tuesday fined bogota columbia program sent spread countries millions columbians hiked biked skated took buses left city avoided traffic jams cars banned point people ride buses taxed day without cars capital city million goal promote transportation reduce smog first time two columbian cities joined event parks sport centers fixed throughout city uneven sidewalks replaced rush hour restrictions cut traffic new restaurants shopping areas cropped end car culture president obama goals change united states greenhouse gas emissions recent studies show americans buying fewer cars driving less getting fewer licenses years go mr sivak said late early curious kind car drove one really cared long got point point b study done last year stated young drivers decreased percent mobile world congress last year bill ford barcelona spain motor companys chairman laid business plan world see said create cities pedestrians bicycles private cars transportation brought connected network save time conserve recoursces lower emissions improve safety\n",
      "Index:  2165\n",
      "Predicted Label: 1, Actual Label: 0\n",
      "Text: people hear banning limiting car use would think crazy would govenment ban car use would anyone vote cars use banned limited people ask questions know would get work go store many ways get one place another one reason limit ban car use greenhouse gases passenger cars responsible percent greenhouse gas emissions europe percent car intensive areas united states german suburb life goes without cars paragraph peple live heavily populated areas know smog bad gets greenhouse gases really bad fot environment us paris one cities problem last week paris micrograms particulate matter pm per cubic meter compared brussel london paris bans driving due smog paragraph another reason limit car use many people driving causes stress good opportunity take away stressand lower air pollution said businessman carlos rode two seat bicycle wife car free day spinning big hit botogta paragraph colombia millions hiked biked skated took buses work car free day leaving streets traffic jams car always tense much happier way media trainer mother two people use cars dont want walk way store maybe miles away accordint german suburb life goes without cars new approach stores placed walk away main street rather malls along distant highway paragraph paris days people use cars public transit free charge friday monday public transportation free days use cars could apply main reason limiting car use toreduce amout greenhouse gases bad idea think cars banned forever certain days untill smog lightenes paris colombia cali valledupar let make world cleaner place one\n",
      "Index:  2606\n",
      "Predicted Label: 1, Actual Label: 0\n",
      "Text: first story talking cars really drivin near french swiss though theyallow cars allow parked two places car owner buys space along home large garages edge development david goldberg said development since world war centered car change paris france enforeced partial driving ban clear air gobal city diesel fuel blamed since diesels make percent vehicles france compared percent average diesel engines western europe bogota colombia ban cars altogether go rid roads made sidwalks people walk get final destination lot people go parks sports centers president obama goals curb united states greenhouse gas emissions get fortuitous assit incipient shift american behavior obama said americans buy less cars would less drivers lisenes year fewer driving altoether\n",
      "Index:  2666\n",
      "Predicted Label: 1, Actual Label: 0\n",
      "Text: passage car free cities many advantages feel main advantage good planet lower air pollution aslo movement actually working helping planet staying green way good thing helps planet look better makes look better also makes us humans planet earth healthier example air pollution lowered driving cars less instead od driving car could take bus walk ride like text says good opportunity take away stress lower air pollution said businessman carlos arturo plaza rode two seat bicycle wife like piece evidence tels green help planet alo tell help human kind helps understand lower pollution also lower stress choice go along movement pay fine seems like would taking away persons rights yes get goal promote altnative transportatin reduce smog person force another advantage could movement working president obama ambitious goals curb united states greenhouse gas emissions unveiled last week get fortuitous assist incipient shift american behavior recent studies suggest americans buying fewer cars driving less getting fewer licenses year goes like piece evidence source end car culture elisabeth rosenthal states president try make planet better also gives factual information telling fewer cars broughten year also fewer licenses also gottenall passage many good advantages help persuade people start driving less helping planet one good planet one wants live dirty place two help lower bad air pollution lastly movement working anyways try help drive little less\n",
      "Index:  4273\n",
      "Predicted Label: 1, Actual Label: 0\n",
      "Text: certain schools required summer project either teacher designed student designed position students design project students bigger imagination create project likely get detail continue schools require summer project position states students design projects students bigger imagination teachers reasoning statement still young see stuff different adults example picture little boy forty year old man little boy imagination something expect old man imagination creativity really point like little boy little boy ideas one day save world point expanding mind little bit produce one best ideas think students design projects imagination expand different realm create great idea project students would want student created creativity put attract us students therefor students created project going likely want fact students created alone would push students want seeing peers create project relate would also push us younger people use social media outlet sell things etc put project design social media catch peers attention like students would complete least try creativity peer telling commanding teacher would choose students create summer project design fact peer put creating likely going think differnet reach non reality part life make reality also agree fact imagination way bigger teachers used seeing television etc anything could possible seen far life\n",
      "\n",
      "False predictions for label 1:\n",
      "Index:  211\n",
      "Predicted Label: 0, Actual Label: 1\n",
      "Text: phones drivingin age world almost everyone phone kind includes drivers among us phones usually little distraction nothing driving distraction become deadly recent years fatalities car wreck gone dramatically usually reason days texting driving states caught sentence fine kind even texting distracts person driving kids car radio state georgia pretty new law called hands free law tells drivers even touch phones driving drivers parked even stoplights caught phones get fifty dollar fine law makers made mind make people take selfies videos anything like reality people try even harder reckless try videos hand though say dash cams ok use however exceptions law using stereo bluetooth speakers car spotify another exception make directions apps like google maps also make exceptions informing authorities crime something similar said listen music streams stuff like touch phones given reasons think drivers able use phones driving\n",
      "Index:  324\n",
      "Predicted Label: 0, Actual Label: 1\n",
      "Text: people able use cell phone driving capacity reasons allowed use could seriously hurt someone kill using cell phones using cell phone operating vehicle paying attention phone rather road let say using phone hit somebody killed would would probably drive call police would check traffic cameras get license plate would go jail hit run charge stay going either get ticket distracted driving could go jail manslaughter charge\n",
      "Index:  376\n",
      "Predicted Label: 0, Actual Label: 1\n",
      "Text: phones driving technology made big impact world today number problem technology cell phones use cell phones day night many accidents mostly cost texting driving think drivers able use phones driving emergency navigation lead lower accidents u want phones every minute every second facts make think twice picking phone approximately drivers attempting use phones behind wheel automobile nearly injuries occur year accidents texting driving reason high people convinced texting driving dangerous need us humans realize lives matter need reflect risks day july new law saying drivers phone hand touching part body talking phone driving meaning get ticket pretty sure nobody wants get dollar ticket something stupid really sad think people developed skills strategies make look like phone people often feel like miss something separated world phone many many lives taken single text single call thousands dying injured cell phones able used driving\n",
      "Index:  544\n",
      "Predicted Label: 0, Actual Label: 1\n",
      "Text: according official dmv website car crashes involved cell phone use considering factors cause accidents large percentage many distractions uncertainties roads need add another one hinder driving ability looking away second could make lose precious reaction time complete removal use cell phones operating would make roads lot safer people getting roads making imperative practice safe driving habits people using cell phones driving cell phones contribute distracted driving considered one three types distraction visual removing eyes road manual removing hands wheel cognitive removing attention focus driving lead catastrophic consequences passengers vehicle stands hands free solution lie see better people drive hands comfortable driving teens little experience high cell phone use create double danger people high experience may think exempt still human average reaction time visual stimulus sec drivers spend much looking phones time realize happening late prevent several alternatives one could necessary use phone finish call text conversations driving constantly checking map make sure know location get b efore getting even finished conversation set phone disturbed slightly distracted cell phones great advancement technology make live lot easier highway creation handsfree make easier use phone safer inclusion attack phone use vehicles step safer roads use cars need heavily pressed upon late\n",
      "Index:  677\n",
      "Predicted Label: 0, Actual Label: 1\n",
      "Text: phones drivingin recent years younger older drivers use mobile phone lot time time includes middle driving drivers able able use phones operating car vehicle well going number deaths caused every year certainly allowed even legal case already legal using telephone whereas driving creates monumental potential deaths injuries u roads alone folks killed motorcar crashes involving distracted drivers report teen distracted driver data nhtsa showed following results according aaa poll percent teen drivers acknowledge dangers texting driving admitted anyway percent teen drivers involved fatal accidents distracted cell phones teen drivers x likely adults get car crashes near crashes talking texting cell phone teen driver one additional passenger doubles risk getting fatal car accident two passengers x likely numbers teens dying per year shows supports laws placed using mobile cell phone device operating vehicle poll done zebra general statistics people using mobile cell phone device behind wheel car national safety council reports cell phone use driving leads million crashes year nearly injuries occur year accidents caused texting driving every car accidents united states caused texting driving texting driving x likely cause accident driving drunk answering text takes away attention five seconds traveling mph enough time travel length football field texting driving causes percent increase time spent eyes road cell phone related tasks texting far dangerous activity percent drivers support ban texting driving percent drivers support ban hand held cell phone use based results poll linking results results list teens using mobile devices behind wheel results shows problem occur teens grown people shows real seriousness situation much really need laws already place using phones behind wheel car conclusionin conclusion laws placed using phone behind wheel car protect car driver driver possible fatal collision cars road actuality really need stricter laws matter whole really serious fatal matter needs attention works citedschroeder p meyers kostuniuk l april national survey distracted driving attitudes behaviors report dot hs washington dc national highway traffic safety administration distracted driving national highway traffic safety administration april https www edgarsnyder com car accident cause accident cell phone cell phone statis tics html\n",
      "\n",
      "CPU times: user 2.76 s, sys: 584 ms, total: 3.34 s\n",
      "Wall time: 2.58 s\n"
     ]
    }
   ],
   "source": [
    "%%time\n",
    "#local sgd\n",
    "sgd_model = SGDClassifier(max_iter=5000, loss=\"modified_huber\", random_state=seed)\n",
    "# ensemble.fit(X[:train.shape[0]], train.label)\n",
    "sgd_model.fit(X_train, y_train)\n",
    "y_pred = sgd_model.predict(X_test)\n",
    "\n",
    "print(classification_report(y_test, y_pred))\n",
    "print(confusion_matrix(y_test, y_pred))\n",
    "print('Accuracy:', accuracy_score(y_test, y_pred))\n",
    "print('Recall:', recall_score(y_test, y_pred))\n",
    "print('Precision:', precision_score(y_test, y_pred))\n",
    "print('F1:', f1_score(y_test, y_pred, average='macro'))\n",
    "print('ROC AUC:', roc_auc_score(y_test, y_pred))\n",
    "\n",
    "# Assuming y_test, y_pred are defined, and 'text' is a column in the train DataFrame\n",
    "# Also assuming train's index aligns with y_test and y_pred\n",
    "\n",
    "for label in [0, 1]:  # Iterate through each of the two labels\n",
    "    print(f'False predictions for label {label}:')\n",
    "    # Find indices of false predictions for the current label\n",
    "    false_pred_indices = [(index, y_p) for index, (y_t, y_p) in enumerate(zip(y_test, y_pred)) if y_t == label and y_p != y_t]\n",
    "    # Print the input text for these false predictions along with their predicted and actual labels\n",
    "    for index, pred_label in false_pred_indices[:5]:  # Limiting to first 5 false predictions for brevity\n",
    "        print(f\"Index:  {index}\")\n",
    "        print(f\"Predicted Label: {pred_label}, Actual Label: {label}\")\n",
    "        print(f\"Text: {train.iloc[index]['text']}\")\n",
    "    print()  # Add a newline for better readability between labels"
   ]
  },
  {
   "cell_type": "code",
   "execution_count": 11,
   "id": "50f60f6d",
   "metadata": {
    "execution": {
     "iopub.execute_input": "2024-06-25T06:35:34.371117Z",
     "iopub.status.busy": "2024-06-25T06:35:34.370763Z",
     "iopub.status.idle": "2024-06-25T06:47:28.708963Z",
     "shell.execute_reply": "2024-06-25T06:47:28.707351Z"
    },
    "papermill": {
     "duration": 714.364981,
     "end_time": "2024-06-25T06:47:28.726791",
     "exception": false,
     "start_time": "2024-06-25T06:35:34.361810",
     "status": "completed"
    },
    "tags": []
   },
   "outputs": [
    {
     "name": "stdout",
     "output_type": "stream",
     "text": [
      "              precision    recall  f1-score   support\n",
      "\n",
      "           0       0.99      1.00      0.99      5474\n",
      "           1       1.00      0.98      0.99      3500\n",
      "\n",
      "    accuracy                           0.99      8974\n",
      "   macro avg       0.99      0.99      0.99      8974\n",
      "weighted avg       0.99      0.99      0.99      8974\n",
      "\n",
      "[[5471    3]\n",
      " [  57 3443]]\n",
      "Accuracy: 0.9933140182750168\n",
      "Recall: 0.9837142857142858\n",
      "Precision: 0.9991294254207778\n",
      "F1: 0.9929541905136426\n",
      "ROC AUC: 0.9915831202046036\n",
      "False predictions for label 0:\n",
      "Index:  2165\n",
      "Predicted Label: 1, Actual Label: 0\n",
      "Text: people hear banning limiting car use would think crazy would govenment ban car use would anyone vote cars use banned limited people ask questions know would get work go store many ways get one place another one reason limit ban car use greenhouse gases passenger cars responsible percent greenhouse gas emissions europe percent car intensive areas united states german suburb life goes without cars paragraph peple live heavily populated areas know smog bad gets greenhouse gases really bad fot environment us paris one cities problem last week paris micrograms particulate matter pm per cubic meter compared brussel london paris bans driving due smog paragraph another reason limit car use many people driving causes stress good opportunity take away stressand lower air pollution said businessman carlos rode two seat bicycle wife car free day spinning big hit botogta paragraph colombia millions hiked biked skated took buses work car free day leaving streets traffic jams car always tense much happier way media trainer mother two people use cars dont want walk way store maybe miles away accordint german suburb life goes without cars new approach stores placed walk away main street rather malls along distant highway paragraph paris days people use cars public transit free charge friday monday public transportation free days use cars could apply main reason limiting car use toreduce amout greenhouse gases bad idea think cars banned forever certain days untill smog lightenes paris colombia cali valledupar let make world cleaner place one\n",
      "Index:  4273\n",
      "Predicted Label: 1, Actual Label: 0\n",
      "Text: certain schools required summer project either teacher designed student designed position students design project students bigger imagination create project likely get detail continue schools require summer project position states students design projects students bigger imagination teachers reasoning statement still young see stuff different adults example picture little boy forty year old man little boy imagination something expect old man imagination creativity really point like little boy little boy ideas one day save world point expanding mind little bit produce one best ideas think students design projects imagination expand different realm create great idea project students would want student created creativity put attract us students therefor students created project going likely want fact students created alone would push students want seeing peers create project relate would also push us younger people use social media outlet sell things etc put project design social media catch peers attention like students would complete least try creativity peer telling commanding teacher would choose students create summer project design fact peer put creating likely going think differnet reach non reality part life make reality also agree fact imagination way bigger teachers used seeing television etc anything could possible seen far life\n",
      "Index:  6221\n",
      "Predicted Label: 1, Actual Label: 0\n",
      "Text: seagoing cowboy real thing people might think silly pretend game actually group people hired unrra united nations relief rehabilitation administration unrra created help countries left ruins end world war ii seagoing cowboys hired take care horses young cows mules shipped overseas since started crossing atlantic ocean helping people world start new life felt amazing would anyone join along adventure across oceans seas rivers mysterious earth seagoing cowboys great program helping people world also serving country like paragraph article cowboy rode waves luke turned arriving greece meant could drafted military service draft board learned cattle bout trip told keep service seagoing cowboy opportunity lifetime like paragraph article cowboy rode waves say besides helping people side benefit seeing europe china seeing acropolis greece special also paragraph say taking gondola ride venice italy city streets water well work hauling bales hay bags oats lower holds cleaning stalls lots fun trips took together paragraph cowboy rode waves states cowboys played baseball volleyball games empty holds animals housed table tennis tournaments fencing boxing reading whittling gamed also helped padd time seagoing cowboy special helping people need serving country living opportunity lifetime fun takes courage bravery sail ocean seagoing cowboy anyone joining journey europe seagoing cowboy\n",
      "\n",
      "False predictions for label 1:\n",
      "Index:  211\n",
      "Predicted Label: 0, Actual Label: 1\n",
      "Text: phones drivingin age world almost everyone phone kind includes drivers among us phones usually little distraction nothing driving distraction become deadly recent years fatalities car wreck gone dramatically usually reason days texting driving states caught sentence fine kind even texting distracts person driving kids car radio state georgia pretty new law called hands free law tells drivers even touch phones driving drivers parked even stoplights caught phones get fifty dollar fine law makers made mind make people take selfies videos anything like reality people try even harder reckless try videos hand though say dash cams ok use however exceptions law using stereo bluetooth speakers car spotify another exception make directions apps like google maps also make exceptions informing authorities crime something similar said listen music streams stuff like touch phones given reasons think drivers able use phones driving\n",
      "Index:  376\n",
      "Predicted Label: 0, Actual Label: 1\n",
      "Text: phones driving technology made big impact world today number problem technology cell phones use cell phones day night many accidents mostly cost texting driving think drivers able use phones driving emergency navigation lead lower accidents u want phones every minute every second facts make think twice picking phone approximately drivers attempting use phones behind wheel automobile nearly injuries occur year accidents texting driving reason high people convinced texting driving dangerous need us humans realize lives matter need reflect risks day july new law saying drivers phone hand touching part body talking phone driving meaning get ticket pretty sure nobody wants get dollar ticket something stupid really sad think people developed skills strategies make look like phone people often feel like miss something separated world phone many many lives taken single text single call thousands dying injured cell phones able used driving\n",
      "Index:  500\n",
      "Predicted Label: 0, Actual Label: 1\n",
      "Text: phones drivingin opinion believe people able use cell phones operating vehicle reason teenagers even adults died using cell phone driving fact people drive using device get distracted causing focus road means also causing accident instance one year ago experienced texting driving good experience accelerating moment reason thought capable multitasking using phone driving parents kept calling trying decline phone call decided go social media bad idea ended hitting car front notice braking believe people able use cell phones driving https www cnbc com cell phone boom leading rise distracted driving safety g roup htmlin phones wrecks distracted driving rise article phones causing accidents throughout years also solution causing accidents sidibe example collision avoidance technology cars available cars drivers hersman thinks vehicle drivers would less distracted also help focused towards road also mentioned cars also developed companies google also help drunk drivers also teen drivers well advanced cars like also reduce amounts billions dollars people wreck also would highly benefit taxpayers wrecks con thing car technology people bad also focus way either https www cnn com living feat brutally honest teens texting driving index html fifty five percent young adult drivers say easy text drive another thirty four percent stated driven road phone wallace risks percentages accidents caused texting driving raised tremendously u eight people die caused driving time phone hand states made illegal drive text states district columbia puerto rico guam u virgin islands etc center disease control prevention also allegedly reported thousand people injured crashes reported inlove distracted young driver whose times accused accidents janis brett elspas mother four children also said texting driving shares says might one drivers never checked phone grab operating vehicle many people might say agree easy operate vehicle driving think capable result many times end accident end regretting done kept mind capable really many adults tell ask favor drive car use phone think kids generation understand never accident experienced texting driving end car crash might excuse say oh rush emergency etc realize worth think consequences wards adults might also eat driving still get distracted driving reach fries taking second road could end uo biggest time lives opinion think drivers general time whatever reason phones however even say wont nothing everybody opinion like mine states agencies companies etc driving texting experience know young teenage kids people experienced never done know ever since went whatever never grabbed phone driving think technology benefit type way except gps operating vehicle effective way\n",
      "Index:  544\n",
      "Predicted Label: 0, Actual Label: 1\n",
      "Text: according official dmv website car crashes involved cell phone use considering factors cause accidents large percentage many distractions uncertainties roads need add another one hinder driving ability looking away second could make lose precious reaction time complete removal use cell phones operating would make roads lot safer people getting roads making imperative practice safe driving habits people using cell phones driving cell phones contribute distracted driving considered one three types distraction visual removing eyes road manual removing hands wheel cognitive removing attention focus driving lead catastrophic consequences passengers vehicle stands hands free solution lie see better people drive hands comfortable driving teens little experience high cell phone use create double danger people high experience may think exempt still human average reaction time visual stimulus sec drivers spend much looking phones time realize happening late prevent several alternatives one could necessary use phone finish call text conversations driving constantly checking map make sure know location get b efore getting even finished conversation set phone disturbed slightly distracted cell phones great advancement technology make live lot easier highway creation handsfree make easier use phone safer inclusion attack phone use vehicles step safer roads use cars need heavily pressed upon late\n",
      "Index:  655\n",
      "Predicted Label: 0, Actual Label: 1\n",
      "Text: safety statusdo use cellphone road moments away possibly causing tragedy driving vehicle phone needed cell phone nothing distraction road could lead catastrophes mer seconds person looking check notification post whatever believe anyone cellular device visual area unless predicament need safe either life another person phones used purpose purpose need updated social media could simple wait home would rather check tweet run someone accident towards destination drive safely towards destination without hitting thing takes everyone ignore rings buzzes phone\n",
      "\n",
      "CPU times: user 17min 14s, sys: 6min 57s, total: 24min 11s\n",
      "Wall time: 11min 54s\n"
     ]
    }
   ],
   "source": [
    "%%time\n",
    "#local ensemble\n",
    "lr_model = LogisticRegressionCV(penalty='l2', solver='liblinear')\n",
    "sgd_model = SGDClassifier(max_iter=5000, loss=\"modified_huber\", random_state=seed)\n",
    "MultinomialNB(alpha=0.0001)\n",
    "\n",
    "ensemble = VotingClassifier(estimators=[('lr', lr_model),\n",
    "                                        ('sgd', sgd_model),\n",
    "                                        ('mnb', mnb)],\n",
    "                            voting='soft',\n",
    "                            weights=[1,1,1.5]\n",
    "                           )\n",
    "# ensemble.fit(X[:train.shape[0]], train.label)\n",
    "ensemble.fit(X_train, y_train)\n",
    "y_pred = ensemble.predict(X_test)\n",
    "\n",
    "print(classification_report(y_test, y_pred))\n",
    "print(confusion_matrix(y_test, y_pred))\n",
    "print('Accuracy:', accuracy_score(y_test, y_pred))\n",
    "print('Recall:', recall_score(y_test, y_pred))\n",
    "print('Precision:', precision_score(y_test, y_pred))\n",
    "print('F1:', f1_score(y_test, y_pred, average='macro'))\n",
    "print('ROC AUC:', roc_auc_score(y_test, y_pred))\n",
    "\n",
    "# Assuming y_test, y_pred are defined, and 'text' is a column in the train DataFrame\n",
    "# Also assuming train's index aligns with y_test and y_pred\n",
    "\n",
    "for label in [0, 1]:  # Iterate through each of the two labels\n",
    "    print(f'False predictions for label {label}:')\n",
    "    # Find indices of false predictions for the current label\n",
    "    false_pred_indices = [(index, y_p) for index, (y_t, y_p) in enumerate(zip(y_test, y_pred)) if y_t == label and y_p != y_t]\n",
    "    # Print the input text for these false predictions along with their predicted and actual labels\n",
    "    for index, pred_label in false_pred_indices[:5]:  # Limiting to first 5 false predictions for brevity\n",
    "        print(f\"Index:  {index}\")\n",
    "        print(f\"Predicted Label: {pred_label}, Actual Label: {label}\")\n",
    "        print(f\"Text: {train.iloc[index]['text']}\")\n",
    "    print()  # Add a newline for better readability between labels"
   ]
  },
  {
   "cell_type": "code",
   "execution_count": 12,
   "id": "17a3fa1a",
   "metadata": {
    "execution": {
     "iopub.execute_input": "2024-06-25T06:47:28.746061Z",
     "iopub.status.busy": "2024-06-25T06:47:28.745628Z",
     "iopub.status.idle": "2024-06-25T06:47:52.917123Z",
     "shell.execute_reply": "2024-06-25T06:47:52.915959Z"
    },
    "papermill": {
     "duration": 24.184515,
     "end_time": "2024-06-25T06:47:52.919789",
     "exception": false,
     "start_time": "2024-06-25T06:47:28.735274",
     "status": "completed"
    },
    "tags": []
   },
   "outputs": [
    {
     "name": "stdout",
     "output_type": "stream",
     "text": [
      "CPU times: user 24.2 s, sys: 5.71 ms, total: 24.2 s\n",
      "Wall time: 24.2 s\n"
     ]
    }
   ],
   "source": [
    "%%time\n",
    "df = pd.concat([train['text'], test['text']])\n",
    "\n",
    "vectorizer = TfidfVectorizer(ngram_range=(1,3 ), dtype=np.float32)\n",
    "\n",
    "vectorizer = vectorizer.fit(test['text'])\n",
    "X = vectorizer.transform(df)"
   ]
  },
  {
   "cell_type": "code",
   "execution_count": 13,
   "id": "6092d38c",
   "metadata": {
    "execution": {
     "iopub.execute_input": "2024-06-25T06:47:52.939376Z",
     "iopub.status.busy": "2024-06-25T06:47:52.938949Z",
     "iopub.status.idle": "2024-06-25T06:47:54.171353Z",
     "shell.execute_reply": "2024-06-25T06:47:54.170236Z"
    },
    "papermill": {
     "duration": 1.244443,
     "end_time": "2024-06-25T06:47:54.173705",
     "exception": false,
     "start_time": "2024-06-25T06:47:52.929262",
     "status": "completed"
    },
    "tags": []
   },
   "outputs": [
    {
     "name": "stdout",
     "output_type": "stream",
     "text": [
      "CPU times: user 1.18 s, sys: 26.8 ms, total: 1.21 s\n",
      "Wall time: 1.21 s\n"
     ]
    },
    {
     "data": {
      "text/html": [
       "<style>#sk-container-id-1 {color: black;background-color: white;}#sk-container-id-1 pre{padding: 0;}#sk-container-id-1 div.sk-toggleable {background-color: white;}#sk-container-id-1 label.sk-toggleable__label {cursor: pointer;display: block;width: 100%;margin-bottom: 0;padding: 0.3em;box-sizing: border-box;text-align: center;}#sk-container-id-1 label.sk-toggleable__label-arrow:before {content: \"▸\";float: left;margin-right: 0.25em;color: #696969;}#sk-container-id-1 label.sk-toggleable__label-arrow:hover:before {color: black;}#sk-container-id-1 div.sk-estimator:hover label.sk-toggleable__label-arrow:before {color: black;}#sk-container-id-1 div.sk-toggleable__content {max-height: 0;max-width: 0;overflow: hidden;text-align: left;background-color: #f0f8ff;}#sk-container-id-1 div.sk-toggleable__content pre {margin: 0.2em;color: black;border-radius: 0.25em;background-color: #f0f8ff;}#sk-container-id-1 input.sk-toggleable__control:checked~div.sk-toggleable__content {max-height: 200px;max-width: 100%;overflow: auto;}#sk-container-id-1 input.sk-toggleable__control:checked~label.sk-toggleable__label-arrow:before {content: \"▾\";}#sk-container-id-1 div.sk-estimator input.sk-toggleable__control:checked~label.sk-toggleable__label {background-color: #d4ebff;}#sk-container-id-1 div.sk-label input.sk-toggleable__control:checked~label.sk-toggleable__label {background-color: #d4ebff;}#sk-container-id-1 input.sk-hidden--visually {border: 0;clip: rect(1px 1px 1px 1px);clip: rect(1px, 1px, 1px, 1px);height: 1px;margin: -1px;overflow: hidden;padding: 0;position: absolute;width: 1px;}#sk-container-id-1 div.sk-estimator {font-family: monospace;background-color: #f0f8ff;border: 1px dotted black;border-radius: 0.25em;box-sizing: border-box;margin-bottom: 0.5em;}#sk-container-id-1 div.sk-estimator:hover {background-color: #d4ebff;}#sk-container-id-1 div.sk-parallel-item::after {content: \"\";width: 100%;border-bottom: 1px solid gray;flex-grow: 1;}#sk-container-id-1 div.sk-label:hover label.sk-toggleable__label {background-color: #d4ebff;}#sk-container-id-1 div.sk-serial::before {content: \"\";position: absolute;border-left: 1px solid gray;box-sizing: border-box;top: 0;bottom: 0;left: 50%;z-index: 0;}#sk-container-id-1 div.sk-serial {display: flex;flex-direction: column;align-items: center;background-color: white;padding-right: 0.2em;padding-left: 0.2em;position: relative;}#sk-container-id-1 div.sk-item {position: relative;z-index: 1;}#sk-container-id-1 div.sk-parallel {display: flex;align-items: stretch;justify-content: center;background-color: white;position: relative;}#sk-container-id-1 div.sk-item::before, #sk-container-id-1 div.sk-parallel-item::before {content: \"\";position: absolute;border-left: 1px solid gray;box-sizing: border-box;top: 0;bottom: 0;left: 50%;z-index: -1;}#sk-container-id-1 div.sk-parallel-item {display: flex;flex-direction: column;z-index: 1;position: relative;background-color: white;}#sk-container-id-1 div.sk-parallel-item:first-child::after {align-self: flex-end;width: 50%;}#sk-container-id-1 div.sk-parallel-item:last-child::after {align-self: flex-start;width: 50%;}#sk-container-id-1 div.sk-parallel-item:only-child::after {width: 0;}#sk-container-id-1 div.sk-dashed-wrapped {border: 1px dashed gray;margin: 0 0.4em 0.5em 0.4em;box-sizing: border-box;padding-bottom: 0.4em;background-color: white;}#sk-container-id-1 div.sk-label label {font-family: monospace;font-weight: bold;display: inline-block;line-height: 1.2em;}#sk-container-id-1 div.sk-label-container {text-align: center;}#sk-container-id-1 div.sk-container {/* jupyter's `normalize.less` sets `[hidden] { display: none; }` but bootstrap.min.css set `[hidden] { display: none !important; }` so we also need the `!important` here to be able to override the default hidden behavior on the sphinx rendered scikit-learn.org. See: https://github.com/scikit-learn/scikit-learn/issues/21755 */display: inline-block !important;position: relative;}#sk-container-id-1 div.sk-text-repr-fallback {display: none;}</style><div id=\"sk-container-id-1\" class=\"sk-top-container\"><div class=\"sk-text-repr-fallback\"><pre>VotingClassifier(estimators=[(&#x27;lr&#x27;, LogisticRegressionCV(solver=&#x27;liblinear&#x27;)),\n",
       "                             (&#x27;sgd&#x27;,\n",
       "                              SGDClassifier(loss=&#x27;modified_huber&#x27;,\n",
       "                                            max_iter=5000, random_state=42)),\n",
       "                             (&#x27;mnb&#x27;, MultinomialNB(alpha=0.0001))],\n",
       "                 voting=&#x27;soft&#x27;, weights=[1, 1, 1.5])</pre><b>In a Jupyter environment, please rerun this cell to show the HTML representation or trust the notebook. <br />On GitHub, the HTML representation is unable to render, please try loading this page with nbviewer.org.</b></div><div class=\"sk-container\" hidden><div class=\"sk-item sk-dashed-wrapped\"><div class=\"sk-label-container\"><div class=\"sk-label sk-toggleable\"><input class=\"sk-toggleable__control sk-hidden--visually\" id=\"sk-estimator-id-1\" type=\"checkbox\" ><label for=\"sk-estimator-id-1\" class=\"sk-toggleable__label sk-toggleable__label-arrow\">VotingClassifier</label><div class=\"sk-toggleable__content\"><pre>VotingClassifier(estimators=[(&#x27;lr&#x27;, LogisticRegressionCV(solver=&#x27;liblinear&#x27;)),\n",
       "                             (&#x27;sgd&#x27;,\n",
       "                              SGDClassifier(loss=&#x27;modified_huber&#x27;,\n",
       "                                            max_iter=5000, random_state=42)),\n",
       "                             (&#x27;mnb&#x27;, MultinomialNB(alpha=0.0001))],\n",
       "                 voting=&#x27;soft&#x27;, weights=[1, 1, 1.5])</pre></div></div></div><div class=\"sk-parallel\"><div class=\"sk-parallel-item\"><div class=\"sk-item\"><div class=\"sk-label-container\"><div class=\"sk-label sk-toggleable\"><label>lr</label></div></div><div class=\"sk-serial\"><div class=\"sk-item\"><div class=\"sk-estimator sk-toggleable\"><input class=\"sk-toggleable__control sk-hidden--visually\" id=\"sk-estimator-id-2\" type=\"checkbox\" ><label for=\"sk-estimator-id-2\" class=\"sk-toggleable__label sk-toggleable__label-arrow\">LogisticRegressionCV</label><div class=\"sk-toggleable__content\"><pre>LogisticRegressionCV(solver=&#x27;liblinear&#x27;)</pre></div></div></div></div></div></div><div class=\"sk-parallel-item\"><div class=\"sk-item\"><div class=\"sk-label-container\"><div class=\"sk-label sk-toggleable\"><label>sgd</label></div></div><div class=\"sk-serial\"><div class=\"sk-item\"><div class=\"sk-estimator sk-toggleable\"><input class=\"sk-toggleable__control sk-hidden--visually\" id=\"sk-estimator-id-3\" type=\"checkbox\" ><label for=\"sk-estimator-id-3\" class=\"sk-toggleable__label sk-toggleable__label-arrow\">SGDClassifier</label><div class=\"sk-toggleable__content\"><pre>SGDClassifier(loss=&#x27;modified_huber&#x27;, max_iter=5000, random_state=42)</pre></div></div></div></div></div></div><div class=\"sk-parallel-item\"><div class=\"sk-item\"><div class=\"sk-label-container\"><div class=\"sk-label sk-toggleable\"><label>mnb</label></div></div><div class=\"sk-serial\"><div class=\"sk-item\"><div class=\"sk-estimator sk-toggleable\"><input class=\"sk-toggleable__control sk-hidden--visually\" id=\"sk-estimator-id-4\" type=\"checkbox\" ><label for=\"sk-estimator-id-4\" class=\"sk-toggleable__label sk-toggleable__label-arrow\">MultinomialNB</label><div class=\"sk-toggleable__content\"><pre>MultinomialNB(alpha=0.0001)</pre></div></div></div></div></div></div></div></div></div></div>"
      ],
      "text/plain": [
       "VotingClassifier(estimators=[('lr', LogisticRegressionCV(solver='liblinear')),\n",
       "                             ('sgd',\n",
       "                              SGDClassifier(loss='modified_huber',\n",
       "                                            max_iter=5000, random_state=42)),\n",
       "                             ('mnb', MultinomialNB(alpha=0.0001))],\n",
       "                 voting='soft', weights=[1, 1, 1.5])"
      ]
     },
     "execution_count": 13,
     "metadata": {},
     "output_type": "execute_result"
    }
   ],
   "source": [
    "%%time\n",
    "# eval for submission\n",
    "lr_model = LogisticRegressionCV(penalty='l2', solver='liblinear')\n",
    "sgd_model = SGDClassifier(max_iter=5000, loss=\"modified_huber\", random_state=seed)\n",
    "MultinomialNB(alpha=0.0001)\n",
    "\n",
    "ensemble = VotingClassifier(estimators=[('lr', lr_model),\n",
    "                                        ('sgd', sgd_model),\n",
    "                                        ('mnb', mnb)\n",
    "                                       ],\n",
    "                            voting='soft',\n",
    "                            weights=[1,1,1.5]\n",
    "                           )\n",
    "ensemble.fit(X[:train.shape[0]], train.label)"
   ]
  },
  {
   "cell_type": "code",
   "execution_count": 14,
   "id": "c00fca02",
   "metadata": {
    "execution": {
     "iopub.execute_input": "2024-06-25T06:47:54.193249Z",
     "iopub.status.busy": "2024-06-25T06:47:54.192819Z",
     "iopub.status.idle": "2024-06-25T06:47:54.204452Z",
     "shell.execute_reply": "2024-06-25T06:47:54.203399Z"
    },
    "papermill": {
     "duration": 0.024224,
     "end_time": "2024-06-25T06:47:54.206937",
     "exception": false,
     "start_time": "2024-06-25T06:47:54.182713",
     "status": "completed"
    },
    "tags": []
   },
   "outputs": [],
   "source": [
    "preds_test = ensemble.predict_proba(X[train.shape[0]:])[:, 1]\n",
    "pd.DataFrame({'id':test[\"id\"], 'generated':preds_test}).to_csv('submission.csv', index=False)"
   ]
  },
  {
   "cell_type": "markdown",
   "id": "2f803457",
   "metadata": {},
   "source": [
    "## Note: bỏ seed ra nma kết quả thí nghiệm trên LB vẫn có chút random =]]] lúc tăng lúc giảm (thử mấy notebook của team khác cũng thế)"
   ]
  }
 ],
 "metadata": {
  "kaggle": {
   "accelerator": "none",
   "dataSources": [
    {
     "databundleVersionId": 7516023,
     "sourceId": 61542,
     "sourceType": "competition"
    },
    {
     "datasetId": 4005256,
     "sourceId": 6977472,
     "sourceType": "datasetVersion"
    }
   ],
   "dockerImageVersionId": 30732,
   "isGpuEnabled": false,
   "isInternetEnabled": false,
   "language": "python",
   "sourceType": "notebook"
  },
  "kernelspec": {
   "display_name": "Python 3",
   "language": "python",
   "name": "python3"
  },
  "language_info": {
   "codemirror_mode": {
    "name": "ipython",
    "version": 3
   },
   "file_extension": ".py",
   "mimetype": "text/x-python",
   "name": "python",
   "nbconvert_exporter": "python",
   "pygments_lexer": "ipython3",
   "version": "3.10.13"
  },
  "papermill": {
   "default_parameters": {},
   "duration": 1713.249239,
   "end_time": "2024-06-25T06:47:56.046386",
   "environment_variables": {},
   "exception": null,
   "input_path": "__notebook__.ipynb",
   "output_path": "__notebook__.ipynb",
   "parameters": {},
   "start_time": "2024-06-25T06:19:22.797147",
   "version": "2.5.0"
  }
 },
 "nbformat": 4,
 "nbformat_minor": 5
}
