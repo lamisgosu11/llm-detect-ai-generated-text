{
 "cells": [
  {
   "cell_type": "code",
   "execution_count": null,
   "metadata": {},
   "outputs": [],
   "source": [
    "import regex as re\n",
    "import numpy as np\n",
    "import pandas as pd\n",
    "from sklearn.ensemble import VotingClassifier\n",
    "from sklearn.linear_model import SGDClassifier\n",
    "from sklearn.linear_model import LogisticRegressionCV\n",
    "from sklearn.naive_bayes import MultinomialNB\n",
    "from sklearn.feature_extraction.text import TfidfVectorizer\n",
    "\n",
    "#local eval\n",
    "from sklearn.model_selection import train_test_split\n",
    "from sklearn.metrics import accuracy_score, recall_score, precision_score,classification_report, confusion_matrix, f1_score, roc_auc_score"
   ]
  },
  {
   "cell_type": "code",
   "execution_count": null,
   "metadata": {},
   "outputs": [],
   "source": [
    "#seed_everything\n",
    "seed = 42\n",
    "def seed_everything(seed):\n",
    "    np.random.seed(seed)\n",
    "    import random\n",
    "    random.seed(seed)\n",
    "seed_everything(seed)"
   ]
  },
  {
   "cell_type": "markdown",
   "metadata": {},
   "source": [
    "## Loading"
   ]
  },
  {
   "cell_type": "code",
   "execution_count": null,
   "metadata": {},
   "outputs": [],
   "source": [
    "train = pd.read_csv(\"/kaggle/input/daigt-v2-train-dataset/train_v2_drcat_02.csv\")\n",
    "test = pd.read_csv('/kaggle/input/llm-detect-ai-generated-text/test_essays.csv')\n",
    "train_ex = pd.read_csv('/kaggle/input/llm-detect-ai-generated-text/train_essays.csv')"
   ]
  },
  {
   "cell_type": "code",
   "execution_count": null,
   "metadata": {},
   "outputs": [],
   "source": [
    "train['text'] = train['text'].str.replace('\\n', '')\n",
    "test['text'] = test['text'].str.replace('\\n', '')\n",
    "train['label'].value_counts()"
   ]
  },
  {
   "cell_type": "markdown",
   "metadata": {},
   "source": [
    "## Text preprocessing"
   ]
  },
  {
   "cell_type": "code",
   "execution_count": null,
   "metadata": {},
   "outputs": [],
   "source": [
    "%%time\n",
    "import nltk\n",
    "from nltk.tokenize import word_tokenize\n",
    "from nltk.corpus import stopwords\n",
    "from nltk.stem import PorterStemmer\n",
    "from nltk.stem import WordNetLemmatizer\n",
    "\n",
    "#tokenizer \n",
    "nltk.download('wordnet')\n",
    "nltk.download('stopwords')\n",
    "nltk.download('punkt')\n",
    "def preprocess(text):\n",
    "    # lowercase\n",
    "    text = text.lower()\n",
    "    # remove special characters and digits\n",
    "    text = re.sub(\"(\\\\d|\\\\W)+\", \" \", text)\n",
    "    # remove extra spaces\n",
    "    text = text.strip()\n",
    "    return text \n",
    "\n",
    "def remove_stopwords(input_text, language='english'):\n",
    "    # Tokenize the text\n",
    "    words = word_tokenize(input_text['text'])\n",
    "    \n",
    "    print(f\"Index {input_text['index_col']}\") if input_text['index_col'] % 10000 == 0 else None\n",
    "\n",
    "#     Remove stopwords\n",
    "    filtered_words = [word for word in words if word.lower() not in stopwords.words(language)]\n",
    "\n",
    "#     Join the filtered words to form the cleaned text\n",
    "    cleaned_text = ' '.join(filtered_words)\n",
    "\n",
    "    return cleaned_text\n",
    "\n",
    "# print('Preprocessing train data...')\n",
    "# print('before:')\n",
    "# print('--LABEL= 1--\\n')\n",
    "# print(train[train['label'] == 1].head(5)['text'].values)\n",
    "# print('--LABEL= 0--\\n')\n",
    "# print(train[train['label'] == 0].head(5)['text'].values)\n",
    "# train['text'] = train['text'].apply(preprocess)\n",
    "# test['text'] = test['text'].apply(preprocess)\n",
    "\n",
    "#stemming\n",
    "stemmer = PorterStemmer()\n",
    "train['text'] = train['text'].apply(lambda x: ' '.join([stemmer.stem(word) for word in word_tokenize(x)]))\n",
    "test['text'] = test['text'].apply(lambda x: ' '.join([stemmer.stem(word) for word in word_tokenize(x)]))\n",
    "\n",
    "train['text'] = train['text'].apply(remove_stopwords)\n",
    "test['text'] = test['text'].apply(remove_stopwords)"
   ]
  },
  {
   "cell_type": "code",
   "execution_count": null,
   "metadata": {},
   "outputs": [],
   "source": [
    "print('Preprocessing train data...')\n",
    "print('after:')\n",
    "print('--LABEL= 1--\\n')\n",
    "print(train[train['label'] == 1].head(5)['text'].values)\n",
    "print('--LABEL= 0--\\n')\n",
    "print(train[train['label'] == 0].head(5)['text'].values)"
   ]
  },
  {
   "cell_type": "markdown",
   "metadata": {},
   "source": [
    "## TFIDF features & modeling"
   ]
  },
  {
   "cell_type": "code",
   "execution_count": null,
   "metadata": {},
   "outputs": [],
   "source": [
    "%%time\n",
    "# for local eval\n",
    "X = train['text']\n",
    "y = train['label']\n",
    "\n",
    "X_train, X_test, y_train, y_test = train_test_split(X, y, test_size=0.1, random_state=seed, stratify = y)\n",
    "# X_train.shape, X_test.shape\n",
    "\n",
    "vectorizer_local = TfidfVectorizer(max_features=500, tokenizer=word_tokenize, token_pattern=None)\n",
    "\n",
    "X_train_local = vectorizer_local.fit_transform(X_train)\n",
    "X_test_local = vectorizer_local.transform(X_test)\n",
    "# eval for local\n",
    "lr_model = LogisticRegression()\n",
    "# ensemble.fit(X[:train.shape[0]], train.label)\n",
    "lr_model.fit(X_train, y_train)\n",
    "y_pred = lr_model.predict(X_test)\n",
    "\n",
    "print(classification_report(y_test, y_pred))\n",
    "print(confusion_matrix(y_test, y_pred))\n",
    "print('Accuracy:', accuracy_score(y_test, y_pred))\n",
    "print('Recall:', recall_score(y_test, y_pred))\n",
    "print('Precision:', precision_score(y_test, y_pred))\n",
    "print('F1:', f1_score(y_test, y_pred, average='macro'))\n",
    "print('ROC AUC:', roc_auc_score(y_test, y_pred))"
   ]
  },
  {
   "cell_type": "code",
   "execution_count": null,
   "metadata": {},
   "outputs": [],
   "source": [
    "%%time\n",
    "# for local eval ensemble\n",
    "X = train['text']\n",
    "y = train['label']\n",
    "\n",
    "X_train, X_test, y_train, y_test = train_test_split(X, y, test_size=0.1, random_state=seed, stratify = y)\n",
    "X_train.shape, X_test.shape\n",
    "\n",
    "vectorizer_local = TfidfVectorizer(max_features=5000)\n",
    "\n",
    "X_train_local = vectorizer_local.fit_transform(X_train)\n",
    "X_test_local = vectorizer_local.transform(X_test)\n",
    "# eval for local\n",
    "lr_model = LogisticRegression()\n",
    "sgd_model = SGDClassifier(max_iter=5000, loss=\"modified_huber\", random_state=seed)\n",
    "mnb = MultinomialNB()\n",
    "\n",
    "ensemble = VotingClassifier(estimators=[('lr', lr_model),\n",
    "                                        ('sgd', sgd_model),\n",
    "                                        ('mnb', mnb)],\n",
    "                            voting='soft'\n",
    "                           )\n",
    "# ensemble.fit(X[:train.shape[0]], train.label)\n",
    "ensemble.fit(X_train, y_train)\n",
    "y_pred = ensemble.predict(X_test)\n",
    "\n",
    "print(classification_report(y_test, y_pred))\n",
    "print(confusion_matrix(y_test, y_pred))\n",
    "print('Accuracy:', accuracy_score(y_test, y_pred))\n",
    "print('Recall:', recall_score(y_test, y_pred))\n",
    "print('Precision:', precision_score(y_test, y_pred))\n",
    "print('F1:', f1_score(y_test, y_pred, average='macro'))\n",
    "print('ROC AUC:', roc_auc_score(y_test, y_pred))\n",
    "\n",
    "#drawing roc curve\n",
    "from sklearn.metrics import roc_curve, auc\n",
    "import matplotlib.pyplot as plt\n",
    "\n",
    "fpr, tpr, thresholds = roc_curve(y_test, y_pred)\n",
    "roc_auc = auc(fpr, tpr)\n",
    "\n",
    "plt.figure()"
   ]
  },
  {
   "cell_type": "code",
   "execution_count": null,
   "metadata": {},
   "outputs": [],
   "source": [
    "%%time\n",
    "# for submission\n",
    "df = pd.concat([train['text'], test['text']])\n",
    "\n",
    "vectorizer = TfidfVectorizer(sublinear_tf=True,\n",
    "                             ngram_range=(3, 4),\n",
    "                             tokenizer=lambda x: re.findall(r'[^\\W]+', x),\n",
    "                             token_pattern=None,\n",
    "                             strip_accents='unicode',\n",
    "                             )\n",
    "\n",
    "# vectorizer = vectorizer.fit(test['text'])\n",
    "vectorizer = vectorizer.fit(df)\n",
    "X = vectorizer.transform(df)\n",
    "\n",
    "lr_model = LogisticRegression()\n",
    "sgd_model = SGDClassifier(max_iter=5000, loss=\"modified_huber\", random_state=seed)\n",
    "mnb = MultinomialNB()\n",
    "\n",
    "ensemble = VotingClassifier(estimators=[('lr', lr_model),\n",
    "                                        ('sgd', sgd_model),\n",
    "                                        ('mnb', mnb)\n",
    "                                       ],\n",
    "                            voting='soft'\n",
    "                           )\n",
    "ensemble.fit(X[:train.shape[0]], train.label)\n",
    "preds_test = ensemble.predict_proba(X[train.shape[0]:])[:, 1]\n",
    "pd.DataFrame({'id':test[\"id\"], 'generated':preds_test}).to_csv('submission.csv', index=False)"
   ]
  },
  {
   "cell_type": "code",
   "execution_count": null,
   "metadata": {},
   "outputs": [],
   "source": []
  }
 ],
 "metadata": {
  "language_info": {
   "name": "python"
  }
 },
 "nbformat": 4,
 "nbformat_minor": 2
}
