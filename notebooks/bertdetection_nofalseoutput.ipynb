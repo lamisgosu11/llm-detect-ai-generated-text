{
 "cells": [
  {
   "cell_type": "code",
   "execution_count": 1,
   "id": "bbcf6e68",
   "metadata": {
    "_cell_guid": "b1076dfc-b9ad-4769-8c92-a6c4dae69d19",
    "_uuid": "8f2839f25d086af736a60e9eeb907d3b93b6e0e5",
    "execution": {
     "iopub.execute_input": "2024-06-24T21:31:17.546519Z",
     "iopub.status.busy": "2024-06-24T21:31:17.546146Z",
     "iopub.status.idle": "2024-06-24T21:31:51.705694Z",
     "shell.execute_reply": "2024-06-24T21:31:51.704407Z"
    },
    "papermill": {
     "duration": 34.177299,
     "end_time": "2024-06-24T21:31:51.708348",
     "exception": false,
     "start_time": "2024-06-24T21:31:17.531049",
     "status": "completed"
    },
    "tags": []
   },
   "outputs": [],
   "source": [
    "!pip install -q transformers nltk tensorflow tensorflow-hub tensorflow_text"
   ]
  },
  {
   "cell_type": "code",
   "execution_count": 2,
   "id": "c404c826",
   "metadata": {
    "execution": {
     "iopub.execute_input": "2024-06-24T21:31:51.763810Z",
     "iopub.status.busy": "2024-06-24T21:31:51.763390Z",
     "iopub.status.idle": "2024-06-24T21:31:53.490562Z",
     "shell.execute_reply": "2024-06-24T21:31:53.489507Z"
    },
    "papermill": {
     "duration": 1.744225,
     "end_time": "2024-06-24T21:31:53.493081",
     "exception": false,
     "start_time": "2024-06-24T21:31:51.748856",
     "status": "completed"
    },
    "tags": []
   },
   "outputs": [
    {
     "name": "stderr",
     "output_type": "stream",
     "text": [
      "/opt/conda/lib/python3.10/site-packages/scipy/__init__.py:146: UserWarning: A NumPy version >=1.16.5 and <1.23.0 is required for this version of SciPy (detected version 1.24.3\n",
      "  warnings.warn(f\"A NumPy version >={np_minversion} and <{np_maxversion}\"\n"
     ]
    }
   ],
   "source": [
    "import pandas as pd\n",
    "import seaborn as sns\n",
    "from matplotlib import pyplot as plt\n",
    "\n",
    "from nltk.corpus import stopwords\n",
    "from nltk.tokenize import word_tokenize\n",
    "import nltk\n",
    "# nltk.download('stopwords')\n",
    "# nltk.download('punkt')\n",
    "\n",
    "from transformers import BertForSequenceClassification, AdamW, BertConfig,BertTokenizer,get_linear_schedule_with_warmup\n",
    "import tensorflow as tf\n",
    "import tensorflow_text as text\n",
    "import tensorflow_hub as hub\n",
    "from sklearn.model_selection import train_test_split\n",
    "from sklearn.metrics import classification_report, roc_auc_score, accuracy_score, recall_score, precision_score, f1_score"
   ]
  },
  {
   "cell_type": "code",
   "execution_count": null,
   "id": "c223cfbd",
   "metadata": {
    "papermill": {
     "duration": 0.013002,
     "end_time": "2024-06-24T21:31:53.519429",
     "exception": false,
     "start_time": "2024-06-24T21:31:53.506427",
     "status": "completed"
    },
    "tags": []
   },
   "outputs": [],
   "source": []
  },
  {
   "cell_type": "code",
   "execution_count": 3,
   "id": "eba91135",
   "metadata": {
    "execution": {
     "iopub.execute_input": "2024-06-24T21:31:53.548234Z",
     "iopub.status.busy": "2024-06-24T21:31:53.547285Z",
     "iopub.status.idle": "2024-06-24T21:31:53.566747Z",
     "shell.execute_reply": "2024-06-24T21:31:53.565976Z"
    },
    "papermill": {
     "duration": 0.036533,
     "end_time": "2024-06-24T21:31:53.568879",
     "exception": false,
     "start_time": "2024-06-24T21:31:53.532346",
     "status": "completed"
    },
    "tags": []
   },
   "outputs": [],
   "source": [
    "# train_prompt_file = \"/kaggle/input/llm-detect-ai-generated-text/train_prompts.csv\"\n",
    "# df_train_prompt = pd.read_csv(train_prompt_file)\n",
    "\n",
    "# train_essay_file = \"/kaggle/input/llm-detect-ai-generated-text/train_essays.csv\"\n",
    "# df_train_essay = pd.read_csv(train_essay_file)\n",
    "\n",
    "test_essay_file = \"/kaggle/input/llm-detect-ai-generated-text/test_essays.csv\"\n",
    "# train_ex = pd.read_csv('/kaggle/input/llm-detect-ai-generated-text/train_essays.csv')\n",
    "df_test_essay = pd.read_csv(test_essay_file)\n",
    "\n",
    "# sub_file = \"/kaggle/input/llm-detect-ai-generated-text/sample_submission.csv\"\n",
    "# df_sub = pd.read_csv(sub_file)"
   ]
  },
  {
   "cell_type": "code",
   "execution_count": 4,
   "id": "bfbacc7b",
   "metadata": {
    "execution": {
     "iopub.execute_input": "2024-06-24T21:31:53.597279Z",
     "iopub.status.busy": "2024-06-24T21:31:53.596940Z",
     "iopub.status.idle": "2024-06-24T21:31:53.601002Z",
     "shell.execute_reply": "2024-06-24T21:31:53.600104Z"
    },
    "papermill": {
     "duration": 0.020598,
     "end_time": "2024-06-24T21:31:53.603072",
     "exception": false,
     "start_time": "2024-06-24T21:31:53.582474",
     "status": "completed"
    },
    "tags": []
   },
   "outputs": [],
   "source": [
    "# df_train_essay.head()"
   ]
  },
  {
   "cell_type": "code",
   "execution_count": 5,
   "id": "46e6dcde",
   "metadata": {
    "execution": {
     "iopub.execute_input": "2024-06-24T21:31:53.630977Z",
     "iopub.status.busy": "2024-06-24T21:31:53.630677Z",
     "iopub.status.idle": "2024-06-24T21:31:53.634462Z",
     "shell.execute_reply": "2024-06-24T21:31:53.633560Z"
    },
    "papermill": {
     "duration": 0.020121,
     "end_time": "2024-06-24T21:31:53.636561",
     "exception": false,
     "start_time": "2024-06-24T21:31:53.616440",
     "status": "completed"
    },
    "tags": []
   },
   "outputs": [],
   "source": [
    "# df_train_prompt.head()"
   ]
  },
  {
   "cell_type": "code",
   "execution_count": 6,
   "id": "645dc7c9",
   "metadata": {
    "execution": {
     "iopub.execute_input": "2024-06-24T21:31:53.664685Z",
     "iopub.status.busy": "2024-06-24T21:31:53.664346Z",
     "iopub.status.idle": "2024-06-24T21:31:53.668310Z",
     "shell.execute_reply": "2024-06-24T21:31:53.667429Z"
    },
    "papermill": {
     "duration": 0.020685,
     "end_time": "2024-06-24T21:31:53.670399",
     "exception": false,
     "start_time": "2024-06-24T21:31:53.649714",
     "status": "completed"
    },
    "tags": []
   },
   "outputs": [],
   "source": [
    "# df_train_essay.info()"
   ]
  },
  {
   "cell_type": "code",
   "execution_count": 7,
   "id": "c857f545",
   "metadata": {
    "execution": {
     "iopub.execute_input": "2024-06-24T21:31:53.697864Z",
     "iopub.status.busy": "2024-06-24T21:31:53.697530Z",
     "iopub.status.idle": "2024-06-24T21:31:53.701430Z",
     "shell.execute_reply": "2024-06-24T21:31:53.700659Z"
    },
    "papermill": {
     "duration": 0.019915,
     "end_time": "2024-06-24T21:31:53.703459",
     "exception": false,
     "start_time": "2024-06-24T21:31:53.683544",
     "status": "completed"
    },
    "tags": []
   },
   "outputs": [],
   "source": [
    "# df_train_essay[\"generated\"].value_counts()"
   ]
  },
  {
   "cell_type": "code",
   "execution_count": 8,
   "id": "236105b4",
   "metadata": {
    "execution": {
     "iopub.execute_input": "2024-06-24T21:31:53.732479Z",
     "iopub.status.busy": "2024-06-24T21:31:53.732159Z",
     "iopub.status.idle": "2024-06-24T21:31:53.736131Z",
     "shell.execute_reply": "2024-06-24T21:31:53.735346Z"
    },
    "papermill": {
     "duration": 0.019886,
     "end_time": "2024-06-24T21:31:53.738132",
     "exception": false,
     "start_time": "2024-06-24T21:31:53.718246",
     "status": "completed"
    },
    "tags": []
   },
   "outputs": [],
   "source": [
    "# sns.countplot(x=df_train_essay['generated'])\n",
    "# plt.show"
   ]
  },
  {
   "cell_type": "code",
   "execution_count": 9,
   "id": "cdaff7b8",
   "metadata": {
    "execution": {
     "iopub.execute_input": "2024-06-24T21:31:53.765317Z",
     "iopub.status.busy": "2024-06-24T21:31:53.765004Z",
     "iopub.status.idle": "2024-06-24T21:31:53.769061Z",
     "shell.execute_reply": "2024-06-24T21:31:53.768199Z"
    },
    "papermill": {
     "duration": 0.020123,
     "end_time": "2024-06-24T21:31:53.771118",
     "exception": false,
     "start_time": "2024-06-24T21:31:53.750995",
     "status": "completed"
    },
    "tags": []
   },
   "outputs": [],
   "source": [
    "# df_train_essay[\"prompt_id\"].value_counts()"
   ]
  },
  {
   "cell_type": "code",
   "execution_count": 10,
   "id": "39494f75",
   "metadata": {
    "execution": {
     "iopub.execute_input": "2024-06-24T21:31:53.847298Z",
     "iopub.status.busy": "2024-06-24T21:31:53.846938Z",
     "iopub.status.idle": "2024-06-24T21:31:53.851146Z",
     "shell.execute_reply": "2024-06-24T21:31:53.850303Z"
    },
    "papermill": {
     "duration": 0.020861,
     "end_time": "2024-06-24T21:31:53.853296",
     "exception": false,
     "start_time": "2024-06-24T21:31:53.832435",
     "status": "completed"
    },
    "tags": []
   },
   "outputs": [],
   "source": [
    "# sns.countplot(x=df_train_essay['prompt_id'])\n",
    "# plt.show"
   ]
  },
  {
   "cell_type": "code",
   "execution_count": 11,
   "id": "89351e3e",
   "metadata": {
    "execution": {
     "iopub.execute_input": "2024-06-24T21:31:53.905446Z",
     "iopub.status.busy": "2024-06-24T21:31:53.905078Z",
     "iopub.status.idle": "2024-06-24T21:31:55.990804Z",
     "shell.execute_reply": "2024-06-24T21:31:55.989916Z"
    },
    "papermill": {
     "duration": 2.102331,
     "end_time": "2024-06-24T21:31:55.993410",
     "exception": false,
     "start_time": "2024-06-24T21:31:53.891079",
     "status": "completed"
    },
    "tags": []
   },
   "outputs": [],
   "source": [
    "train_essay_ex_file = \"/kaggle/input/daigt-v2-train-dataset/train_v2_drcat_02.csv\"\n",
    "# train_essay_ex2_file = \"/kaggle/input/llm-7-prompt-training-dataset/train_essays_RDizzl3_seven_v1.csv\"\n",
    "df_train_essay_ex = pd.read_csv(train_essay_ex_file)\n",
    "# df_train_essay_ex2 = pd.read_csv(train_essay_ex2_file)"
   ]
  },
  {
   "cell_type": "code",
   "execution_count": 12,
   "id": "9db2ac70",
   "metadata": {
    "execution": {
     "iopub.execute_input": "2024-06-24T21:31:56.023579Z",
     "iopub.status.busy": "2024-06-24T21:31:56.023222Z",
     "iopub.status.idle": "2024-06-24T21:31:56.156578Z",
     "shell.execute_reply": "2024-06-24T21:31:56.155683Z"
    },
    "papermill": {
     "duration": 0.151716,
     "end_time": "2024-06-24T21:31:56.159517",
     "exception": false,
     "start_time": "2024-06-24T21:31:56.007801",
     "status": "completed"
    },
    "tags": []
   },
   "outputs": [],
   "source": [
    "df_train_essay_ex_ = df_train_essay_ex[df_train_essay_ex.RDizzl3_seven == False].reset_index(drop=True)\n",
    "df_train_essay_ex_ = df_train_essay_ex[df_train_essay_ex[\"label\"]==1].sample(8000)\n",
    "df_train_essay_ex = df_train_essay_ex[df_train_essay_ex.RDizzl3_seven == True].reset_index(drop=True)\n",
    "df_train_essay_ex = pd.concat([df_train_essay_ex, df_train_essay_ex_])\n",
    "df_train_essay_ex['text'] = df_train_essay_ex['text'].str.replace('\\n', '')\n",
    "df_test_essay['text'] = df_test_essay['text'].str.replace('\\n', '')\n",
    "# df_train_essay_ex['label'].value_counts()"
   ]
  },
  {
   "cell_type": "code",
   "execution_count": 13,
   "id": "85cba7f2",
   "metadata": {
    "execution": {
     "iopub.execute_input": "2024-06-24T21:31:56.188632Z",
     "iopub.status.busy": "2024-06-24T21:31:56.188284Z",
     "iopub.status.idle": "2024-06-24T21:31:56.202030Z",
     "shell.execute_reply": "2024-06-24T21:31:56.201178Z"
    },
    "papermill": {
     "duration": 0.030994,
     "end_time": "2024-06-24T21:31:56.204018",
     "exception": false,
     "start_time": "2024-06-24T21:31:56.173024",
     "status": "completed"
    },
    "tags": []
   },
   "outputs": [
    {
     "data": {
      "text/plain": [
       "label\n",
       "0    14250\n",
       "1    14200\n",
       "Name: count, dtype: int64"
      ]
     },
     "execution_count": 13,
     "metadata": {},
     "output_type": "execute_result"
    }
   ],
   "source": [
    "# df_train_essay_ex.rename(columns = {\"label\":\"generated\"}, inplace=True)\n",
    "df_train_essay_ex['label'].value_counts()"
   ]
  },
  {
   "cell_type": "code",
   "execution_count": 14,
   "id": "aa249e24",
   "metadata": {
    "execution": {
     "iopub.execute_input": "2024-06-24T21:31:56.232021Z",
     "iopub.status.busy": "2024-06-24T21:31:56.231480Z",
     "iopub.status.idle": "2024-06-24T21:31:56.235603Z",
     "shell.execute_reply": "2024-06-24T21:31:56.234675Z"
    },
    "papermill": {
     "duration": 0.020247,
     "end_time": "2024-06-24T21:31:56.237679",
     "exception": false,
     "start_time": "2024-06-24T21:31:56.217432",
     "status": "completed"
    },
    "tags": []
   },
   "outputs": [],
   "source": [
    "# train_ex.rename(columns={'generated':'label'}, inplace= True)\n",
    "# train_ex"
   ]
  },
  {
   "cell_type": "code",
   "execution_count": 15,
   "id": "4a71882a",
   "metadata": {
    "execution": {
     "iopub.execute_input": "2024-06-24T21:31:56.267018Z",
     "iopub.status.busy": "2024-06-24T21:31:56.266687Z",
     "iopub.status.idle": "2024-06-24T21:31:56.270714Z",
     "shell.execute_reply": "2024-06-24T21:31:56.269827Z"
    },
    "papermill": {
     "duration": 0.021306,
     "end_time": "2024-06-24T21:31:56.272652",
     "exception": false,
     "start_time": "2024-06-24T21:31:56.251346",
     "status": "completed"
    },
    "tags": []
   },
   "outputs": [],
   "source": [
    "# df_train_essay_ex2['label'].value_counts()"
   ]
  },
  {
   "cell_type": "code",
   "execution_count": 16,
   "id": "d228ea16",
   "metadata": {
    "execution": {
     "iopub.execute_input": "2024-06-24T21:31:56.301114Z",
     "iopub.status.busy": "2024-06-24T21:31:56.300794Z",
     "iopub.status.idle": "2024-06-24T21:31:56.570816Z",
     "shell.execute_reply": "2024-06-24T21:31:56.569832Z"
    },
    "papermill": {
     "duration": 0.286882,
     "end_time": "2024-06-24T21:31:56.573084",
     "exception": false,
     "start_time": "2024-06-24T21:31:56.286202",
     "status": "completed"
    },
    "tags": []
   },
   "outputs": [
    {
     "data": {
      "text/plain": [
       "<function matplotlib.pyplot.show(close=None, block=None)>"
      ]
     },
     "execution_count": 16,
     "metadata": {},
     "output_type": "execute_result"
    },
    {
     "data": {
      "image/png": "[encoded data removed]",
      "text/plain": [
       "<Figure size 640x480 with 1 Axes>"
      ]
     },
     "metadata": {},
     "output_type": "display_data"
    }
   ],
   "source": [
    "sns.countplot(x=df_train_essay_ex['label'])\n",
    "plt.show"
   ]
  },
  {
   "cell_type": "code",
   "execution_count": 17,
   "id": "89ef72b7",
   "metadata": {
    "execution": {
     "iopub.execute_input": "2024-06-24T21:31:56.601899Z",
     "iopub.status.busy": "2024-06-24T21:31:56.601439Z",
     "iopub.status.idle": "2024-06-24T21:31:56.605646Z",
     "shell.execute_reply": "2024-06-24T21:31:56.604674Z"
    },
    "papermill": {
     "duration": 0.020703,
     "end_time": "2024-06-24T21:31:56.607896",
     "exception": false,
     "start_time": "2024-06-24T21:31:56.587193",
     "status": "completed"
    },
    "tags": []
   },
   "outputs": [],
   "source": [
    "# sns.countplot(x=df_train_essay_ex2['label'])\n",
    "# plt.show"
   ]
  },
  {
   "cell_type": "code",
   "execution_count": 18,
   "id": "911393f1",
   "metadata": {
    "execution": {
     "iopub.execute_input": "2024-06-24T21:31:56.664771Z",
     "iopub.status.busy": "2024-06-24T21:31:56.664359Z",
     "iopub.status.idle": "2024-06-24T21:31:56.683198Z",
     "shell.execute_reply": "2024-06-24T21:31:56.682350Z"
    },
    "papermill": {
     "duration": 0.036168,
     "end_time": "2024-06-24T21:31:56.685335",
     "exception": false,
     "start_time": "2024-06-24T21:31:56.649167",
     "status": "completed"
    },
    "tags": []
   },
   "outputs": [
    {
     "data": {
      "text/html": [
       "<div>\n",
       "<style scoped>\n",
       "    .dataframe tbody tr th:only-of-type {\n",
       "        vertical-align: middle;\n",
       "    }\n",
       "\n",
       "    .dataframe tbody tr th {\n",
       "        vertical-align: top;\n",
       "    }\n",
       "\n",
       "    .dataframe thead th {\n",
       "        text-align: right;\n",
       "    }\n",
       "</style>\n",
       "<table border=\"1\" class=\"dataframe\">\n",
       "  <thead>\n",
       "    <tr style=\"text-align: right;\">\n",
       "      <th></th>\n",
       "      <th>text</th>\n",
       "      <th>label</th>\n",
       "    </tr>\n",
       "  </thead>\n",
       "  <tbody>\n",
       "    <tr>\n",
       "      <th>0</th>\n",
       "      <td>Cars have been around for awhile and they have...</td>\n",
       "      <td>0</td>\n",
       "    </tr>\n",
       "    <tr>\n",
       "      <th>1</th>\n",
       "      <td>Have you ever thought what it would be like no...</td>\n",
       "      <td>0</td>\n",
       "    </tr>\n",
       "    <tr>\n",
       "      <th>2</th>\n",
       "      <td>What you are about to read is going to give yo...</td>\n",
       "      <td>0</td>\n",
       "    </tr>\n",
       "    <tr>\n",
       "      <th>3</th>\n",
       "      <td>cars have many flaws nd and in this day and ag...</td>\n",
       "      <td>0</td>\n",
       "    </tr>\n",
       "    <tr>\n",
       "      <th>4</th>\n",
       "      <td>There are many advantages of limiting car usag...</td>\n",
       "      <td>0</td>\n",
       "    </tr>\n",
       "    <tr>\n",
       "      <th>...</th>\n",
       "      <td>...</td>\n",
       "      <td>...</td>\n",
       "    </tr>\n",
       "    <tr>\n",
       "      <th>33452</th>\n",
       "      <td>Standardized testing is dumb. I mean, whats th...</td>\n",
       "      <td>1</td>\n",
       "    </tr>\n",
       "    <tr>\n",
       "      <th>37485</th>\n",
       "      <td>While Driverless Cars May Provide Convenience,...</td>\n",
       "      <td>1</td>\n",
       "    </tr>\n",
       "    <tr>\n",
       "      <th>34835</th>\n",
       "      <td>Hey, so I'm gonna write this essay about the p...</td>\n",
       "      <td>1</td>\n",
       "    </tr>\n",
       "    <tr>\n",
       "      <th>34867</th>\n",
       "      <td>Title: The Importance of a Research Checklist ...</td>\n",
       "      <td>1</td>\n",
       "    </tr>\n",
       "    <tr>\n",
       "      <th>29409</th>\n",
       "      <td>Advantages of Graduating Early in High SchoolG...</td>\n",
       "      <td>1</td>\n",
       "    </tr>\n",
       "  </tbody>\n",
       "</table>\n",
       "<p>28450 rows × 2 columns</p>\n",
       "</div>"
      ],
      "text/plain": [
       "                                                    text  label\n",
       "0      Cars have been around for awhile and they have...      0\n",
       "1      Have you ever thought what it would be like no...      0\n",
       "2      What you are about to read is going to give yo...      0\n",
       "3      cars have many flaws nd and in this day and ag...      0\n",
       "4      There are many advantages of limiting car usag...      0\n",
       "...                                                  ...    ...\n",
       "33452  Standardized testing is dumb. I mean, whats th...      1\n",
       "37485  While Driverless Cars May Provide Convenience,...      1\n",
       "34835  Hey, so I'm gonna write this essay about the p...      1\n",
       "34867  Title: The Importance of a Research Checklist ...      1\n",
       "29409  Advantages of Graduating Early in High SchoolG...      1\n",
       "\n",
       "[28450 rows x 2 columns]"
      ]
     },
     "execution_count": 18,
     "metadata": {},
     "output_type": "execute_result"
    }
   ],
   "source": [
    "# df_train = pd.concat([df_train_essay_ex[[\"text\", \"label\"]],\n",
    "#                                    df_train_essay_ex2[[\"text\", \"label\"]]])\n",
    "# df_train = pd.concat([df_train_essay_ex[[\"text\", \"label\"]],\n",
    "#                                    train_ex[[\"text\", \"label\"]]])\n",
    "df_train = df_train_essay_ex[[\"text\", \"label\"]]\n",
    "df_train"
   ]
  },
  {
   "cell_type": "code",
   "execution_count": 19,
   "id": "4a824f89",
   "metadata": {
    "execution": {
     "iopub.execute_input": "2024-06-24T21:31:56.714449Z",
     "iopub.status.busy": "2024-06-24T21:31:56.714164Z",
     "iopub.status.idle": "2024-06-24T21:31:56.734729Z",
     "shell.execute_reply": "2024-06-24T21:31:56.733667Z"
    },
    "papermill": {
     "duration": 0.037273,
     "end_time": "2024-06-24T21:31:56.736779",
     "exception": false,
     "start_time": "2024-06-24T21:31:56.699506",
     "status": "completed"
    },
    "tags": []
   },
   "outputs": [
    {
     "name": "stdout",
     "output_type": "stream",
     "text": [
      "<class 'pandas.core.frame.DataFrame'>\n",
      "Index: 28450 entries, 0 to 29409\n",
      "Data columns (total 2 columns):\n",
      " #   Column  Non-Null Count  Dtype \n",
      "---  ------  --------------  ----- \n",
      " 0   text    28450 non-null  object\n",
      " 1   label   28450 non-null  int64 \n",
      "dtypes: int64(1), object(1)\n",
      "memory usage: 666.8+ KB\n"
     ]
    }
   ],
   "source": [
    "df_train.info()"
   ]
  },
  {
   "cell_type": "code",
   "execution_count": 20,
   "id": "6fa75d9d",
   "metadata": {
    "execution": {
     "iopub.execute_input": "2024-06-24T21:31:56.766693Z",
     "iopub.status.busy": "2024-06-24T21:31:56.766377Z",
     "iopub.status.idle": "2024-06-24T21:31:56.773655Z",
     "shell.execute_reply": "2024-06-24T21:31:56.772834Z"
    },
    "papermill": {
     "duration": 0.024627,
     "end_time": "2024-06-24T21:31:56.775594",
     "exception": false,
     "start_time": "2024-06-24T21:31:56.750967",
     "status": "completed"
    },
    "tags": []
   },
   "outputs": [
    {
     "data": {
      "text/plain": [
       "label\n",
       "0    14250\n",
       "1    14200\n",
       "Name: count, dtype: int64"
      ]
     },
     "execution_count": 20,
     "metadata": {},
     "output_type": "execute_result"
    }
   ],
   "source": [
    "df_train['label'].value_counts()"
   ]
  },
  {
   "cell_type": "code",
   "execution_count": 21,
   "id": "58d70d99",
   "metadata": {
    "execution": {
     "iopub.execute_input": "2024-06-24T21:31:56.806129Z",
     "iopub.status.busy": "2024-06-24T21:31:56.805828Z",
     "iopub.status.idle": "2024-06-24T21:31:57.115032Z",
     "shell.execute_reply": "2024-06-24T21:31:57.114035Z"
    },
    "papermill": {
     "duration": 0.32742,
     "end_time": "2024-06-24T21:31:57.117608",
     "exception": false,
     "start_time": "2024-06-24T21:31:56.790188",
     "status": "completed"
    },
    "tags": []
   },
   "outputs": [
    {
     "data": {
      "text/plain": [
       "<function matplotlib.pyplot.show(close=None, block=None)>"
      ]
     },
     "execution_count": 21,
     "metadata": {},
     "output_type": "execute_result"
    },
    {
     "data": {
      "image/png": "[encoded data removed]",
      "text/plain": [
       "<Figure size 640x480 with 1 Axes>"
      ]
     },
     "metadata": {},
     "output_type": "display_data"
    }
   ],
   "source": [
    "sns.countplot(x=df_train['label'])\n",
    "plt.show"
   ]
  },
  {
   "cell_type": "code",
   "execution_count": 22,
   "id": "5a93a153",
   "metadata": {
    "execution": {
     "iopub.execute_input": "2024-06-24T21:31:57.181291Z",
     "iopub.status.busy": "2024-06-24T21:31:57.180953Z",
     "iopub.status.idle": "2024-06-24T21:31:57.186298Z",
     "shell.execute_reply": "2024-06-24T21:31:57.185144Z"
    },
    "papermill": {
     "duration": 0.023294,
     "end_time": "2024-06-24T21:31:57.188305",
     "exception": false,
     "start_time": "2024-06-24T21:31:57.165011",
     "status": "completed"
    },
    "tags": []
   },
   "outputs": [],
   "source": [
    "# # Function to balance label counts\n",
    "# def undersample(df, label_column='generated'):\n",
    "#     label_counts = df[label_column].value_counts()\n",
    "#     min_count = label_counts.min()\n",
    "\n",
    "#     balanced_df = pd.DataFrame()\n",
    "\n",
    "#     for label, count in label_counts.items():\n",
    "#         label_subset = df[df[label_column] == label]\n",
    "#         undersampled_subset = label_subset.sample(n=min_count, random_state=42)\n",
    "#         balanced_df = pd.concat([balanced_df, undersampled_subset], ignore_index=True)\n",
    "\n",
    "#     return balanced_df\n",
    "\n",
    "# # Balance labels in the DataFrame\n",
    "# df_balanced_train = undersample(df_train)\n",
    "\n",
    "# Print the balanced DataFrame\n",
    "# print(df_balanced_train)"
   ]
  },
  {
   "cell_type": "code",
   "execution_count": 23,
   "id": "a869889e",
   "metadata": {
    "execution": {
     "iopub.execute_input": "2024-06-24T21:31:57.219299Z",
     "iopub.status.busy": "2024-06-24T21:31:57.219023Z",
     "iopub.status.idle": "2024-06-24T21:31:57.395831Z",
     "shell.execute_reply": "2024-06-24T21:31:57.394607Z"
    },
    "papermill": {
     "duration": 0.194865,
     "end_time": "2024-06-24T21:31:57.398122",
     "exception": false,
     "start_time": "2024-06-24T21:31:57.203257",
     "status": "completed"
    },
    "tags": []
   },
   "outputs": [
    {
     "data": {
      "text/plain": [
       "<function matplotlib.pyplot.show(close=None, block=None)>"
      ]
     },
     "execution_count": 23,
     "metadata": {},
     "output_type": "execute_result"
    },
    {
     "data": {
      "image/png": "[encoded data removed]",
      "text/plain": [
       "<Figure size 640x480 with 1 Axes>"
      ]
     },
     "metadata": {},
     "output_type": "display_data"
    }
   ],
   "source": [
    "sns.countplot(x=df_train['label'])\n",
    "plt.show"
   ]
  },
  {
   "cell_type": "code",
   "execution_count": 24,
   "id": "7ddb82ce",
   "metadata": {
    "execution": {
     "iopub.execute_input": "2024-06-24T21:31:57.462063Z",
     "iopub.status.busy": "2024-06-24T21:31:57.461707Z",
     "iopub.status.idle": "2024-06-24T21:31:58.196437Z",
     "shell.execute_reply": "2024-06-24T21:31:58.194982Z"
    },
    "papermill": {
     "duration": 0.754033,
     "end_time": "2024-06-24T21:31:58.198832",
     "exception": false,
     "start_time": "2024-06-24T21:31:57.444799",
     "status": "completed"
    },
    "tags": []
   },
   "outputs": [
    {
     "name": "stderr",
     "output_type": "stream",
     "text": [
      "/tmp/ipykernel_27/2420977747.py:1: SettingWithCopyWarning: \n",
      "A value is trying to be set on a copy of a slice from a DataFrame.\n",
      "Try using .loc[row_indexer,col_indexer] = value instead\n",
      "\n",
      "See the caveats in the documentation: https://pandas.pydata.org/pandas-docs/stable/user_guide/indexing.html#returning-a-view-versus-a-copy\n",
      "  df_train[\"text_len\"] = df_train[\"text\"].apply(lambda x : len(x.split()))\n"
     ]
    }
   ],
   "source": [
    "df_train[\"text_len\"] = df_train[\"text\"].apply(lambda x : len(x.split()))"
   ]
  },
  {
   "cell_type": "code",
   "execution_count": 25,
   "id": "6b9b7565",
   "metadata": {
    "execution": {
     "iopub.execute_input": "2024-06-24T21:31:58.231064Z",
     "iopub.status.busy": "2024-06-24T21:31:58.230740Z",
     "iopub.status.idle": "2024-06-24T21:31:58.243246Z",
     "shell.execute_reply": "2024-06-24T21:31:58.242343Z"
    },
    "papermill": {
     "duration": 0.03134,
     "end_time": "2024-06-24T21:31:58.245479",
     "exception": false,
     "start_time": "2024-06-24T21:31:58.214139",
     "status": "completed"
    },
    "tags": []
   },
   "outputs": [
    {
     "data": {
      "text/html": [
       "<div>\n",
       "<style scoped>\n",
       "    .dataframe tbody tr th:only-of-type {\n",
       "        vertical-align: middle;\n",
       "    }\n",
       "\n",
       "    .dataframe tbody tr th {\n",
       "        vertical-align: top;\n",
       "    }\n",
       "\n",
       "    .dataframe thead th {\n",
       "        text-align: right;\n",
       "    }\n",
       "</style>\n",
       "<table border=\"1\" class=\"dataframe\">\n",
       "  <thead>\n",
       "    <tr style=\"text-align: right;\">\n",
       "      <th></th>\n",
       "      <th>text</th>\n",
       "      <th>label</th>\n",
       "      <th>text_len</th>\n",
       "    </tr>\n",
       "  </thead>\n",
       "  <tbody>\n",
       "    <tr>\n",
       "      <th>0</th>\n",
       "      <td>Cars have been around for awhile and they have...</td>\n",
       "      <td>0</td>\n",
       "      <td>533</td>\n",
       "    </tr>\n",
       "    <tr>\n",
       "      <th>1</th>\n",
       "      <td>Have you ever thought what it would be like no...</td>\n",
       "      <td>0</td>\n",
       "      <td>212</td>\n",
       "    </tr>\n",
       "    <tr>\n",
       "      <th>2</th>\n",
       "      <td>What you are about to read is going to give yo...</td>\n",
       "      <td>0</td>\n",
       "      <td>613</td>\n",
       "    </tr>\n",
       "    <tr>\n",
       "      <th>3</th>\n",
       "      <td>cars have many flaws nd and in this day and ag...</td>\n",
       "      <td>0</td>\n",
       "      <td>188</td>\n",
       "    </tr>\n",
       "    <tr>\n",
       "      <th>4</th>\n",
       "      <td>There are many advantages of limiting car usag...</td>\n",
       "      <td>0</td>\n",
       "      <td>311</td>\n",
       "    </tr>\n",
       "    <tr>\n",
       "      <th>...</th>\n",
       "      <td>...</td>\n",
       "      <td>...</td>\n",
       "      <td>...</td>\n",
       "    </tr>\n",
       "    <tr>\n",
       "      <th>33452</th>\n",
       "      <td>Standardized testing is dumb. I mean, whats th...</td>\n",
       "      <td>1</td>\n",
       "      <td>271</td>\n",
       "    </tr>\n",
       "    <tr>\n",
       "      <th>37485</th>\n",
       "      <td>While Driverless Cars May Provide Convenience,...</td>\n",
       "      <td>1</td>\n",
       "      <td>356</td>\n",
       "    </tr>\n",
       "    <tr>\n",
       "      <th>34835</th>\n",
       "      <td>Hey, so I'm gonna write this essay about the p...</td>\n",
       "      <td>1</td>\n",
       "      <td>373</td>\n",
       "    </tr>\n",
       "    <tr>\n",
       "      <th>34867</th>\n",
       "      <td>Title: The Importance of a Research Checklist ...</td>\n",
       "      <td>1</td>\n",
       "      <td>354</td>\n",
       "    </tr>\n",
       "    <tr>\n",
       "      <th>29409</th>\n",
       "      <td>Advantages of Graduating Early in High SchoolG...</td>\n",
       "      <td>1</td>\n",
       "      <td>366</td>\n",
       "    </tr>\n",
       "  </tbody>\n",
       "</table>\n",
       "<p>28450 rows × 3 columns</p>\n",
       "</div>"
      ],
      "text/plain": [
       "                                                    text  label  text_len\n",
       "0      Cars have been around for awhile and they have...      0       533\n",
       "1      Have you ever thought what it would be like no...      0       212\n",
       "2      What you are about to read is going to give yo...      0       613\n",
       "3      cars have many flaws nd and in this day and ag...      0       188\n",
       "4      There are many advantages of limiting car usag...      0       311\n",
       "...                                                  ...    ...       ...\n",
       "33452  Standardized testing is dumb. I mean, whats th...      1       271\n",
       "37485  While Driverless Cars May Provide Convenience,...      1       356\n",
       "34835  Hey, so I'm gonna write this essay about the p...      1       373\n",
       "34867  Title: The Importance of a Research Checklist ...      1       354\n",
       "29409  Advantages of Graduating Early in High SchoolG...      1       366\n",
       "\n",
       "[28450 rows x 3 columns]"
      ]
     },
     "execution_count": 25,
     "metadata": {},
     "output_type": "execute_result"
    }
   ],
   "source": [
    "df_train"
   ]
  },
  {
   "cell_type": "code",
   "execution_count": 26,
   "id": "769cc5c4",
   "metadata": {
    "execution": {
     "iopub.execute_input": "2024-06-24T21:31:58.279993Z",
     "iopub.status.busy": "2024-06-24T21:31:58.279221Z",
     "iopub.status.idle": "2024-06-24T21:31:58.877097Z",
     "shell.execute_reply": "2024-06-24T21:31:58.876132Z"
    },
    "papermill": {
     "duration": 0.617648,
     "end_time": "2024-06-24T21:31:58.879537",
     "exception": false,
     "start_time": "2024-06-24T21:31:58.261889",
     "status": "completed"
    },
    "tags": []
   },
   "outputs": [
    {
     "name": "stderr",
     "output_type": "stream",
     "text": [
      "/opt/conda/lib/python3.10/site-packages/seaborn/_oldcore.py:1119: FutureWarning: use_inf_as_na option is deprecated and will be removed in a future version. Convert inf values to NaN before operating instead.\n",
      "  with pd.option_context('mode.use_inf_as_na', True):\n"
     ]
    },
    {
     "data": {
      "image/png": "[encoded data removed]",
      "text/plain": [
       "<Figure size 640x480 with 1 Axes>"
      ]
     },
     "metadata": {},
     "output_type": "display_data"
    }
   ],
   "source": [
    "sns.histplot(df_train['text_len'], bins=20, kde=True)\n",
    "plt.title('Histogram of Text Length')\n",
    "plt.xlabel('Text Length')\n",
    "plt.ylabel('Frequency')\n",
    "plt.show()"
   ]
  },
  {
   "cell_type": "code",
   "execution_count": 27,
   "id": "fc2f2942",
   "metadata": {
    "execution": {
     "iopub.execute_input": "2024-06-24T21:31:58.914035Z",
     "iopub.status.busy": "2024-06-24T21:31:58.913621Z",
     "iopub.status.idle": "2024-06-24T21:31:58.920635Z",
     "shell.execute_reply": "2024-06-24T21:31:58.919605Z"
    },
    "papermill": {
     "duration": 0.027102,
     "end_time": "2024-06-24T21:31:58.922758",
     "exception": false,
     "start_time": "2024-06-24T21:31:58.895656",
     "status": "completed"
    },
    "tags": []
   },
   "outputs": [
    {
     "name": "stdout",
     "output_type": "stream",
     "text": [
      "364.0258699472759\n",
      "1656\n"
     ]
    }
   ],
   "source": [
    "print(df_train[\"text_len\"].mean())\n",
    "print(df_train[\"text_len\"].max())"
   ]
  },
  {
   "cell_type": "code",
   "execution_count": 28,
   "id": "3f1cb980",
   "metadata": {
    "execution": {
     "iopub.execute_input": "2024-06-24T21:31:59.027119Z",
     "iopub.status.busy": "2024-06-24T21:31:59.026716Z",
     "iopub.status.idle": "2024-06-24T21:31:59.735325Z",
     "shell.execute_reply": "2024-06-24T21:31:59.734378Z"
    },
    "papermill": {
     "duration": 0.729914,
     "end_time": "2024-06-24T21:31:59.737993",
     "exception": false,
     "start_time": "2024-06-24T21:31:59.008079",
     "status": "completed"
    },
    "tags": []
   },
   "outputs": [],
   "source": [
    "def remove_stopwords(input_text, language='english'):\n",
    "    \"\"\"\n",
    "    Remove stopwords from the input text.\n",
    "\n",
    "    Parameters:\n",
    "    - input_text (str): The input text containing stopwords.\n",
    "    - language (str): The language of the stopwords. Default is 'english'.\n",
    "\n",
    "    Returns:\n",
    "    - str: The cleaned text without stopwords.\n",
    "    \"\"\"\n",
    "    # Tokenize the text\n",
    "    words = word_tokenize(input_text['text'])\n",
    "    \n",
    "    print(f\"Index {input_text['index_col']}\") if input_text['index_col'] % 10000 == 0 else None\n",
    "\n",
    "#     Remove stopwords\n",
    "    filtered_words = [word for word in words if word.lower() not in stopwords.words(language)]\n",
    "\n",
    "    # Join the filtered words to form the cleaned text\n",
    "    cleaned_text = ' '.join(filtered_words)\n",
    "\n",
    "    return cleaned_text"
   ]
  },
  {
   "cell_type": "code",
   "execution_count": 29,
   "id": "342f5368",
   "metadata": {
    "execution": {
     "iopub.execute_input": "2024-06-24T21:31:59.773416Z",
     "iopub.status.busy": "2024-06-24T21:31:59.773030Z",
     "iopub.status.idle": "2024-06-24T21:58:49.209309Z",
     "shell.execute_reply": "2024-06-24T21:58:49.208181Z"
    },
    "papermill": {
     "duration": 1609.476133,
     "end_time": "2024-06-24T21:58:49.231050",
     "exception": false,
     "start_time": "2024-06-24T21:31:59.754917",
     "status": "completed"
    },
    "scrolled": true,
    "tags": []
   },
   "outputs": [
    {
     "name": "stderr",
     "output_type": "stream",
     "text": [
      "/tmp/ipykernel_27/4145976751.py:4: SettingWithCopyWarning: \n",
      "A value is trying to be set on a copy of a slice from a DataFrame.\n",
      "Try using .loc[row_indexer,col_indexer] = value instead\n",
      "\n",
      "See the caveats in the documentation: https://pandas.pydata.org/pandas-docs/stable/user_guide/indexing.html#returning-a-view-versus-a-copy\n",
      "  df_train['index_col'] = df_train.index\n"
     ]
    },
    {
     "name": "stdout",
     "output_type": "stream",
     "text": [
      "Index 0\n",
      "Index 10000\n",
      "Index 20000\n",
      "Index 40000\n",
      "Index 30000\n",
      "Index 0\n"
     ]
    },
    {
     "name": "stderr",
     "output_type": "stream",
     "text": [
      "/tmp/ipykernel_27/4145976751.py:5: SettingWithCopyWarning: \n",
      "A value is trying to be set on a copy of a slice from a DataFrame.\n",
      "Try using .loc[row_indexer,col_indexer] = value instead\n",
      "\n",
      "See the caveats in the documentation: https://pandas.pydata.org/pandas-docs/stable/user_guide/indexing.html#returning-a-view-versus-a-copy\n",
      "  df_train['text'] = df_train.apply(lambda text: remove_stopwords(text), axis=1)\n"
     ]
    }
   ],
   "source": [
    "# df_balanced_train['index_col'] = df_balanced_train.index\n",
    "# df_balanced_train[\"text\"] = df_balanced_train.apply(lambda text: remove_stopwords(text), axis=1)\n",
    "\n",
    "df_train['index_col'] = df_train.index\n",
    "df_train['text'] = df_train.apply(lambda text: remove_stopwords(text), axis=1)\n",
    "\n",
    "df_test_essay['index_col'] = df_test_essay.index\n",
    "df_test_essay[\"text\"] = df_test_essay.apply(lambda text: remove_stopwords(text), axis=1)"
   ]
  },
  {
   "cell_type": "code",
   "execution_count": 30,
   "id": "54e99d55",
   "metadata": {
    "execution": {
     "iopub.execute_input": "2024-06-24T21:58:49.296697Z",
     "iopub.status.busy": "2024-06-24T21:58:49.296305Z",
     "iopub.status.idle": "2024-06-24T21:58:49.317185Z",
     "shell.execute_reply": "2024-06-24T21:58:49.316150Z"
    },
    "papermill": {
     "duration": 0.040018,
     "end_time": "2024-06-24T21:58:49.319681",
     "exception": false,
     "start_time": "2024-06-24T21:58:49.279663",
     "status": "completed"
    },
    "tags": []
   },
   "outputs": [],
   "source": [
    "x, y = df_train['text'], df_train['label']\n",
    "x_train,x_test,y_train,y_test=train_test_split(x,y,test_size=0.2,random_state=42, stratify=y)\n"
   ]
  },
  {
   "cell_type": "code",
   "execution_count": 32,
   "id": "88b4dfa8",
   "metadata": {
    "execution": {
     "iopub.execute_input": "2024-06-24T21:59:06.860159Z",
     "iopub.status.busy": "2024-06-24T21:59:06.857444Z",
     "iopub.status.idle": "2024-06-24T21:59:06.864033Z",
     "shell.execute_reply": "2024-06-24T21:59:06.863085Z"
    },
    "papermill": {
     "duration": 0.026877,
     "end_time": "2024-06-24T21:59:06.866209",
     "exception": false,
     "start_time": "2024-06-24T21:59:06.839332",
     "status": "completed"
    },
    "tags": []
   },
   "outputs": [],
   "source": [
    "model_path = \"/kaggle/input/bert/tensorflow2/bert-en-uncased-l-12-h-128-a-2/2\"\n",
    "preprocess_path = \"/kaggle/input/bert/tensorflow2/en-uncased-preprocess/3/\""
   ]
  },
  {
   "cell_type": "code",
   "execution_count": 33,
   "id": "759b478e",
   "metadata": {
    "execution": {
     "iopub.execute_input": "2024-06-24T21:59:06.901591Z",
     "iopub.status.busy": "2024-06-24T21:59:06.900945Z",
     "iopub.status.idle": "2024-06-24T21:59:22.429311Z",
     "shell.execute_reply": "2024-06-24T21:59:22.428222Z"
    },
    "papermill": {
     "duration": 15.552303,
     "end_time": "2024-06-24T21:59:22.435841",
     "exception": false,
     "start_time": "2024-06-24T21:59:06.883538",
     "status": "completed"
    },
    "tags": []
   },
   "outputs": [
    {
     "name": "stdout",
     "output_type": "stream",
     "text": [
      "Model: \"model\"\n",
      "__________________________________________________________________________________________________\n",
      " Layer (type)                Output Shape                 Param #   Connected to                  \n",
      "==================================================================================================\n",
      " input_1 (InputLayer)        [(None,)]                    0         []                            \n",
      "                                                                                                  \n",
      " keras_layer (KerasLayer)    {'input_word_ids': (None,    0         ['input_1[0][0]']             \n",
      "                             128),                                                                \n",
      "                              'input_type_ids': (None,                                            \n",
      "                             128),                                                                \n",
      "                              'input_mask': (None, 128)                                           \n",
      "                             }                                                                    \n",
      "                                                                                                  \n",
      " keras_layer_1 (KerasLayer)  {'encoder_outputs': [(None   6368641   ['keras_layer[0][0]',         \n",
      "                             , 128, 128),                            'keras_layer[0][1]',         \n",
      "                              (None, 128, 128),                      'keras_layer[0][2]']         \n",
      "                              (None, 128, 128),                                                   \n",
      "                              (None, 128, 128),                                                   \n",
      "                              (None, 128, 128),                                                   \n",
      "                              (None, 128, 128),                                                   \n",
      "                              (None, 128, 128),                                                   \n",
      "                              (None, 128, 128),                                                   \n",
      "                              (None, 128, 128),                                                   \n",
      "                              (None, 128, 128),                                                   \n",
      "                              (None, 128, 128),                                                   \n",
      "                              (None, 128, 128)],                                                  \n",
      "                              'default': (None, 128),                                             \n",
      "                              'pooled_output': (None, 1                                           \n",
      "                             28),                                                                 \n",
      "                              'sequence_output': (None,                                           \n",
      "                              128, 128)}                                                          \n",
      "                                                                                                  \n",
      " dropout1 (Dropout)          (None, 128)                  0         ['keras_layer_1[0][13]']      \n",
      "                                                                                                  \n",
      " dense_1 (Dense)             (None, 64)                   8256      ['dropout1[0][0]']            \n",
      "                                                                                                  \n",
      " dropout2 (Dropout)          (None, 64)                   0         ['dense_1[0][0]']             \n",
      "                                                                                                  \n",
      " output (Dense)              (None, 1)                    65        ['dropout2[0][0]']            \n",
      "                                                                                                  \n",
      "==================================================================================================\n",
      "Total params: 6376962 (24.33 MB)\n",
      "Trainable params: 6376961 (24.33 MB)\n",
      "Non-trainable params: 1 (1.00 Byte)\n",
      "__________________________________________________________________________________________________\n"
     ]
    }
   ],
   "source": [
    "text_input = tf.keras.layers.Input(shape=(), dtype=tf.string)\n",
    "preprocessor = hub.KerasLayer(preprocess_path)\n",
    "encoder_inputs = preprocessor(text_input)\n",
    "encoder = hub.KerasLayer(\n",
    "    model_path,\n",
    "    trainable=True)\n",
    "outputs = encoder(encoder_inputs)\n",
    "pooled_output = outputs[\"pooled_output\"]      # [batch_size, 512].\n",
    "sequence_output = outputs[\"sequence_output\"]  # [batch_size, seq_length, 512].\n",
    "dense_1 = tf.keras.layers.Dense(128 , activation='relu')(pooled_output)\n",
    "dropout = tf.keras.layers.Dropout(0.7 , name=\"dropout1\")(pooled_output)\n",
    "dense_2 = tf.keras.layers.Dense(64 , activation='relu')(dropout)\n",
    "dropout = tf.keras.layers.Dropout(0.5 , name=\"dropout2\")(dense_2)\n",
    "\n",
    "dense_out = tf.keras.layers.Dense(1 , activation='sigmoid', name='output')(dropout)\n",
    "\n",
    "\n",
    "model = tf.keras.Model(inputs=text_input, outputs=dense_out)\n",
    "model.summary()"
   ]
  },
  {
   "cell_type": "code",
   "execution_count": 34,
   "id": "71720e09",
   "metadata": {
    "execution": {
     "iopub.execute_input": "2024-06-24T21:59:22.479975Z",
     "iopub.status.busy": "2024-06-24T21:59:22.479560Z",
     "iopub.status.idle": "2024-06-24T22:13:57.741745Z",
     "shell.execute_reply": "2024-06-24T22:13:57.740830Z"
    },
    "papermill": {
     "duration": 875.286887,
     "end_time": "2024-06-24T22:13:57.744259",
     "exception": false,
     "start_time": "2024-06-24T21:59:22.457372",
     "status": "completed"
    },
    "tags": []
   },
   "outputs": [
    {
     "name": "stdout",
     "output_type": "stream",
     "text": [
      "Epoch 1/5\n",
      "2845/2845 [==============================] - 240s 68ms/step - loss: 0.1972 - acc: 0.9250 - val_loss: 0.0650 - val_acc: 0.9815\n",
      "Epoch 2/5\n",
      "2845/2845 [==============================] - 156s 55ms/step - loss: 0.0423 - acc: 0.9885 - val_loss: 0.0181 - val_acc: 0.9928\n",
      "Epoch 3/5\n",
      "2845/2845 [==============================] - 156s 55ms/step - loss: 0.0230 - acc: 0.9936 - val_loss: 0.0196 - val_acc: 0.9958\n",
      "Epoch 4/5\n",
      "2845/2845 [==============================] - 155s 54ms/step - loss: 0.0112 - acc: 0.9963 - val_loss: 0.0085 - val_acc: 0.9972\n",
      "Epoch 5/5\n",
      "2845/2845 [==============================] - 151s 53ms/step - loss: 0.0074 - acc: 0.9983 - val_loss: 0.0175 - val_acc: 0.9965\n"
     ]
    }
   ],
   "source": [
    "# https://huggingface.co/google/bert_uncased_L-12_H-128_A-2\n",
    "model.compile(optimizer=tf.keras.optimizers.Adam(learning_rate=5e-5),\n",
    "              loss='binary_crossentropy',\n",
    "              metrics=[\"acc\"])\n",
    "\n",
    "checkpoint_filepath = 'checkpoint.hdf5'\n",
    "metric = 'val_accuracy'\n",
    "callback_list = [tf.keras.callbacks.ModelCheckpoint(filepath=checkpoint_filepath, \n",
    "                                                    monitor=metric,\n",
    "                                                    verbose=2,\n",
    "                                                    save_best_only=True,\n",
    "                                                    mode='max'), \n",
    "                 tf.keras.callbacks.EarlyStopping(monitor=metric,\n",
    "                                                  patience=0,\n",
    "                                                  restore_best_weights=True)\n",
    "                ]\n",
    "history = model.fit(x_train, y_train , batch_size=8, callbacks=[callback_list],\n",
    "                    epochs=5 , validation_data=(x_test, y_test))\n",
    "# model.load_weights(checkpoint_filepath)\n",
    "model.save(\"model-bert\")"
   ]
  },
  {
   "cell_type": "markdown",
   "id": "2026a018",
   "metadata": {
    "papermill": {
     "duration": 0.800261,
     "end_time": "2024-06-24T22:13:59.450920",
     "exception": false,
     "start_time": "2024-06-24T22:13:58.650659",
     "status": "completed"
    },
    "tags": []
   },
   "source": [
    "# Test"
   ]
  },
  {
   "cell_type": "code",
   "execution_count": 35,
   "id": "8c91ea17",
   "metadata": {
    "execution": {
     "iopub.execute_input": "2024-06-24T22:14:01.123806Z",
     "iopub.status.busy": "2024-06-24T22:14:01.122988Z",
     "iopub.status.idle": "2024-06-24T22:15:15.212819Z",
     "shell.execute_reply": "2024-06-24T22:15:15.211702Z"
    },
    "papermill": {
     "duration": 74.97172,
     "end_time": "2024-06-24T22:15:15.214921",
     "exception": false,
     "start_time": "2024-06-24T22:14:00.243201",
     "status": "completed"
    },
    "tags": []
   },
   "outputs": [
    {
     "name": "stdout",
     "output_type": "stream",
     "text": [
      "712/712 [==============================] - 59s 82ms/step - loss: 9.9250e-04 - acc: 0.9996\n",
      "Accuracy on Train data: 0.9995606541633606\n",
      "178/178 [==============================] - 15s 85ms/step - loss: 0.0175 - acc: 0.9965\n",
      "Accuracy on Test data: 0.9964850544929504\n"
     ]
    }
   ],
   "source": [
    "loss , acc = model.evaluate(x_train, y_train)\n",
    "print(\"Accuracy on Train data:\",acc)\n",
    "loss , acc = model.evaluate(x_test, y_test)\n",
    "print(\"Accuracy on Test data:\",acc)"
   ]
  },
  {
   "cell_type": "code",
   "execution_count": 36,
   "id": "6579c9df",
   "metadata": {
    "execution": {
     "iopub.execute_input": "2024-06-24T22:15:17.037482Z",
     "iopub.status.busy": "2024-06-24T22:15:17.037078Z",
     "iopub.status.idle": "2024-06-24T22:15:32.287763Z",
     "shell.execute_reply": "2024-06-24T22:15:32.286540Z"
    },
    "papermill": {
     "duration": 16.10784,
     "end_time": "2024-06-24T22:15:32.290413",
     "exception": false,
     "start_time": "2024-06-24T22:15:16.182573",
     "status": "completed"
    },
    "tags": []
   },
   "outputs": [
    {
     "name": "stdout",
     "output_type": "stream",
     "text": [
      "178/178 [==============================] - 15s 79ms/step\n",
      "0.9964881393624907\n",
      "              precision    recall  f1-score   support\n",
      "\n",
      "           0       1.00      0.99      1.00      2850\n",
      "           1       0.99      1.00      1.00      2840\n",
      "\n",
      "    accuracy                           1.00      5690\n",
      "   macro avg       1.00      1.00      1.00      5690\n",
      "weighted avg       1.00      1.00      1.00      5690\n",
      "\n",
      "0.9964850615114236\n",
      "0.9982394366197183\n",
      "0.9947368421052631\n",
      "0.9964850615114235\n"
     ]
    }
   ],
   "source": [
    "y_pred = model.predict(x_test)\n",
    "y_pred = [1 if pred > 0.5 else 0 for pred in y_pred]\n",
    "print(roc_auc_score(y_test, y_pred))\n",
    "print(classification_report(y_test, y_pred))\n",
    "print(accuracy_score(y_test, y_pred))\n",
    "print(recall_score(y_test, y_pred))\n",
    "print(precision_score(y_test, y_pred))\n",
    "print(f1_score(y_test, y_pred, average='macro'))\n"
   ]
  },
  {
   "cell_type": "code",
   "execution_count": 37,
   "id": "e3c597d4",
   "metadata": {
    "execution": {
     "iopub.execute_input": "2024-06-24T22:15:34.191543Z",
     "iopub.status.busy": "2024-06-24T22:15:34.191148Z",
     "iopub.status.idle": "2024-06-24T22:15:34.277971Z",
     "shell.execute_reply": "2024-06-24T22:15:34.276975Z"
    },
    "papermill": {
     "duration": 0.983773,
     "end_time": "2024-06-24T22:15:34.280136",
     "exception": false,
     "start_time": "2024-06-24T22:15:33.296363",
     "status": "completed"
    },
    "tags": []
   },
   "outputs": [
    {
     "name": "stdout",
     "output_type": "stream",
     "text": [
      "1/1 [==============================] - 0s 30ms/step\n"
     ]
    },
    {
     "data": {
      "text/plain": [
       "array([[9.9999845e-01],\n",
       "       [9.6398032e-01],\n",
       "       [5.4714155e-06]], dtype=float32)"
      ]
     },
     "execution_count": 37,
     "metadata": {},
     "output_type": "execute_result"
    }
   ],
   "source": [
    "y_pred = model.predict(df_test_essay['text'])\n",
    "y_pred"
   ]
  },
  {
   "cell_type": "code",
   "execution_count": 38,
   "id": "aea88d1a",
   "metadata": {
    "execution": {
     "iopub.execute_input": "2024-06-24T22:15:36.100164Z",
     "iopub.status.busy": "2024-06-24T22:15:36.099752Z",
     "iopub.status.idle": "2024-06-24T22:15:36.109083Z",
     "shell.execute_reply": "2024-06-24T22:15:36.108205Z"
    },
    "papermill": {
     "duration": 0.953489,
     "end_time": "2024-06-24T22:15:36.111197",
     "exception": false,
     "start_time": "2024-06-24T22:15:35.157708",
     "status": "completed"
    },
    "tags": []
   },
   "outputs": [],
   "source": [
    "submission_data = {'id': df_test_essay['id'], 'generated': y_pred[:, 0]}\n",
    "submission = pd.DataFrame(submission_data)\n",
    "\n",
    "# Save the DataFrame to a CSV file\n",
    "submission.to_csv('submission.csv', index=False)"
   ]
  },
  {
   "cell_type": "code",
   "execution_count": 39,
   "id": "af26b0b4",
   "metadata": {
    "execution": {
     "iopub.execute_input": "2024-06-24T22:15:37.987999Z",
     "iopub.status.busy": "2024-06-24T22:15:37.987571Z",
     "iopub.status.idle": "2024-06-24T22:15:38.000339Z",
     "shell.execute_reply": "2024-06-24T22:15:37.999314Z"
    },
    "papermill": {
     "duration": 0.963575,
     "end_time": "2024-06-24T22:15:38.002461",
     "exception": false,
     "start_time": "2024-06-24T22:15:37.038886",
     "status": "completed"
    },
    "tags": []
   },
   "outputs": [
    {
     "data": {
      "text/html": [
       "<div>\n",
       "<style scoped>\n",
       "    .dataframe tbody tr th:only-of-type {\n",
       "        vertical-align: middle;\n",
       "    }\n",
       "\n",
       "    .dataframe tbody tr th {\n",
       "        vertical-align: top;\n",
       "    }\n",
       "\n",
       "    .dataframe thead th {\n",
       "        text-align: right;\n",
       "    }\n",
       "</style>\n",
       "<table border=\"1\" class=\"dataframe\">\n",
       "  <thead>\n",
       "    <tr style=\"text-align: right;\">\n",
       "      <th></th>\n",
       "      <th>id</th>\n",
       "      <th>generated</th>\n",
       "    </tr>\n",
       "  </thead>\n",
       "  <tbody>\n",
       "    <tr>\n",
       "      <th>0</th>\n",
       "      <td>0000aaaa</td>\n",
       "      <td>0.999998</td>\n",
       "    </tr>\n",
       "    <tr>\n",
       "      <th>1</th>\n",
       "      <td>1111bbbb</td>\n",
       "      <td>0.963980</td>\n",
       "    </tr>\n",
       "    <tr>\n",
       "      <th>2</th>\n",
       "      <td>2222cccc</td>\n",
       "      <td>0.000005</td>\n",
       "    </tr>\n",
       "  </tbody>\n",
       "</table>\n",
       "</div>"
      ],
      "text/plain": [
       "         id  generated\n",
       "0  0000aaaa   0.999998\n",
       "1  1111bbbb   0.963980\n",
       "2  2222cccc   0.000005"
      ]
     },
     "execution_count": 39,
     "metadata": {},
     "output_type": "execute_result"
    }
   ],
   "source": [
    "pd.read_csv(\"/kaggle/working/submission.csv\")"
   ]
  },
  {
   "cell_type": "code",
   "execution_count": 40,
   "id": "89f42da8",
   "metadata": {
    "execution": {
     "iopub.execute_input": "2024-06-24T22:15:39.810567Z",
     "iopub.status.busy": "2024-06-24T22:15:39.809721Z",
     "iopub.status.idle": "2024-06-24T22:15:39.814821Z",
     "shell.execute_reply": "2024-06-24T22:15:39.813835Z"
    },
    "papermill": {
     "duration": 0.904185,
     "end_time": "2024-06-24T22:15:39.817713",
     "exception": false,
     "start_time": "2024-06-24T22:15:38.913528",
     "status": "completed"
    },
    "tags": []
   },
   "outputs": [
    {
     "name": "stdout",
     "output_type": "stream",
     "text": [
      "done\n"
     ]
    }
   ],
   "source": [
    "print('done')"
   ]
  }
 ],
 "metadata": {
  "kaggle": {
   "accelerator": "gpu",
   "dataSources": [
    {
     "databundleVersionId": 7516023,
     "sourceId": 61542,
     "sourceType": "competition"
    },
    {
     "datasetId": 3961875,
     "sourceId": 6971638,
     "sourceType": "datasetVersion"
    },
    {
     "datasetId": 4005256,
     "sourceId": 6977472,
     "sourceType": "datasetVersion"
    },
    {
     "modelInstanceId": 1902,
     "sourceId": 2628,
     "sourceType": "modelInstanceVersion"
    },
    {
     "modelInstanceId": 2180,
     "sourceId": 2938,
     "sourceType": "modelInstanceVersion"
    }
   ],
   "dockerImageVersionId": 30627,
   "isGpuEnabled": true,
   "isInternetEnabled": false,
   "language": "python",
   "sourceType": "notebook"
  },
  "kernelspec": {
   "display_name": "Python 3",
   "language": "python",
   "name": "python3"
  },
  "language_info": {
   "codemirror_mode": {
    "name": "ipython",
    "version": 3
   },
   "file_extension": ".py",
   "mimetype": "text/x-python",
   "name": "python",
   "nbconvert_exporter": "python",
   "pygments_lexer": "ipython3",
   "version": "3.10.12"
  },
  "papermill": {
   "default_parameters": {},
   "duration": 2670.293224,
   "end_time": "2024-06-24T22:15:44.068886",
   "environment_variables": {},
   "exception": null,
   "input_path": "__notebook__.ipynb",
   "output_path": "__notebook__.ipynb",
   "parameters": {},
   "start_time": "2024-06-24T21:31:13.775662",
   "version": "2.4.0"
  }
 },
 "nbformat": 4,
 "nbformat_minor": 5
}
